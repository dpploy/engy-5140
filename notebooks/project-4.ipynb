{
 "cells": [
  {
   "cell_type": "markdown",
   "metadata": {},
   "source": [
    "Engy-5140: Chemical and Nuclear Waste Processing Fall 2019 UMass Lowell; Prof. V. F. de Almeida **06Dec2019**\n",
    "\n",
    "# Final Project 04 18Dec2019"
   ]
  },
  {
   "cell_type": "markdown",
   "metadata": {},
   "source": [
    "### Name: `your name`"
   ]
  },
  {
   "cell_type": "markdown",
   "metadata": {},
   "source": [
    "### <span style=\"color:red\">Guidance:</span>\n",
    " +  <span style=\"color:red\"> \n",
    "    Work within your team only. Be clear and complete in your answers.\n",
    "    </span>\n",
    " +  <span style=\"color:red\"> \n",
    "    Save your work frequently to a file locally to your computer.\n",
    "    </span>\n",
    " +  <span style=\"color:red\">\n",
    "    During your work and before submitting the final version do: `Kernel` -> `Restart & Run All`, to verify your notebook runs correctly.\n",
    "    </span>\n",
    " +  <span style=\"color:red\">\n",
    "    Save your file again.\n",
    "    </span>"
   ]
  },
  {
   "cell_type": "markdown",
   "metadata": {},
   "source": [
    "---\n",
    "### Table of Contents\n",
    "* [Problem Statement](#statement)\n",
    "* [Problem 1 (100 pts)](#p1)\n",
    "---"
   ]
  },
  {
   "cell_type": "markdown",
   "metadata": {},
   "source": [
    "### <span style=\"color:blue\"> Problem Statement </span> <a id=\"statement\"></a>\n",
    "\n",
    "#### <span style=\"color:blue\"> A SO$_2$-air mixture is scrubbed with water in a trayed tower at 20$^\\circ$C  and 1 atm. Solute-free water enters the top at 1,000 lb/h. The liquid phase leaving the bottom contains 0.6 lb SO$_2$/100 lb of solute-free water. The partial pressure of SO$_2$ in the gas leaving is 23 torr. The mole ratio of water to air is 25. Equilibrium data for solubility of SO$_2$ in H$_2$O at 20 $^\\circ$C is tabulated below. \n",
    "    \n",
    "| lb SO$_2$ / 100 lb H$_2$O | Partial Pressure of SO$_2$ in Air, torr |\n",
    "| ------------------------- |-----------------------------|\n",
    "| 0.02 | 0.5                | \n",
    "| 0.05 | 1.2                | \n",
    "| 0.10 | 3.2                | \n",
    "| 0.15 | 5.8                | \n",
    "| 0.20 | 8.5                | \n",
    "| 0.30 | 14.1               | \n",
    "| 0.50 | 26.0               | \n",
    "| 0.70 | 39.0               | \n",
    "| 1.0  | 59.0               | \n",
    "\n",
    "\n",
    "#### <span style=\"color:blue\"> Using the network modeling approach covered in this course, address the items to follow (based on Seader, Henly, and Roper textbook Separation Process Principles Chap. 6, 2016). </span>"
   ]
  },
  {
   "cell_type": "markdown",
   "metadata": {},
   "source": [
    "### <span style=\"color:blue\"> Problem 1 (100 pts) </span> <a id=\"p1\"></a>"
   ]
  },
  {
   "cell_type": "markdown",
   "metadata": {},
   "source": [
    "1. <span style=\"color:blue\"> Design a trayed column and provide construction/operation parameters. </span>\n",
    "2. <span style=\"color:blue\"> What are the efficiencies of your absorber? </span>\n",
    "1. <span style=\"color:blue\"> What percent of SO$_2$ in the entering gas is absorbed in the tower? </span>\n",
    "4. <span style=\"color:blue\"> What is the mass of SO$_2$ per day leaving the tower in the gas phase?</span>\n",
    "5. <span style=\"color:blue\"> Describe the hazards to humans if the exiting air is inhaled.</span>"
   ]
  },
  {
   "cell_type": "markdown",
   "metadata": {},
   "source": [
    "Answers:"
   ]
  }
 ],
 "metadata": {
  "kernelspec": {
   "display_name": "Python 3",
   "language": "python",
   "name": "python3"
  },
  "language_info": {
   "codemirror_mode": {
    "name": "ipython",
    "version": 3
   },
   "file_extension": ".py",
   "mimetype": "text/x-python",
   "name": "python",
   "nbconvert_exporter": "python",
   "pygments_lexer": "ipython3",
   "version": "3.7.1"
  },
  "latex_envs": {
   "LaTeX_envs_menu_present": true,
   "autoclose": false,
   "autocomplete": true,
   "bibliofile": "biblio.bib",
   "cite_by": "apalike",
   "current_citInitial": 1,
   "eqLabelWithNumbers": true,
   "eqNumInitial": 1,
   "hotkeys": {
    "equation": "Ctrl-E",
    "itemize": "Ctrl-I"
   },
   "labels_anchors": false,
   "latex_user_defs": false,
   "report_style_numbering": false,
   "user_envs_cfg": false
  }
 },
 "nbformat": 4,
 "nbformat_minor": 2
}
