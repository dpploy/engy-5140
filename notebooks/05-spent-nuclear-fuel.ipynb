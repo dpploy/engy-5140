{
 "cells": [
  {
   "cell_type": "markdown",
   "metadata": {},
   "source": [
    "Engy-5140: Chemical and Nuclear Waste Processing Fall 2019 UMass Lowell; Prof. V. F. de Almeida **10Dec2019**\n",
    "\n",
    "# 05. Spent Nuclear Fuel\n",
    "\n",
    "$\n",
    "\\newcommand{\\efacg}{\\mathcal{E}_\\text{G}}\n",
    "\\newcommand{\\Amtrx}{\\boldsymbol{\\mathsf{A}}}\n",
    "\\newcommand{\\xvec}{\\boldsymbol{\\mathsf{x}}}\n",
    "\\newcommand{\\bvec}{\\boldsymbol{\\mathsf{b}}}\n",
    "\\newcommand{\\zerovec}{\\boldsymbol{\\mathsf{0}}}\n",
    "$"
   ]
  },
  {
   "cell_type": "markdown",
   "metadata": {},
   "source": [
    "---\n",
    "\n",
    "## Table of Contents\n",
    "* [Objectives](#objectives)\n",
    "---"
   ]
  },
  {
   "cell_type": "markdown",
   "metadata": {},
   "source": [
    "## Objectives<a id=\"objectives\"></a>\n",
    "\n",
    "+ Overview of spent nuclear fuel reprocessing sources of waste materials."
   ]
  },
  {
   "cell_type": "markdown",
   "metadata": {},
   "source": [
    "## Background<a id=\"background\"></a>\n",
    "\n",
    "+ **Part 1**:\n",
    "In-class course notes OneNote [Engy-5140-gas-absorption](https://studentuml-my.sharepoint.com/:o:/g/personal/valmor_dealmeida_uml_edu/EgSLQ_qlRXNIraMN2-7LrDkBu_DQlxQ6dPfNPN8qQnMjlA?e=T0GO0K)."
   ]
  },
  {
   "cell_type": "code",
   "execution_count": null,
   "metadata": {},
   "outputs": [],
   "source": []
  }
 ],
 "metadata": {
  "kernelspec": {
   "display_name": "Python 3",
   "language": "python",
   "name": "python3"
  },
  "language_info": {
   "codemirror_mode": {
    "name": "ipython",
    "version": 3
   },
   "file_extension": ".py",
   "mimetype": "text/x-python",
   "name": "python",
   "nbconvert_exporter": "python",
   "pygments_lexer": "ipython3",
   "version": "3.7.1"
  },
  "latex_envs": {
   "LaTeX_envs_menu_present": true,
   "autoclose": false,
   "autocomplete": true,
   "bibliofile": "biblio.bib",
   "cite_by": "apalike",
   "current_citInitial": 1,
   "eqLabelWithNumbers": true,
   "eqNumInitial": 1,
   "hotkeys": {
    "equation": "Ctrl-E",
    "itemize": "Ctrl-I"
   },
   "labels_anchors": false,
   "latex_user_defs": false,
   "report_style_numbering": false,
   "user_envs_cfg": false
  }
 },
 "nbformat": 4,
 "nbformat_minor": 2
}
