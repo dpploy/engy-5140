{
 "cells": [
  {
   "cell_type": "markdown",
   "metadata": {},
   "source": [
    "Engy-5140: Chemical and Nuclear Waste Processing Fall 2019 UMass Lowell; Prof. V. F. de Almeida **05Sep2019**\n",
    "\n",
    "# 01. Fundamentals"
   ]
  },
  {
   "cell_type": "markdown",
   "metadata": {},
   "source": [
    "---\n",
    "\n",
    "## Table of Contents\n",
    "* [Introduction notes](#intro)\n",
    "* [Information sites](#sites)\n",
    "* [Example of class and amount of hazardous waste generation](#hwmass)\n",
    "* [Physicochemical transport elements](#physchem)\n",
    "---"
   ]
  },
  {
   "cell_type": "markdown",
   "metadata": {},
   "source": [
    "## Introduction to hazardous waste<a id=\"intro\"></a>\n",
    "\n",
    "In-class course notes OneNote [Engy-5140-fundamentals](https://studentuml-my.sharepoint.com/:o:/g/personal/valmor_dealmeida_uml_edu/EqIHPUrswOJIpDIwsL_g-n4BzbIZs8nAfCPpUyZ8G52Ltg?e=6peW6n)."
   ]
  },
  {
   "cell_type": "markdown",
   "metadata": {},
   "source": [
    "## Important information sites<a id=\"sites\"></a>\n",
    "\n",
    " + Environmental protection agency [EPA](https://www.epa.gov/):\n",
    "  - [Hazardous waste](https://www.epa.gov/hw)\n",
    "    - [Identification Process](https://www.epa.gov/hw/criteria-definition-solid-waste-and-solid-and-hazardous-waste-exclusions#solidwaste): \"It is important to note that the definition of **solid waste** is not limited to wastes that are physically solid. Many solid wastes are liquid, semi-solid, or contained gaseous material.\"\n",
    "    - [Hazardous waste classification](https://www.epa.gov/hw/criteria-definition-solid-waste-and-solid-and-hazardous-waste-exclusions#solidwaste)\n",
    "      + [Listed waste](https://www.epa.gov/hw/defining-hazardous-waste-listed-characteristic-and-mixed-radiological-wastes#listed)\n",
    "      + [Characteristic waste](https://www.epa.gov/hw/defining-hazardous-waste-listed-characteristic-and-mixed-radiological-wastes#character)\n",
    "      + [Household waste](https://www.epa.gov/hw/household-hazardous-waste-hhw)\n",
    "    - Waste characterization data: use online search on MSDS or SDS (safety data sheet).\n",
    "       * Example: [`DDT safety data sheet sigma-aldrich`](https://www.sigmaaldrich.com/MSDS/MSDS/DisplayMSDSPage.do?country=US&language=en&productNumber=386340&brand=ALDRICH&PageToGoToURL=https%3A%2F%2Fwww.sigmaaldrich.com%2Fcatalog%2Fproduct%2Faldrich%2F386340%3Flang%3Den)\n",
    "       * [PubChem Chemical Data](https://pubchem.ncbi.nlm.nih.gov/)\n",
    "          - Check on DDT and n-octanol\n",
    "    - \"Solid waste\" test methods\n",
    "      + [EPA SW846](https://www.epa.gov/hw-sw846/sw-846-compendium)\n",
    "      + [EPA SW846 for toxicity](https://www.epa.gov/hw-sw846/sw-846-test-method-1311-toxicity-characteristic-leaching-procedure)\n",
    "    - [Generators](https://www.epa.gov/hwgenerators)\n",
    "      + [Biennial report](https://www.epa.gov/hwgenerators/biennial-hazardous-waste-report)\n",
    "      + [US data reported](https://rcrapublic.epa.gov/rcrainfoweb/action/modules/br/summary/view)\n",
    "      + [US data reported (raw)](https://rcrapublic.epa.gov/rcra-public-export/)\n",
    "      + [US states regulatory programs](https://www.epa.gov/hwgenerators/links-hazardous-waste-programs-and-us-state-environmental-agencies)\n",
    "  - [Regulated substances search (EPA)](https://ofmpub.epa.gov/sor_internet/registry/substreg/LandingPage.do)\n",
    "  - [Toxic substances (EPA)](https://www.epa.gov/chemical-research/distributed-structure-searchable-toxicity-dsstox-database)\n",
    "    + [Health Effects Notebook of Hazardous Air Pollutants](https://www.epa.gov/haps/health-effects-notebook-hazardous-air-pollutants)\n",
    "  - [Toxic substances (CDC)](https://www.atsdr.cdc.gov/toxfaqs/index.asp)\n",
    "  - [Toxic substances (NIH)](https://toxnet.nlm.nih.gov/newtoxnet/index.html)\n",
    " + Resource Conservation and Recovery Act 1976 (**RCRA**):\n",
    "  - [@ EPA](https://www.epa.gov/rcra)\n",
    "  - [@ Wikipedia](https://en.wikipedia.org/wiki/Resource_Conservation_and_Recovery_Act)\n",
    " + Comprehensive Environmental Response Compensation and Liability Act 1980 (**CERCLA**), called **Superfund**:\n",
    "   - [Summary](https://www.epa.gov/laws-regulations/summary-comprehensive-environmental-response-compensation-and-liability-act)\n",
    "   - [Overview](https://www.epa.gov/superfund/superfund-cercla-overview)"
   ]
  },
  {
   "cell_type": "code",
   "execution_count": 42,
   "metadata": {},
   "outputs": [
    {
     "name": "stdout",
     "output_type": "stream",
     "text": [
      "vapor pressure [mmHg] = 1.575e-06\n",
      "\n",
      "Partition C8H17OH/H2O = 8.128e+06\n"
     ]
    }
   ],
   "source": [
    "'''Check on DDT SDS'''\n",
    "\n",
    "import scipy.constants as const\n",
    "\n",
    "vapor_pressure = 0.0000021 * const.hecto\n",
    "print('vapor pressure [mmHg] = %1.3e'%(vapor_pressure/const.mmHg))\n",
    "print('')\n",
    "\n",
    "log_partition_coef = 6.91\n",
    "partition = 10**log_partition_coef\n",
    "print('Partition C8H17OH/H2O = %1.3e'%partition)"
   ]
  },
  {
   "cell_type": "markdown",
   "metadata": {},
   "source": [
    "## HW Generator<a id=\"hwmass\"></a>\n",
    "\n",
    "Using this engine\n",
    "\n",
    " + [Search engine](https://rcrapublic.epa.gov/rcrainfoweb/action/modules/br/summary/view)\n",
    "\n",
    "find the mass of hazardous waste generated by Massachusetts in 2017. Then look at the top five large-quantity generators and the waste classification for the top generator."
   ]
  },
  {
   "cell_type": "code",
   "execution_count": null,
   "metadata": {},
   "outputs": [],
   "source": []
  }
 ],
 "metadata": {
  "kernelspec": {
   "display_name": "Python 3",
   "language": "python",
   "name": "python3"
  },
  "language_info": {
   "codemirror_mode": {
    "name": "ipython",
    "version": 3
   },
   "file_extension": ".py",
   "mimetype": "text/x-python",
   "name": "python",
   "nbconvert_exporter": "python",
   "pygments_lexer": "ipython3",
   "version": "3.7.1"
  },
  "latex_envs": {
   "LaTeX_envs_menu_present": true,
   "autoclose": false,
   "autocomplete": true,
   "bibliofile": "biblio.bib",
   "cite_by": "apalike",
   "current_citInitial": 1,
   "eqLabelWithNumbers": true,
   "eqNumInitial": 1,
   "hotkeys": {
    "equation": "Ctrl-E",
    "itemize": "Ctrl-I"
   },
   "labels_anchors": false,
   "latex_user_defs": false,
   "report_style_numbering": false,
   "user_envs_cfg": false
  }
 },
 "nbformat": 4,
 "nbformat_minor": 2
}
