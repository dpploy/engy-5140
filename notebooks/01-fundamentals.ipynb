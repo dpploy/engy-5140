{
 "cells": [
  {
   "cell_type": "markdown",
   "metadata": {},
   "source": [
    "Engy-5140: Chemical and Nuclear Waste Processing Fall 2019 UMass Lowell; Prof. V. F. de Almeida **05Sep2019**\n",
    "\n",
    "# 01. Fundamentals"
   ]
  },
  {
   "cell_type": "markdown",
   "metadata": {},
   "source": [
    "---\n",
    "\n",
    "## Table of Contents\n",
    "* [Introduction notes](#intro)\n",
    "* [Sites](#sites)\n",
    "---"
   ]
  },
  {
   "cell_type": "markdown",
   "metadata": {},
   "source": [
    "## Introduction to hazardous waste<a id=\"intro\"></a>\n",
    "\n",
    "In-class course notes OneNote [Engy-5140-fundamentals](https://studentuml-my.sharepoint.com/:o:/g/personal/valmor_dealmeida_uml_edu/EqIHPUrswOJIpDIwsL_g-n4BzbIZs8nAfCPpUyZ8G52Ltg?e=6peW6n)."
   ]
  },
  {
   "cell_type": "markdown",
   "metadata": {},
   "source": [
    "## Important information sites<a id=\"sites\"></a>\n",
    "\n",
    " + Environmental protection agency [EPA](https://www.epa.gov/):\n",
    "  - [Hazardous waste](https://www.epa.gov/hw)\n",
    "    - [Identification Process](https://www.epa.gov/hw/criteria-definition-solid-waste-and-solid-and-hazardous-waste-exclusions#solidwaste): \"It is important to note that the definition of **solid waste** is not limited to wastes that are physically solid. Many solid wastes are liquid, semi-solid, or contained gaseous material.\"\n",
    "    - [Listed hazardous waste](https://www.epa.gov/hw/defining-hazardous-waste-listed-characteristic-and-mixed-radiological-wastes)\n",
    " + Resource Conservation and Recovery Act 1976 (**RCRA**):\n",
    "  - [@ EPA](https://www.epa.gov/rcra)\n",
    "  - [@ Wikipedia](https://en.wikipedia.org/wiki/Resource_Conservation_and_Recovery_Act)\n",
    " + Comprehensive Environmental Response Compensation and Liability Act 1980 (**CERCLA**), called **Superfund**:\n",
    "   - [Summary](https://www.epa.gov/laws-regulations/summary-comprehensive-environmental-response-compensation-and-liability-act)\n",
    "   - [Overview](https://www.epa.gov/superfund/superfund-cercla-overview)"
   ]
  },
  {
   "cell_type": "code",
   "execution_count": null,
   "metadata": {},
   "outputs": [],
   "source": []
  }
 ],
 "metadata": {
  "kernelspec": {
   "display_name": "Python 3",
   "language": "python",
   "name": "python3"
  },
  "language_info": {
   "codemirror_mode": {
    "name": "ipython",
    "version": 3
   },
   "file_extension": ".py",
   "mimetype": "text/x-python",
   "name": "python",
   "nbconvert_exporter": "python",
   "pygments_lexer": "ipython3",
   "version": "3.7.1"
  },
  "latex_envs": {
   "LaTeX_envs_menu_present": true,
   "autoclose": false,
   "autocomplete": true,
   "bibliofile": "biblio.bib",
   "cite_by": "apalike",
   "current_citInitial": 1,
   "eqLabelWithNumbers": true,
   "eqNumInitial": 1,
   "hotkeys": {
    "equation": "Ctrl-E",
    "itemize": "Ctrl-I"
   },
   "labels_anchors": false,
   "latex_user_defs": false,
   "report_style_numbering": false,
   "user_envs_cfg": false
  }
 },
 "nbformat": 4,
 "nbformat_minor": 2
}
