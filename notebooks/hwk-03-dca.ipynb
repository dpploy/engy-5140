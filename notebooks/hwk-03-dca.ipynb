{
 "cells": [
  {
   "cell_type": "markdown",
   "metadata": {},
   "source": [
    "Engy-5140: Chemical and Nuclear Waste Processing Fall 2019 UMass Lowell; Prof. V. F. de Almeida **28Oct2019**\n",
    "\n",
    "# Homework 03 28Oct2019 Solution DCA\n",
    "\n",
    "$\n",
    "\\newcommand{\\efacg}{\\mathcal{E}_\\text{G}}\n",
    "\\newcommand{\\Amtrx}{\\boldsymbol{\\mathsf{A}}}\n",
    "\\newcommand{\\xvec}{\\boldsymbol{\\mathsf{x}}}\n",
    "\\newcommand{\\bvec}{\\boldsymbol{\\mathsf{b}}}\n",
    "\\newcommand{\\zerovec}{\\boldsymbol{\\mathsf{0}}}\n",
    "$"
   ]
  },
  {
   "cell_type": "markdown",
   "metadata": {},
   "source": [
    "### Name: `your name`"
   ]
  },
  {
   "cell_type": "markdown",
   "metadata": {},
   "source": [
    "### <span style=\"color:red\">Guidance:</span>\n",
    " +  <span style=\"color:red\"> \n",
    "    Individual work. Be clear and complete in your answers.\n",
    "    </span>\n",
    " +  <span style=\"color:red\"> \n",
    "    Save your work frequently to a file locally to your computer.\n",
    "    </span>\n",
    " +  <span style=\"color:red\">\n",
    "    During your work and before submitting the final version do: `Kernel` -> `Restart & Run All`, to verify your notebook runs correctly.\n",
    "    </span>\n",
    " +  <span style=\"color:red\">\n",
    "    Save your file again.\n",
    "    </span>"
   ]
  },
  {
   "cell_type": "markdown",
   "metadata": {},
   "source": [
    "---\n",
    "### Table of Contents\n",
    "* [Problem Statement](#statement)\n",
    "* [Notes](#notes)\n",
    "* [Problem 1 (50 pts)](#p1)\n",
    "* [Problem 2 (50 pts)](#p2)\n",
    "---"
   ]
  },
  {
   "cell_type": "markdown",
   "metadata": {},
   "source": [
    "### <span style=\"color:blue\"> Problem Statement </span> <a id=\"statement\"></a>\n",
    "\n",
    "#### <span style=\"color:blue\"> Ground water at volumetric flow rate of 1,500 gpm, containing three volatile organic compounds (VOCs), is to be treated by countercurrent air stripping in a trayed column to produce drinking water that meets EPA standards (see data below). </span>\n",
    "\n",
    "\n",
    "| Component | K-value | Groundwater (ppm) | EPA drinking water tolerance (ppm) | ($\\mu$g/L) |\n",
    "| --------- | ------- | ----------- | ---------------------------- |----|\n",
    "| 1,2-Dichloroethane (DCA) | 60 | 85 | 0.005 | 5 |\n",
    "| Trichloroethylene (TCE) | 650 | 120 | 0.005 |  5 |\n",
    "| 1,1,1-Trichloroethane (TCA) | 275 | 145 | 0.200 | 200 |\n",
    "\n",
    "ppm is parts per million by mass (assume 1 ppm in water = 1 mg/L).\n",
    "\n",
    "#### <span style=\"color:blue\"> Using the network modeling approach covered in this course, provide answers to the problems below (based on Seader, Henly, and Roper textbook Separation Process Principles Chap. 6, 2016) . </span>"
   ]
  },
  {
   "cell_type": "markdown",
   "metadata": {},
   "source": [
    "### <span style=\"color:blue\"> Notes </span> <a id=\"notes\"></a>\n",
    "\n",
    "Some notes for this problem:\n",
    "\n",
    "  + In-class course notes OneNote [Engy-5140-noneq-absorption](https://studentuml-my.sharepoint.com/:o:/g/personal/valmor_dealmeida_uml_edu/EgwN25gp8ytGpdRItJdVRf4B7s_LLH76ODb7f6lSscvMCg?e=LqhrPg).\n",
    "  + In-class course notes OneNote [Engy-hwk03-notes](https://studentuml-my.sharepoint.com/:o:/g/personal/valmor_dealmeida_uml_edu/EnudBfSpdE5NgGYxZx0cGQ0BdPPXIArbtNlI0CFrrepKig?e=CjwuAy)."
   ]
  },
  {
   "cell_type": "markdown",
   "metadata": {},
   "source": [
    "### <span style=\"color:blue\"> Problem 1 (50 pts) </span> <a id=\"p1\"></a>"
   ]
  },
  {
   "cell_type": "markdown",
   "metadata": {},
   "source": [
    "1. <span style=\"color:blue\"> Compute the minimum air flow rate in scfm (60$^\\circ$F, 1 atm).</span> [Answer p1.1](#ap11)\n",
    "2. <span style=\"color:blue\"> Compute the number of equilibrium stages (or nodes) if the air flow rate is twice the minimum required and the tower operates at 25$^\\circ$C and 1 atm.</span> [Answer p1.2](#ap12)\n",
    "3. <span style=\"color:blue\"> Compute the composition of each VOC in ppm (parts per million) in the resulting drinking water.</span> [Answer p1.3](#ap13)\n",
    "4. <span style=\"color:blue\"> Compare the K-values provided against tabulated values of the Henry's constant in the literature (see the Harzardous Waste reference book).</span> [Answer p1.4](#ap14)\n",
    "\n",
    "| Component | A | B | H [atm m$^3$/mol]; T(K) |\n",
    "| --------- | ------- | ---------------------------- |-----|\n",
    "| 1,2-Dichloroethane (DCA) | -4.02 10$^3$ | 6.94 | $\\ln H = \\frac{A}{T} + B$ |\n",
    "| Trichloroethylene (TCE) | 1.14 10 | 4.78 10$^3$  | $H=\\exp(A - \\frac{B}{T})$ |\n",
    "| 1,1,1-Trichloroethane (TCA) | 9.78 | 4.13 10$^3$  | $H=\\exp(A - \\frac{B}{T})$ |"
   ]
  },
  {
   "cell_type": "code",
   "execution_count": 1,
   "metadata": {
    "code_folding": [
     2
    ]
   },
   "outputs": [],
   "source": [
    "'''Plot Diagram Function'''\n",
    "\n",
    "def plot_diagram(xpts,ypts):\n",
    "    \n",
    "    import matplotlib.pyplot as plt\n",
    "    import numpy as np\n",
    "\n",
    "    plt.figure(1, figsize=(15, 6))\n",
    "\n",
    "    xpts = np.array(xpts)\n",
    "    ypts = np.array(ypts)\n",
    "\n",
    "    # plot equilibrium line\n",
    "    plt.plot( (0,xpts.max()), (0,eq_func(xpts.max())),'ro-',label='Equilibrium Line')\n",
    "    \n",
    "    # plot operating line\n",
    "    plt.plot( op_func(ypts), ypts,'b-',label='Operating Line' )\n",
    "\n",
    "    # plot all step off diagram nodes\n",
    "    plt.plot( xpts, ypts, 'ko-',label='Stepping off' )\n",
    "\n",
    "    plt.xlabel(r'$\\rho_{A,L}$ [mg/L]',fontsize=18)\n",
    "    plt.ylabel(r'$\\rho_{A,G}$ [mg/L]',fontsize=18)\n",
    "    plt.title(r'Gas Stripping Diagram T=%2.1f C'%unit.convert_temperature(temp,'K','C'),fontsize=20)\n",
    "    plt.legend(loc='best',fontsize=12)\n",
    "    plt.xticks(fontsize=16)\n",
    "    plt.yticks(fontsize=16)\n",
    "    \n",
    "    plt.grid()\n",
    "    plt.show()\n",
    "    print('')"
   ]
  },
  {
   "cell_type": "code",
   "execution_count": 2,
   "metadata": {
    "code_folding": [
     2
    ]
   },
   "outputs": [],
   "source": [
    "'''Plot Solution Function'''\n",
    "\n",
    "def plot_solution(table):\n",
    "    \n",
    "    import matplotlib.pyplot as plt\n",
    "    import numpy as np\n",
    "\n",
    "    (fig, ax) = plt.subplots(figsize=(15,6))\n",
    "\n",
    "    # liquid solute concentration\n",
    "    ax.plot( range(len(table['k'])), table['rho_A_L(k)'], 'bo-',label=r'$\\rho_{A,L}$' )\n",
    "    ax.plot( range(len(table['k'])), table['rho_A_G(k)'], 'o-',color='orange',label=r'$\\rho_{A,G}$' )\n",
    "    \n",
    "    plt.xticks(range(len(table['k'])),['node-'+str(k) for k in table['k']],rotation=30,fontsize=12)\n",
    "\n",
    "    #plt.xlabel(r'k',fontsize=18)\n",
    "    plt.ylabel(r'$\\rho_{A,\\alpha}$ [mg/L]',fontsize=18)\n",
    "    plt.title(r'Gas Absorption Solution T=%2.1f C'%unit.convert_temperature(temp,'K','C'),fontsize=20)\n",
    "    plt.legend(loc='best',fontsize=12)\n",
    "    plt.xticks(fontsize=16)\n",
    "    plt.yticks(fontsize=16)\n",
    "    \n",
    "    plt.grid()\n",
    "    plt.show()\n",
    "    print('')"
   ]
  },
  {
   "cell_type": "code",
   "execution_count": 3,
   "metadata": {},
   "outputs": [],
   "source": [
    "'''Conditions'''\n",
    "\n",
    "# Preliminaries\n",
    "import math\n",
    "import pandas as pd\n",
    "import scipy.constants as unit\n",
    "\n",
    "# SI units conversion\n",
    "unit.meter  = 1.0\n",
    "unit.mol    = 1.0\n",
    "unit.ppm    = 1e-6\n",
    "unit.second = 1.0\n",
    "unit.centimeter   = unit.centi*unit.meter\n",
    "unit.millimeter   = unit.milli*unit.meter\n",
    "unit.mg_per_liter = unit.milli*unit.gram/unit.liter\n",
    "unit.gpm          = unit.gallon/unit.minute\n",
    "unit.cfm          = unit.foot**3/unit.minute\n",
    "unit.gmol         = unit.gram/unit.mol\n",
    "\n",
    "# Parameters\n",
    "temp_C = 25\n",
    "temp   = unit.convert_temperature(temp_C,'C','K')\n",
    "\n",
    "pressure = 1 * unit.atm\n",
    "\n",
    "f_L = 1500 * unit.gpm"
   ]
  },
  {
   "cell_type": "code",
   "execution_count": 4,
   "metadata": {},
   "outputs": [
    {
     "name": "stdout",
     "output_type": "stream",
     "text": [
      "Temperture = 25.0000 [C]  = 77.0000 [F] = 298.1500 [K] \n",
      "Pressure   = 101325.0000 [Pa] = 1.0000 [atm] \n",
      "\n",
      "Flowrate L     = 0.0946 [m^3/s] = 1500.0000 [gpm]\n",
      "Flowrate G min = 1.3282 [m^3/s] = 21053.0297 [gpm] = 2814.3807 [cfm]\n",
      "\n",
      "F_G_min/F_L = 14.0354\n",
      "\n",
      "Partition coef. modified [] = 0.0712\n",
      "\n",
      "Min stripping factor = 0.99994\n"
     ]
    }
   ],
   "source": [
    "'''Air stripping of 1,2-dichloroethane from water'''\n",
    "\n",
    "print('Temperture = %5.4f [C]  = %5.4f [F] = %5.4f [K] '%(temp_C, unit.convert_temperature(temp_C,'C','F'),\n",
    "                                                                temp))\n",
    "print('Pressure   = %5.4f [Pa] = %5.4f [atm] '%(pressure, pressure/unit.atm))\n",
    "print('')\n",
    "\n",
    "mass_dens_L  = 997.05 * unit.kilo * unit.gram / unit.meter**3 # (assume pure H2O at 25C)\n",
    "\n",
    "molar_mass_air = 28.9647 * unit.gmol                # (molar mass of dry air)\n",
    "molar_mass_G   = molar_mass_air\n",
    "\n",
    "partition_coef = 60\n",
    "\n",
    "partition_coef_mod = partition_coef * molar_mass_G * pressure / unit.R / temp / mass_dens_L\n",
    "\n",
    "# Top of tower\n",
    "w_A_L_N1   = 85 * unit.ppm         # mass fraction\n",
    "rho_A_L_N1 = mass_dens_L * w_A_L_N1 # mass concentration\n",
    "\n",
    "# Bottom of tower\n",
    "w_A_L_1    = 0.005 * unit.ppm\n",
    "rho_A_L_1  = mass_dens_L * w_A_L_1 \n",
    "\n",
    "# Bottom of tower\n",
    "rho_A_G_0  = 0.0\n",
    "\n",
    "# Overall mass balance with equilibrium condition at the top end\n",
    "f_G_min = f_L / partition_coef_mod * ( 1 - rho_A_L_1/rho_A_L_N1 )\n",
    "\n",
    "f_G_f_L_ratio_min = f_G_min / f_L\n",
    "\n",
    "# Stripping factor\n",
    "strip_factor_min = f_G_f_L_ratio_min / partition_coef_mod**-1\n",
    "\n",
    "print('Flowrate L     = %5.4f [m^3/s] = %5.4f [gpm]'%(f_L, f_L/unit.gpm))\n",
    "print('Flowrate G min = %5.4f [m^3/s] = %5.4f [gpm] = %5.4f [cfm]'%(f_G_min, f_G_min/unit.gpm, f_G_min/unit.cfm))\n",
    "print('')\n",
    "print('F_G_min/F_L = %5.4f'%(f_G_f_L_ratio_min))\n",
    "print('')\n",
    "print('Partition coef. modified [] = %5.4f'%(partition_coef_mod))\n",
    "\n",
    "print('')\n",
    "print('Min stripping factor = %5.5f'%strip_factor_min)"
   ]
  },
  {
   "cell_type": "code",
   "execution_count": 5,
   "metadata": {},
   "outputs": [
    {
     "name": "stdout",
     "output_type": "stream",
     "text": [
      "Target [A] in exiting gas = 6.038 [mg/L]\n",
      "\n",
      "Molar mass of air        [g/mol] =  28.9647\n",
      "Molar mass of gas (mean) [g/mol] =  29.016939648390302\n",
      "\n",
      "Flowrate G min [scfm] = 2725.2301\n"
     ]
    }
   ],
   "source": [
    "'''Standard cubic feet per minute calculation'''\n",
    "\n",
    "# Overall mass balance\n",
    "rho_A_G_N = ( rho_A_L_N1 - rho_A_L_1 ) / f_G_f_L_ratio_min\n",
    "print('Target [A] in exiting gas = %5.3f [mg/L]'%(rho_A_G_N/unit.mg_per_liter))\n",
    "\n",
    "# Averate molar mass of the gas\n",
    "molar_mass_DCA = 98.95 * unit.gmol\n",
    "rho_A_G_mean = (0 + rho_A_G_N)/2.0\n",
    "molar_mass_G = molar_mass_air + (1 - molar_mass_air/molar_mass_DCA) * rho_A_G_mean * unit.R * temp / pressure\n",
    "print('')\n",
    "print('Molar mass of air        [g/mol] = ', molar_mass_air/unit.gmol)\n",
    "print('Molar mass of gas (mean) [g/mol] = ', molar_mass_G/unit.gmol)\n",
    "\n",
    "p_std = 1 * unit.atm\n",
    "v_std = 1 * unit.foot**3\n",
    "t_std = unit.convert_temperature(60,'F','K')\n",
    "n_std = p_std * v_std / unit.R / t_std\n",
    "\n",
    "mass_dens_G = pressure * molar_mass_G / unit.R / temp\n",
    "f_G_min_scfm = f_G_min*unit.minute * mass_dens_G / molar_mass_G / n_std\n",
    "print('')\n",
    "print('Flowrate G min [scfm] = %5.4f'%(f_G_min_scfm))"
   ]
  },
  {
   "cell_type": "markdown",
   "metadata": {},
   "source": [
    "Answer 1.1)<a id=\"ap11\"></a>: Flowrate G min [scfm] = 2725.2301  "
   ]
  },
  {
   "cell_type": "code",
   "execution_count": 6,
   "metadata": {},
   "outputs": [
    {
     "name": "stdout",
     "output_type": "stream",
     "text": [
      "Flow rate G = 2.6565 [m^3/s] = 42106.0594 [gpm]\n",
      "F_G/F_L = 28.0707\n",
      "Stripping factor = 1.9999\n",
      "Target [A] in exiting gas = 3.019 [mg/L]\n",
      "\n",
      "Number of equilibrium stages =  14\n",
      "\n",
      "Mass Concentrations [mg/L] at T = 25.00\n",
      "     k  rho_A_L(k)  rho_A_G(k)  rho_A_L(k+1)\n",
      "0    1    4.99E-03    3.55E-04      1.50E-02\n",
      "1    2    1.50E-02    1.07E-03      3.49E-02\n",
      "2    3    3.49E-02    2.49E-03      7.48E-02\n",
      "3    4    7.48E-02    5.33E-03      1.55E-01\n",
      "4    5    1.55E-01    1.10E-02      3.14E-01\n",
      "5    6    3.14E-01    2.24E-02      6.33E-01\n",
      "6    7    6.33E-01    4.51E-02      1.27E+00\n",
      "7    8    1.27E+00    9.05E-02      2.55E+00\n",
      "8    9    2.55E+00    1.81E-01      5.10E+00\n",
      "9   10    5.10E+00    3.63E-01      1.02E+01\n",
      "10  11    1.02E+01    7.27E-01      2.04E+01\n",
      "11  12    2.04E+01    1.45E+00      4.08E+01\n",
      "12  13    4.08E+01    2.91E+00      8.16E+01\n",
      "13  14    8.16E+01    5.81E+00      1.63E+02\n",
      "\n",
      "Concentration of A in exiting gas [mg/L] = 5.815e+00\n",
      "\n",
      "Molar mass of air        [g/mol] =  28.9647\n",
      "Molar mass of gas (mean) [g/mol] =  28.979068450160472\n"
     ]
    }
   ],
   "source": [
    "'''Air stripping of 1,2-dichloroethane from water'''\n",
    "\n",
    "f_G = 2 * f_G_min  # from problem statement\n",
    "\n",
    "f_G_f_L_ratio = f_G / f_L\n",
    "strip_factor = f_G_f_L_ratio / partition_coef_mod**-1\n",
    "\n",
    "print('Flow rate G = %5.4f [m^3/s] = %5.4f [gpm]'%(f_G, f_G/unit.gpm))\n",
    "print('F_G/F_L = %5.4f'%(f_G_f_L_ratio))\n",
    "print('Stripping factor = %5.4f'%strip_factor)\n",
    "\n",
    "# Overall mass balance\n",
    "rho_A_G_N = ( rho_A_L_N1 - rho_A_L_1 ) / f_G_f_L_ratio\n",
    "print('Target [A] in exiting gas = %5.3f [mg/L]'%(rho_A_G_N/unit.mg_per_liter))\n",
    "\n",
    "# Equilibrium line definition: y = a x\n",
    "eq_func = lambda x: partition_coef_mod * x\n",
    "\n",
    "# Operating line definition: x = a y + b\n",
    "op_slope = strip_factor * partition_coef_mod**-1\n",
    "b = rho_A_L_1  # intercept point\n",
    "op_func = lambda y: op_slope * y + b\n",
    "\n",
    "# Data storage for graphical output\n",
    "xpts = list() # x coord. for solution plotting\n",
    "ypts = list() # y coord. for solution plotting\n",
    "xpts.append( rho_A_L_1 )\n",
    "ypts.append( rho_A_G_0 )\n",
    "\n",
    "# Data storage for a table output\n",
    "table = dict()\n",
    "table['k']            = list()\n",
    "table['rho_A_L(k)']   = list()\n",
    "table['rho_A_G(k)']   = list()\n",
    "table['rho_A_L(k+1)'] = list()\n",
    "\n",
    "# Solve for mass concentrations in the network tower\n",
    "# Start at the bottom and move towards the top\n",
    "\n",
    "rho_A_L_k = rho_A_L_1\n",
    "rho_A_G_k = rho_A_G_0\n",
    "\n",
    "k_node     = 0\n",
    "k_node_max = 50\n",
    "while rho_A_G_k <= rho_A_G_N and k_node <= k_node_max:\n",
    "    \n",
    "    table['rho_A_L(k)'].append(rho_A_L_k/unit.mg_per_liter)\n",
    "    \n",
    "    # Compute equilibrium point\n",
    "    rho_A_G_k = eq_func(rho_A_L_k)\n",
    "    \n",
    "    xpts.append( rho_A_L_k/unit.mg_per_liter )\n",
    "    ypts.append( rho_A_G_k/unit.mg_per_liter )\n",
    "    \n",
    "    table['rho_A_G(k)'].append(rho_A_G_k/unit.mg_per_liter)\n",
    "    \n",
    "    # Compute operating line point\n",
    "    rho_A_L_k = op_func(rho_A_G_k) # overwrite k with k+1\n",
    "    \n",
    "    xpts.append(rho_A_L_k/unit.mg_per_liter)\n",
    "    ypts.append(rho_A_G_k/unit.mg_per_liter)\n",
    "    \n",
    "    table['rho_A_L(k+1)'].append(rho_A_L_k/unit.mg_per_liter)\n",
    "    \n",
    "    k_node += 1\n",
    "    \n",
    "    table['k'].append(k_node)\n",
    "\n",
    "n_eq_stages = k_node\n",
    "\n",
    "print('')\n",
    "print('Number of equilibrium stages = ',n_eq_stages)\n",
    "\n",
    "import pandas as pd\n",
    "pd.set_option('display.float_format', '{:.2E}'.format)\n",
    "\n",
    "df = pd.DataFrame(table)\n",
    "print('')\n",
    "print('Mass Concentrations [mg/L] at T = %2.2f'%unit.convert_temperature(temp,'K','C'))\n",
    "print(df)\n",
    "\n",
    "print('')\n",
    "print('Concentration of A in exiting gas [mg/L] = %1.3e'%(table['rho_A_G(k)'][-1]))\n",
    "\n",
    "# Sanity check: compute the average molar mass of the gas\n",
    "rho_A_G_mean = df['rho_A_G(k)'].mean() * unit.mg_per_liter\n",
    "molar_mass_G = molar_mass_air + (1 - molar_mass_air/molar_mass_DCA) * rho_A_G_mean * unit.R * temp / pressure\n",
    "print('')\n",
    "print('Molar mass of air        [g/mol] = ',molar_mass_air/unit.gmol)\n",
    "print('Molar mass of gas (mean) [g/mol] = ',molar_mass_G/unit.gmol)"
   ]
  },
  {
   "cell_type": "markdown",
   "metadata": {},
   "source": [
    "Answer 1.2)<a id=\"ap12\"></a>: Number of equilibrium stages =  14"
   ]
  },
  {
   "cell_type": "code",
   "execution_count": null,
   "metadata": {},
   "outputs": [],
   "source": [
    "'''Plot the Solution Construction Diagram'''\n",
    "\n",
    "plot_diagram(xpts,ypts)"
   ]
  },
  {
   "cell_type": "code",
   "execution_count": null,
   "metadata": {},
   "outputs": [],
   "source": [
    "'''Plot the Solute Concentration in the Phases'''\n",
    "\n",
    "plot_solution(table)"
   ]
  },
  {
   "cell_type": "code",
   "execution_count": null,
   "metadata": {},
   "outputs": [],
   "source": [
    "'''Global Mass Balance'''\n",
    "\n",
    "mass_A_rate_residual = f_L * (rho_A_L_N1 - table['rho_A_L(k)'][0]*unit.mg_per_liter) + f_G * (rho_A_G_0 - table['rho_A_G(k)'][-1]*unit.mg_per_liter)\n",
    "mass_A_rate_residual#/(f_L * rho_A_L_N1) * 100"
   ]
  },
  {
   "cell_type": "code",
   "execution_count": null,
   "metadata": {},
   "outputs": [],
   "source": [
    "f_L * rho_A_L_N1"
   ]
  },
  {
   "cell_type": "code",
   "execution_count": null,
   "metadata": {},
   "outputs": [],
   "source": [
    "f_L * (rho_A_L_N1 - table['rho_A_L(k)'][0]*unit.mg_per_liter)"
   ]
  },
  {
   "cell_type": "code",
   "execution_count": null,
   "metadata": {},
   "outputs": [],
   "source": [
    "f_G * (rho_A_G_0 - rho_A_G_N)"
   ]
  },
  {
   "cell_type": "code",
   "execution_count": null,
   "metadata": {},
   "outputs": [],
   "source": [
    "print('[A] in drinking water = %5.5f [mg/L] or [ppm] = %5.5f [ug/L]'%(table['rho_A_L(k)'][0], table['rho_A_L(k)'][0]*1000))"
   ]
  },
  {
   "cell_type": "markdown",
   "metadata": {},
   "source": [
    "Answer 1.3)<a id=\"ap13\"></a>: [A] in drinking water = 0.00499 [mg/L] or [ppm] = 4.98525 [ug/L]"
   ]
  },
  {
   "cell_type": "code",
   "execution_count": null,
   "metadata": {},
   "outputs": [],
   "source": [
    "a_param   = -4.02e3\n",
    "b_param   =  6.94\n",
    "henry_cte = math.exp(a_param/temp + b_param) * unit.atm*unit.meter**3/unit.mol\n",
    "\n",
    "partition_coef = henry_cte/unit.gas_constant/temp\n",
    "print('Partition coef. from Henry\"s cte [] = %5.4f'%(partition_coef))\n",
    "print('')\n",
    "print('Partition coef. modified []         = %5.4f'%(partition_coef_mod))\n",
    "print('')\n",
    "print('Error relative to Henry\"s [%%] = %5.4f'%((partition_coef_mod-partition_coef)/partition_coef*100))"
   ]
  },
  {
   "cell_type": "markdown",
   "metadata": {},
   "source": [
    "Answer 1.4)<a id=\"ap14\"></a>: Partition coef. from Henry\"s cte [] = 0.0589; Partition coef. modified [] = 0.0712; Error relative to Henry\"s [%] = 21.0474 \n",
    "\n",
    "From the [New Jersey site remediation program](https://www.nj.gov/dep/srp/guidance/rs/), data for Henry's coefficient of DCA in water/air were [found](https://www.nj.gov/dep/srp/guidance/rs/chemproperties.pdf)."
   ]
  },
  {
   "cell_type": "markdown",
   "metadata": {},
   "source": [
    "### <span style=\"color:blue\"> Problem 2 (50 pts) </span> <a id=\"p2\"></a>"
   ]
  },
  {
   "cell_type": "markdown",
   "metadata": {},
   "source": [
    "1. <span style=\"color:blue\"> Design a trayed tower for the same flow rates used in Problem 1. </span> [Answer p2.1](#ap21)\n",
    "\n",
    "2. <span style=\"color:blue\"> What is the efficiency of your tower? </span> [Answer p2.2](#ap22)\n",
    "\n",
    "3. <span style=\"color:blue\"> Verify whether the concentrations of the VOCs in the water do meet the current EPA standards; show your source of information.</span> [Answer p2.3](#ap23)\n",
    "4. <span style=\"color:blue\"> Discuss the toxicity of the VOCs according to your sources. </span> [Answer p2.4](#ap24)\n",
    "5. <span style=\"color:blue\"> Would you consume the water from this water treatment you designed? </span> [Answer p2.5](#ap25)"
   ]
  },
  {
   "cell_type": "code",
   "execution_count": null,
   "metadata": {},
   "outputs": [],
   "source": [
    "'''Air stripping of 1,2-dichloroethane from water'''\n",
    "'''Compute the kinetic energy ratio correlation parameter'''\n",
    "\n",
    "molar_mass_water = molar_mass_L = 18 * unit.gmol\n",
    "\n",
    "molar_rate_L = mass_dens_L * f_L / molar_mass_water\n",
    "\n",
    "print( 'Liquid molar rate = %5.4f [kmol/h]'%(molar_rate_L/(unit.kilo*unit.mol/unit.hour)) )\n",
    "\n",
    "# There should be only one f_G (the largest among all solutes)\n",
    "f_G = 2.7 # from other solute calculations (DCA)\n",
    "\n",
    "partition_coef_mod = partition_coef # using the Henry's constant based partition coefficient\n",
    "\n",
    "f_G_f_L_ratio = f_G / f_L\n",
    "strip_factor = f_G_f_L_ratio / partition_coef_mod**-1\n",
    "\n",
    "molar_rate_G = mass_dens_G * f_G / molar_mass_G\n",
    "\n",
    "print( 'Gas molar rate    = %5.4f [kmol/h]'%(molar_rate_G/(unit.kilo*unit.mol/unit.hour)) )\n",
    "\n",
    "F_LV = molar_rate_L / molar_rate_G * molar_mass_water / molar_mass_G * math.sqrt(mass_dens_G/mass_dens_L)\n",
    "print('')\n",
    "print('F_LV = %5.4f '%(F_LV))"
   ]
  },
  {
   "cell_type": "code",
   "execution_count": null,
   "metadata": {},
   "outputs": [],
   "source": [
    "'''Compute the gas flooding velocity'''\n",
    "\n",
    "tray_spacing = 36*unit.inch # design decision\n",
    "\n",
    "C_F = 0.15 * unit.foot/unit.second # from F_LV = 1.0162, 36\" spacing\n",
    "\n",
    "print( 'C_F = %5.4f [m/s] = %5.4f [ft/s]'%(C_F, C_F/(unit.foot/unit.second)) )\n",
    "\n",
    "A_d_over_A_T = 0.2 # downcomer area over total cross section area from F_LV >= 1\n",
    "\n",
    "sigma = 75 * unit.dyne / unit.centimeter # dyn/cm  water + solute; estimated as lower than water\n",
    "F_ST  = (sigma / (20 * unit.dyne / unit.centimeter) )**0.2\n",
    "\n",
    "F_F  = 0.9 # foaming factor\n",
    "\n",
    "A_h_over_A_a = 0.3 # design decision: perforated area A_h over active area for gas to flow A_a = A - 2 A_d\n",
    "\n",
    "perforation_diameter = 8 * unit.millimeter # design decision\n",
    "\n",
    "F_HA = 1 # when A_h_over_A_a >= 0.1\n",
    "\n",
    "C = F_ST * F_F * F_HA * C_F # ft/s\n",
    "\n",
    "U_f = C * math.sqrt( (mass_dens_L-mass_dens_G)/mass_dens_G )\n",
    "\n",
    "print('U_f = %5.4f [m/s] = %5.4f [ft/s]'%(U_f, U_f/(unit.foot/unit.second)))"
   ]
  },
  {
   "cell_type": "code",
   "execution_count": null,
   "metadata": {},
   "outputs": [],
   "source": [
    "'''Compute tower diameter'''\n",
    "\n",
    "flood = 0.8 # flooding parameter design decision\n",
    "\n",
    "D_T = math.sqrt( 4/flood * molar_rate_G * molar_mass_G / mass_dens_G / U_f / math.pi / (1 - A_d_over_A_T) )\n",
    "\n",
    "print('D_T [m] = %5.4f [m]'%(D_T))\n",
    "\n",
    "D_T *= 1.61\n",
    "print('D_T [m] = %5.4f [m]'%(D_T))"
   ]
  },
  {
   "cell_type": "code",
   "execution_count": null,
   "metadata": {},
   "outputs": [],
   "source": [
    "'''Compute the dry pressure drop across tray'''\n",
    "\n",
    "A_T = math.pi * (D_T/2)**2\n",
    "A_d = A_d_over_A_T * A_T\n",
    "A_a = A_T - 2 * A_d\n",
    "A_h = A_a * A_h_over_A_a\n",
    "\n",
    "u_0 = molar_rate_G * molar_mass_G / mass_dens_G / A_h # perforation gas speed\n",
    "\n",
    "print( 'u_0 = %5.4f [m/s] = %5.4f [ft/s]'%(u_0,u_0/(unit.foot/unit.second)) )\n",
    "\n",
    "c_0 = 0.75  # orifice coefficient  0.65 to 0.85\n",
    "\n",
    "h_d = 0.186 * (u_0/(unit.foot/unit.second))**2 / c_0**2 * mass_dens_G / mass_dens_L * unit.inch\n",
    "print('')\n",
    "print('h_d = %5.4f [m] = %5.4f [inch]'%(h_d, h_d/unit.inch))"
   ]
  },
  {
   "cell_type": "code",
   "execution_count": null,
   "metadata": {},
   "outputs": [],
   "source": [
    "'''Compute wet pressure drop across tray'''\n",
    "\n",
    "u_a = molar_rate_G * molar_mass_G / mass_dens_G / A_a # superficial velocity of the gas based on active area A_a\n",
    "print('u_a = %5.4f [m/s] = %5.4f [ft/s]'%(u_a,u_a/(unit.foot/unit.second)))\n",
    "\n",
    "K_s = u_a * math.sqrt(mass_dens_G/(mass_dens_L-mass_dens_G)) # capacity parameter\n",
    "print('K_s = %5.4f [m/s] = %5.4f [ft/s]'%(K_s,K_s/(unit.foot/unit.second)))\n",
    "\n",
    "phi_e = math.exp(-4.357 * (K_s/(unit.foot/unit.second))**0.91) # effective relative froth density\n",
    "print('phi_e = %5.4f'%(phi_e))\n",
    "\n",
    "L_w = 0.871 * D_T    # see notebook 05 use 0.871 D_T when A_d/A_T >= 0.2\n",
    "\n",
    "h_w = 2.8 * unit.inch # design decision\n",
    "\n",
    "q_L = molar_rate_L * molar_mass_L / mass_dens_L # liquid volumetric flow rate\n",
    "print('q_L = %5.4f [m/s] = %5.4f [gpm]'%(q_L, q_L/(unit.gallon/unit.minute)))\n",
    "\n",
    "C_l = 0.362 + 0.317 * math.exp(-3.5 * h_w/unit.inch)\n",
    "print('C_l = %5.4f []'%(C_l))\n",
    "\n",
    "h_l = phi_e * ( h_w/unit.inch + C_l * ( q_L/unit.gpm / (L_w/unit.inch) / phi_e )**(2/3) ) * unit.inch\n",
    "\n",
    "print('')\n",
    "print('h_l = %5.4f [m] = %5.4f [inch]'%(h_l,h_l/unit.inch))"
   ]
  },
  {
   "cell_type": "code",
   "execution_count": null,
   "metadata": {},
   "outputs": [],
   "source": [
    "'''Compute the surface tension pressure drop across tray'''\n",
    "\n",
    "D_B_max = perforation_diameter # maximum bubble diameter\n",
    "h_sigma = 6 * sigma / unit.g / mass_dens_L / D_B_max\n",
    "\n",
    "print('h_sigma = %5.4f [m] = %5.4f [inch]'%(h_sigma,h_sigma/unit.inch))"
   ]
  },
  {
   "cell_type": "code",
   "execution_count": null,
   "metadata": {},
   "outputs": [],
   "source": [
    "'''Compute the total pressure drop across tray'''\n",
    "\n",
    "h_T = h_d + h_l + h_sigma\n",
    "\n",
    "print('h_T = %5.4f [m] = %5.4f [inch]'%(h_T,h_T/unit.inch))\n",
    "\n",
    "delta_P_T = mass_dens_L * unit.g * h_T\n",
    "print('delta_P_T = %5.4f [Pa] = %5.4f [psi]'%(delta_P_T, delta_P_T/unit.psi))"
   ]
  },
  {
   "cell_type": "code",
   "execution_count": null,
   "metadata": {},
   "outputs": [],
   "source": [
    "'''Compute flow residence times'''\n",
    "\n",
    "t_G = (1-phi_e)/phi_e * h_l / u_a\n",
    "print('t_G = %5.4f [s]'%(t_G))\n",
    "\n",
    "t_L = h_l * A_a / q_L\n",
    "print('t_L = %5.4f [s]'%(t_L))"
   ]
  },
  {
   "cell_type": "markdown",
   "metadata": {},
   "source": [
    " From the [New Jersey site remediation program](https://www.nj.gov/dep/srp/guidance/rs/), data for diffusion of DCA in water and air were [found](https://www.nj.gov/dep/srp/guidance/rs/chemproperties.pdf)."
   ]
  },
  {
   "cell_type": "code",
   "execution_count": null,
   "metadata": {},
   "outputs": [],
   "source": [
    "'''Compute mass transfer coefficients'''\n",
    "\n",
    "D_V = 1.04e-1 * (unit.centimeter)**2/unit.second # 1,2 dichloroethane from literature\n",
    "f = u_a / U_f\n",
    "k_G_a = 1030 * math.sqrt(D_V/(unit.centimeter**2/unit.second)) * (f - 0.842 * f**2) / math.sqrt(h_l/unit.centimeter)\n",
    "\n",
    "print('k_G_a = %5.4f [1/s]'%(k_G_a))\n",
    "\n",
    "D_L = 9.9e-6 * (unit.centi*unit.meter)**2/unit.second # 1,2 dichloroethane from literature\n",
    "F = u_a * math.sqrt(mass_dens_G)\n",
    "k_L_a = 78.8 * math.sqrt(D_L/(unit.centimeter**2/unit.second)) * (F + 0.425)\n",
    "\n",
    "print('k_L_a = %5.4f [1/s]'%(k_L_a))"
   ]
  },
  {
   "cell_type": "code",
   "execution_count": null,
   "metadata": {},
   "outputs": [],
   "source": [
    "'''Compute the mass transfer relaxation factor'''\n",
    "\n",
    "N_G = k_G_a * t_G\n",
    "e_G = 1/N_G\n",
    "print('e_G = %5.4f []'%(e_G))\n",
    "\n",
    "N_L = k_L_a * t_L\n",
    "e_L = 1/strip_factor/N_L\n",
    "print('e_L = %5.4f []'%(e_L))\n",
    "\n",
    "E_G = e_G + e_L\n",
    "\n",
    "print('E_G = %5.4f []'%(E_G))"
   ]
  },
  {
   "cell_type": "code",
   "execution_count": null,
   "metadata": {},
   "outputs": [],
   "source": [
    "'''Air stripping of 1,1-dichloroethane from water'''\n",
    "\n",
    "relax_factor = E_G\n",
    "relax_factor_hat = relax_factor/(relax_factor+1)\n",
    "\n",
    "print('Flow rate G = %5.4f [m^3/s] = %5.4f [gpm]'%(f_G, f_G/unit.gpm))\n",
    "print('F_G/F_L = %5.4f'%(f_G_f_L_ratio))\n",
    "print('Stripping factor = %5.4f'%strip_factor)\n",
    "\n",
    "# Overall mass balance\n",
    "rho_A_G_N = ( rho_A_L_N1 - rho_A_L_1 ) / f_G_f_L_ratio\n",
    "print('Target [A] in exiting gas = %5.3f [mg/L]'%(rho_A_G_N/unit.mg_per_liter))\n",
    "\n",
    "print('Gas-phase relaxation factor            = %2.3f'%relax_factor)\n",
    "print('Gas-phase normalized relaxation factor = %2.3f'%relax_factor_hat)\n",
    "\n",
    "efficiency = 1/(1+strip_factor*relax_factor)\n",
    "print('Efficiency = %2.2f [%%]'%(efficiency*100))\n",
    "\n",
    "# Non-equilibrium line: x = a y + b\n",
    "neq_slope = partition_coef_mod**-1 * ( 1 + relax_factor_hat*(strip_factor - 1) )\n",
    "b_neq = rho_A_L_1 * relax_factor_hat # intercept point\n",
    "neq_func = lambda x: neq_slope**-1 * ( x - b_neq )\n",
    "\n",
    "# Operating line definition: x = a y + b\n",
    "op_slope = strip_factor * partition_coef_mod**-1\n",
    "b = rho_A_L_1  # intercept point\n",
    "op_func = lambda y: op_slope * y + b\n",
    "\n",
    "# Data storage for graphical output\n",
    "xpts = list() # x coord. for solution plotting\n",
    "ypts = list() # y coord. for solution plotting\n",
    "xpts.append(rho_A_L_1)\n",
    "ypts.append(rho_A_G_0)\n",
    "\n",
    "# Data storage for a table output\n",
    "table = dict()\n",
    "table['k']            = list()\n",
    "table['rho_A_L(k)']   = list()\n",
    "table['rho_A_G(k)']   = list()\n",
    "table['rho_A_L(k+1)'] = list()\n",
    "\n",
    "# Solve for mass concentrations in the network tower\n",
    "# Start at the bottom and move towards the top\n",
    "\n",
    "rho_A_L_k = rho_A_L_1\n",
    "rho_A_G_k = rho_A_G_0\n",
    "\n",
    "k_node     = 0\n",
    "k_node_max = 50\n",
    "while rho_A_G_k <= rho_A_G_N and k_node <= k_node_max:\n",
    "    \n",
    "    table['rho_A_L(k)'].append(rho_A_L_k/unit.mg_per_liter)\n",
    "    \n",
    "    # Compute the non-equilibrium point\n",
    "    rho_A_G_k = neq_func(rho_A_L_k)\n",
    "    \n",
    "    xpts.append(rho_A_L_k/unit.mg_per_liter)\n",
    "    ypts.append(rho_A_G_k/unit.mg_per_liter)\n",
    "    \n",
    "    table['rho_A_G(k)'].append(rho_A_G_k/unit.mg_per_liter)\n",
    "    \n",
    "    # Compute operating line point\n",
    "    rho_A_L_k = op_func(rho_A_G_k) # overwrite k with k+1\n",
    "    \n",
    "    xpts.append(rho_A_L_k/unit.mg_per_liter)\n",
    "    ypts.append(rho_A_G_k/unit.mg_per_liter)\n",
    "    \n",
    "    table['rho_A_L(k+1)'].append(rho_A_L_k/unit.mg_per_liter)\n",
    "    \n",
    "    k_node += 1\n",
    "    \n",
    "    table['k'].append(k_node)\n",
    "\n",
    "n_neq_stages = k_node\n",
    "\n",
    "print('')\n",
    "print('Number of non-equilibrium stages = ',n_neq_stages)\n",
    "\n",
    "import pandas as pd\n",
    "pd.set_option('display.float_format', '{:.4F}'.format)\n",
    "\n",
    "df = pd.DataFrame(table)\n",
    "print('')\n",
    "print('Mass Concentrations [mg/L] at T = %2.2f'%unit.convert_temperature(temp,'K','C'))\n",
    "print(df)\n",
    "\n",
    "print('')\n",
    "print('Concentration of A in exiting gas [mg/L] = %1.3e'%(table['rho_A_G(k)'][-1]))\n",
    "\n",
    "print('')\n",
    "print('# equilibrium stages / efficiency = %i'%round(n_eq_stages/efficiency,0))"
   ]
  },
  {
   "cell_type": "markdown",
   "metadata": {},
   "source": [
    "Number of non-equilibrium stages =  39"
   ]
  },
  {
   "cell_type": "code",
   "execution_count": null,
   "metadata": {},
   "outputs": [],
   "source": [
    "'''Plot the Solution Construction Diagram'''\n",
    "\n",
    "plot_diagram(xpts,ypts)"
   ]
  },
  {
   "cell_type": "code",
   "execution_count": null,
   "metadata": {},
   "outputs": [],
   "source": [
    "'''Plot the Solute Concentration in the Phases'''\n",
    "\n",
    "plot_solution(table)"
   ]
  },
  {
   "cell_type": "code",
   "execution_count": null,
   "metadata": {},
   "outputs": [],
   "source": [
    "'''Column Sizing'''\n",
    "\n",
    "print('# of trays        = %5i []'%(n_neq_stages))\n",
    "\n",
    "height = n_neq_stages * tray_spacing\n",
    "print('tower height      = %5.1f [m]   = %5.1f [ft]'%(height, height/unit.foot))\n",
    "print('tower diameter    = %5.1f [m]   = %5.1f [ft]'%(D_T, D_T/unit.foot))\n",
    "print('tower xsection    = %5.1f [m^2] = %5.1f [ft^2]'%(A_T, A_T/unit.foot**2))\n",
    "print('gas active area   = %5.1f [m^2] = %5.1f [ft^2]'%(A_a, A_a/unit.foot**2))\n",
    "print('downcomer area    = %5.1f [m^2] = %5.1f [ft^2]'%(A_d, A_d/unit.foot**2))\n",
    "print('weir height       = %5.1f [cm]  = %5.1f [in]'%(h_w/unit.centimeter, h_w/unit.inch))\n",
    "\n",
    "n_hole_tray = A_h_over_A_a * A_a / math.pi / perforation_diameter**2 * 4\n",
    "print('perforations/tray = %5.1f []'%(n_hole_tray))\n",
    "\n",
    "print('')\n",
    "\n",
    "print('tray pressure drop = %5.4f [Pa] = %5.4f [psi]'%(delta_P_T,delta_P_T/unit.psi))\n",
    "\n",
    "tower_pressure_drop = n_neq_stages * delta_P_T \n",
    "print('tower delta_P_T    = %5.4f [Pa] = %5.4f [atm]'%(tower_pressure_drop,tower_pressure_drop/unit.atm))\n",
    "\n",
    "average_pressure = (tower_pressure_drop + pressure + pressure )/2.0\n",
    "print('tower avg pressure = %5.4f [Pa] = %5.4f [atm]'%(average_pressure,average_pressure/unit.atm))\n",
    "\n",
    "print('')\n",
    "print('tower mass transfer efficiency  = %5.4f [%%]'%(efficiency*100))"
   ]
  },
  {
   "cell_type": "markdown",
   "metadata": {},
   "source": [
    "Answer 2.1)<a id=\"ap21\"></a>: Column specs in the above output."
   ]
  },
  {
   "cell_type": "code",
   "execution_count": null,
   "metadata": {},
   "outputs": [],
   "source": [
    "'''Use this cell to iterate on pressure'''\n",
    "pressure = ( (pressure + tower_pressure_drop) + pressure ) / 2.0\n",
    "pressure"
   ]
  },
  {
   "cell_type": "markdown",
   "metadata": {},
   "source": [
    "Answer 2.2)<a id=\"ap22\"></a>: tower mass transfer efficiency  = 37.9940 [%]"
   ]
  },
  {
   "cell_type": "markdown",
   "metadata": {},
   "source": [
    "Answer 2.3)<a id=\"ap23\"></a>: "
   ]
  },
  {
   "cell_type": "code",
   "execution_count": null,
   "metadata": {},
   "outputs": [],
   "source": [
    "print('[A] in drinking water = %5.4f [mg/L] or [ppm] = %5.4f [ug/L]'%(table['rho_A_L(k)'][0], table['rho_A_L(k)'][0]*1000))"
   ]
  },
  {
   "cell_type": "markdown",
   "metadata": {},
   "source": [
    "[A] in drinking water = 0.0050 [mg/L] or [ppm] = 4.9852 [ug/L]\n",
    "\n",
    "From [EPA National Primary Drinking Water Regulations](https://www.epa.gov/ground-water-and-drinking-water/national-primary-drinking-water-regulations#Organic), the MCL for DCA in drinking water is: $5~\\mu$g/L. Maximum Contaminant Level (MCL) - The highest level of a contaminant that is allowed in drinking water. MCLs are set as close to MCLGs as feasible using the best available treatment technology and taking cost into consideration. MCLs are enforceable standards."
   ]
  },
  {
   "cell_type": "markdown",
   "metadata": {},
   "source": [
    "Answer 2.4)<a id=\"ap24\"></a>: Toxicity of DCA is found in \n",
    "\n",
    " + [Inhalation](https://www.epa.gov/sites/production/files/2016-09/documents/ethylene-dichloride.pdf)\n",
    " \n",
    " + [Drinking](https://www.epa.gov/ground-water-and-drinking-water/national-primary-drinking-water-regulations#Organic)\n",
    "\n",
    "From [EPA Health Effects Notebook for Hazardous Air Pollutants](https://www.epa.gov/haps/health-effects-notebook-hazardous-air-pollutants), [publication](https://www.epa.gov/sites/production/files/2016-09/documents/ethylene-dichloride.pdf):\n",
    "\n",
    " + Cancer Risk:\n",
    "   An increased incidence of colon and rectal cancer in men over 55 years of age exposed to ethylene dichloride in the drinking water has been reported. However, the study population was concomitantly exposed to other chemicals.\n",
    "\n",
    "The potential health effect from long-term exposure (drinking contaminated water) above the MCL is increased risk of cancer."
   ]
  },
  {
   "cell_type": "markdown",
   "metadata": {},
   "source": [
    "Answer 2.5)<a id=\"ap25\"></a>: I would not consume water from this water treatment system as is. Potable water facilities must comply with many other regulations. In my view as a consumer, a single gas stripping process is not enough to qualify as a whole facility. "
   ]
  },
  {
   "cell_type": "code",
   "execution_count": null,
   "metadata": {},
   "outputs": [],
   "source": [
    "'''Network Algebraic Equations Matrix of Coefficients'''\n",
    "# NOTE: the numbering of equations is for absorption, hence top-down (opposite of stripping)\n",
    "\n",
    "def get_network_matrix( nstages, partition_coef_x, absorp_factor_x, relax_factor=0.0 ):\n",
    "    import numpy as np\n",
    "\n",
    "    amtrx11 =  np.diag( np.ones(nstages)*(-( relax_factor + 1 )) )\n",
    "    amtrx11 += np.diag( np.ones(nstages-1)*relax_factor, 1 )\n",
    "\n",
    "    amtrx12 = np.diag( np.ones(nstages)*partition_coef_x )\n",
    "\n",
    "    amtrx21 = np.diag( np.ones(nstages)*(partition_coef_x*absorp_factor_x)**-1 )\n",
    "\n",
    "    amtrx22 =  np.diag( np.ones(nstages)*(-( relax_factor + absorp_factor_x**-1 )) )\n",
    "    amtrx22 += np.diag( np.ones(nstages-1)*relax_factor, -1 )\n",
    "\n",
    "    top   = np.concatenate( (amtrx11,amtrx12), axis=1 ) # concatenate sideways\n",
    "    bot   = np.concatenate( (amtrx21,amtrx22), axis=1 ) # concatenate sideways\n",
    "    amtrx = np.concatenate( (top,bot),axis=0 )          # concatenate vertically\n",
    "    \n",
    "    return amtrx"
   ]
  },
  {
   "cell_type": "code",
   "execution_count": null,
   "metadata": {},
   "outputs": [],
   "source": [
    "'''RHS Network Algebraic Equations Vector'''\n",
    "\n",
    "def get_rhs_vector( nstages, relax_factor = 0.0, x_A_G_N1=0.0, x_A_L_0=0.0 ):\n",
    "    \n",
    "    import numpy as np\n",
    "    \n",
    "    bvec = np.zeros(2*nstages)\n",
    "    bvec[nstages-1] = -relax_factor * x_A_G_N1 # bottom inflow gas\n",
    "    bvec[nstages]   = -relax_factor * x_A_L_0  # top inflow liquid\n",
    "    \n",
    "    return bvec"
   ]
  },
  {
   "cell_type": "code",
   "execution_count": null,
   "metadata": {},
   "outputs": [],
   "source": [
    "'''Assemble Network Algebraic Equations Matrix of Coefficient'''\n",
    "\n",
    "import numpy as np\n",
    "\n",
    "n_trays = 39\n",
    "\n",
    "partition_coef_x = partition_coef_mod / mass_dens_G * mass_dens_L * molar_mass_G/molar_mass_L # mole fraction based partition coef.\n",
    "\n",
    "f_G_molar_rate = f_G * mass_dens_G / molar_mass_G\n",
    "f_L_molar_rate = f_L * mass_dens_L / molar_mass_G\n",
    "f_G_molar_rate_f_L_molar_rate_ratio = f_G_molar_rate / f_L_molar_rate\n",
    "\n",
    "strip_factor_x  = f_G_molar_rate_f_L_molar_rate_ratio / partition_coef_x**-1\n",
    "absorp_factor_x = 1/strip_factor_x\n",
    "\n",
    "amtrx = get_network_matrix( n_trays, partition_coef_x, absorp_factor_x, relax_factor=relax_factor )\n",
    "    \n",
    "from engy_5140.help import plot_matrix\n",
    "plot_matrix(amtrx, title='Network Matrix')\n",
    "\n",
    "np.set_printoptions(precision=2,threshold=20,edgeitems=7,linewidth=80)\n",
    "print(amtrx)"
   ]
  },
  {
   "cell_type": "code",
   "execution_count": null,
   "metadata": {},
   "outputs": [],
   "source": [
    "'''Inspect rank of matrix'''\n",
    "\n",
    "rank = np.linalg.matrix_rank(amtrx)\n",
    "print('Rank = ', rank)\n",
    "print('Shape of Amtrx = ',amtrx.shape)"
   ]
  },
  {
   "cell_type": "code",
   "execution_count": null,
   "metadata": {},
   "outputs": [],
   "source": [
    "'''Assemble RHS of Network Algebraic Equations Vector'''\n",
    "# NOTE: the numbering of equations is for absorption, hence top-down (opposite of stripping)\n",
    "\n",
    "x_A_G_N1 = 0.0 # clean gas at bottom\n",
    "\n",
    "x_A_L_0  = molar_mass_L * w_A_L_N1/molar_mass_DCA # incoming liquid at top\n",
    "\n",
    "bvec = get_rhs_vector( n_trays, relax_factor = relax_factor, x_A_G_N1=x_A_G_N1, x_A_L_0=x_A_L_0 )"
   ]
  },
  {
   "cell_type": "code",
   "execution_count": null,
   "metadata": {},
   "outputs": [],
   "source": [
    "'''Solve for mole fractions'''\n",
    "\n",
    "xvec = np.linalg.solve(amtrx,bvec)"
   ]
  },
  {
   "cell_type": "code",
   "execution_count": null,
   "metadata": {},
   "outputs": [],
   "source": [
    "'''Recover the individual mole fractions for each phase'''\n",
    "\n",
    "x_A_G_vec = xvec[:n_trays]\n",
    "x_A_L_vec = xvec[n_trays:]"
   ]
  },
  {
   "cell_type": "code",
   "execution_count": null,
   "metadata": {},
   "outputs": [],
   "source": [
    "'''Convert from mole fraction to mass concentration'''\n",
    "\n",
    "rho_A_G_vec = ( x_A_G_vec * molar_mass_DCA / molar_mass_G ) * mass_dens_G\n",
    "rho_A_L_vec = ( x_A_L_vec * molar_mass_DCA / molar_mass_L ) * mass_dens_L"
   ]
  },
  {
   "cell_type": "code",
   "execution_count": null,
   "metadata": {},
   "outputs": [],
   "source": [
    "'''Plot the Solute Concentration in the Phases'''\n",
    "\n",
    "table = dict()\n",
    "table['k']          = list()\n",
    "table['rho_A_L(k)'] = list()\n",
    "table['rho_A_G(k)'] = list()\n",
    "\n",
    "for k in reversed(range(n_trays)): \n",
    "    table['k'].append(n_trays-k)\n",
    "    table['rho_A_L(k)'].append(rho_A_L_vec[k]/unit.mg_per_liter)\n",
    "    table['rho_A_G(k)'].append(rho_A_G_vec[k]/unit.mg_per_liter)\n",
    "    \n",
    "plot_solution(table)"
   ]
  },
  {
   "cell_type": "code",
   "execution_count": null,
   "metadata": {},
   "outputs": [],
   "source": [
    "print('[A] in drinking water = %5.4e [ug/L]'%(table['rho_A_L(k)'][0]*1000))"
   ]
  },
  {
   "cell_type": "code",
   "execution_count": null,
   "metadata": {},
   "outputs": [],
   "source": [
    "print('[A] in exiting gas = %5.4e [mg/L]'%(table['rho_A_G(k)'][-1]))"
   ]
  },
  {
   "cell_type": "code",
   "execution_count": null,
   "metadata": {},
   "outputs": [],
   "source": [
    "rho_A_G_vec/unit.mg_per_liter"
   ]
  },
  {
   "cell_type": "code",
   "execution_count": null,
   "metadata": {},
   "outputs": [],
   "source": [
    "f_L * (rho_A_L_N1 - table['rho_A_L(k)'][0]*unit.mg_per_liter) - f_G * (rho_A_G_0 - table['rho_A_G(k)'][-1]*unit.mg_per_liter)"
   ]
  },
  {
   "cell_type": "code",
   "execution_count": null,
   "metadata": {},
   "outputs": [],
   "source": [
    "f_L * rho_A_L_N1"
   ]
  },
  {
   "cell_type": "code",
   "execution_count": null,
   "metadata": {},
   "outputs": [],
   "source": [
    "f_G * (rho_A_G_0 - table['rho_A_G(k)'][-1]*unit.mg_per_liter)"
   ]
  },
  {
   "cell_type": "code",
   "execution_count": null,
   "metadata": {},
   "outputs": [],
   "source": [
    "table['rho_A_G(k)'][-1]*unit.mg_per_liter"
   ]
  },
  {
   "cell_type": "code",
   "execution_count": null,
   "metadata": {},
   "outputs": [],
   "source": []
  },
  {
   "cell_type": "code",
   "execution_count": null,
   "metadata": {},
   "outputs": [],
   "source": []
  }
 ],
 "metadata": {
  "kernelspec": {
   "display_name": "Python 3",
   "language": "python",
   "name": "python3"
  },
  "language_info": {
   "codemirror_mode": {
    "name": "ipython",
    "version": 3
   },
   "file_extension": ".py",
   "mimetype": "text/x-python",
   "name": "python",
   "nbconvert_exporter": "python",
   "pygments_lexer": "ipython3",
   "version": "3.7.1"
  },
  "latex_envs": {
   "LaTeX_envs_menu_present": true,
   "autoclose": false,
   "autocomplete": true,
   "bibliofile": "biblio.bib",
   "cite_by": "apalike",
   "current_citInitial": 1,
   "eqLabelWithNumbers": true,
   "eqNumInitial": 1,
   "hotkeys": {
    "equation": "Ctrl-E",
    "itemize": "Ctrl-I"
   },
   "labels_anchors": false,
   "latex_user_defs": false,
   "report_style_numbering": false,
   "user_envs_cfg": false
  }
 },
 "nbformat": 4,
 "nbformat_minor": 2
}
