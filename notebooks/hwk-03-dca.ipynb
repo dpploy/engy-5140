{
 "cells": [
  {
   "cell_type": "markdown",
   "metadata": {},
   "source": [
    "Engy-5140: Chemical and Nuclear Waste Processing Fall 2019 UMass Lowell; Prof. V. F. de Almeida **28Oct2019**\n",
    "\n",
    "# Homework 03 28Oct2019 Solution DCA\n",
    "\n",
    "$\n",
    "\\newcommand{\\efacg}{\\mathcal{E}_\\text{G}}\n",
    "\\newcommand{\\Amtrx}{\\boldsymbol{\\mathsf{A}}}\n",
    "\\newcommand{\\xvec}{\\boldsymbol{\\mathsf{x}}}\n",
    "\\newcommand{\\bvec}{\\boldsymbol{\\mathsf{b}}}\n",
    "\\newcommand{\\zerovec}{\\boldsymbol{\\mathsf{0}}}\n",
    "$"
   ]
  },
  {
   "cell_type": "markdown",
   "metadata": {},
   "source": [
    "### Name: `your name`"
   ]
  },
  {
   "cell_type": "markdown",
   "metadata": {},
   "source": [
    "### <span style=\"color:red\">Guidance:</span>\n",
    " +  <span style=\"color:red\"> \n",
    "    Individual work. Be clear and complete in your answers.\n",
    "    </span>\n",
    " +  <span style=\"color:red\"> \n",
    "    Save your work frequently to a file locally to your computer.\n",
    "    </span>\n",
    " +  <span style=\"color:red\">\n",
    "    During your work and before submitting the final version do: `Kernel` -> `Restart & Run All`, to verify your notebook runs correctly.\n",
    "    </span>\n",
    " +  <span style=\"color:red\">\n",
    "    Save your file again.\n",
    "    </span>"
   ]
  },
  {
   "cell_type": "markdown",
   "metadata": {},
   "source": [
    "---\n",
    "### Table of Contents\n",
    "* [Problem Statement](#statement)\n",
    "* [Notes](#notes)\n",
    "* [Problem 1 (50 pts)](#p1)\n",
    "* [Problem 2 (50 pts)](#p2)\n",
    "* [Overall result: DCA + TCE + TCA](#all)\n",
    "---"
   ]
  },
  {
   "cell_type": "markdown",
   "metadata": {},
   "source": [
    "### <span style=\"color:blue\"> Problem Statement </span> <a id=\"statement\"></a>\n",
    "\n",
    "#### <span style=\"color:blue\"> Ground water at volumetric flow rate of 1,500 gpm, containing three volatile organic compounds (VOCs), is to be treated by countercurrent air stripping in a trayed column to produce drinking water that meets EPA standards (see data below). </span>\n",
    "\n",
    "\n",
    "| Component | K-value | Groundwater (ppm) | EPA drinking water tolerance (ppm) | ($\\mu$g/L) |\n",
    "| --------- | ------- | ----------- | ---------------------------- |----|\n",
    "| 1,2-Dichloroethane (DCA) | 60 | 85 | 0.005 | 5 |\n",
    "| Trichloroethylene (TCE) | 650 | 120 | 0.005 |  5 |\n",
    "| 1,1,1-Trichloroethane (TCA) | 275 | 145 | 0.200 | 200 |\n",
    "\n",
    "ppm is parts per million by mass (assume 1 ppm in water = 1 mg/L).\n",
    "\n",
    "#### <span style=\"color:blue\"> Using the network modeling approach covered in this course, provide answers to the problems below (based on Seader, Henly, and Roper textbook Separation Process Principles Chap. 6, 2016) . </span>"
   ]
  },
  {
   "cell_type": "markdown",
   "metadata": {},
   "source": [
    "### <span style=\"color:blue\"> Notes </span> <a id=\"notes\"></a>\n",
    "\n",
    "Some notes for this problem:\n",
    "\n",
    "  + In-class course notes OneNote [Engy-5140-noneq-absorption](https://studentuml-my.sharepoint.com/:o:/g/personal/valmor_dealmeida_uml_edu/EgwN25gp8ytGpdRItJdVRf4B7s_LLH76ODb7f6lSscvMCg?e=LqhrPg).\n",
    "  + In-class course notes OneNote [Engy-hwk03-notes](https://studentuml-my.sharepoint.com/:o:/g/personal/valmor_dealmeida_uml_edu/EnudBfSpdE5NgGYxZx0cGQ0BdPPXIArbtNlI0CFrrepKig?e=CjwuAy)."
   ]
  },
  {
   "cell_type": "markdown",
   "metadata": {},
   "source": [
    "### <span style=\"color:blue\"> Problem 1 (50 pts) </span> <a id=\"p1\"></a>"
   ]
  },
  {
   "cell_type": "markdown",
   "metadata": {},
   "source": [
    "1. <span style=\"color:blue\"> Compute the minimum air flow rate in scfm (60$^\\circ$F, 1 atm).</span> [Answer p1.1](#ap11)\n",
    "2. <span style=\"color:blue\"> Compute the number of equilibrium stages (or nodes) if the air flow rate is twice the minimum required and the tower operates at 25$^\\circ$C and 1 atm.</span> [Answer p1.2](#ap12)\n",
    "3. <span style=\"color:blue\"> Compute the composition of each VOC in ppm (parts per million) in the resulting drinking water.</span> [Answer p1.3](#ap13)\n",
    "4. <span style=\"color:blue\"> Compare the K-values provided against tabulated values of the Henry's constant in the literature (see the Harzardous Waste reference book).</span> [Answer p1.4](#ap14)\n",
    "\n",
    "| Component | A | B | H [atm m$^3$/mol]; T(K) |\n",
    "| --------- | ------- | ---------------------------- |-----|\n",
    "| 1,2-Dichloroethane (DCA) | -4.02 10$^3$ | 6.94 | $\\ln H = \\frac{A}{T} + B$ |\n",
    "| Trichloroethylene (TCE) | 1.14 10 | 4.78 10$^3$  | $H=\\exp(A - \\frac{B}{T})$ |\n",
    "| 1,1,1-Trichloroethane (TCA) | 9.78 | 4.13 10$^3$  | $H=\\exp(A - \\frac{B}{T})$ |"
   ]
  },
  {
   "cell_type": "code",
   "execution_count": 1,
   "metadata": {
    "code_folding": [
     2
    ]
   },
   "outputs": [],
   "source": [
    "'''Plot Diagram Function'''\n",
    "\n",
    "def plot_diagram(xpts,ypts):\n",
    "    \n",
    "    import matplotlib.pyplot as plt\n",
    "    import numpy as np\n",
    "\n",
    "    plt.figure(1, figsize=(15, 6))\n",
    "\n",
    "    xpts = np.array(xpts)\n",
    "    ypts = np.array(ypts)\n",
    "\n",
    "    # plot equilibrium line\n",
    "    plt.plot( (0,xpts.max()), (0,eq_func(xpts.max())),'ro-',label='Equilibrium Line')\n",
    "    \n",
    "    # plot operating line\n",
    "    plt.plot( op_func(ypts), ypts,'b-',label='Operating Line' )\n",
    "\n",
    "    # plot all step off diagram nodes\n",
    "    plt.plot( xpts, ypts, 'ko-',label='Stepping off' )\n",
    "\n",
    "    plt.xlabel(r'$\\rho_{A,L}$ [mg/L]',fontsize=18)\n",
    "    plt.ylabel(r'$\\rho_{A,G}$ [mg/L]',fontsize=18)\n",
    "    plt.title(r'Gas Stripping Diagram T=%2.1f C'%const.convert_temperature(temp,'K','C'),fontsize=20)\n",
    "    plt.legend(loc='best',fontsize=12)\n",
    "    plt.xticks(fontsize=16)\n",
    "    plt.yticks(fontsize=16)\n",
    "    \n",
    "    plt.grid()\n",
    "    plt.show()\n",
    "    print('')"
   ]
  },
  {
   "cell_type": "code",
   "execution_count": 2,
   "metadata": {
    "code_folding": [
     2
    ]
   },
   "outputs": [],
   "source": [
    "'''Plot Solution Function'''\n",
    "\n",
    "def plot_solution(table):\n",
    "    \n",
    "    import matplotlib.pyplot as plt\n",
    "    import numpy as np\n",
    "\n",
    "    (fig, ax) = plt.subplots(figsize=(15,6))\n",
    "\n",
    "    # liquid solute concentration\n",
    "    ax.plot( range(len(table['k'])), table['rho_A_L(k)'], 'bo-',label=r'$\\rho_{A,L}$' )\n",
    "    ax.plot( range(len(table['k'])), table['rho_A_G(k)'], 'o-',color='orange',label=r'$\\rho_{A,G}$' )\n",
    "    \n",
    "    plt.xticks(range(len(table['k'])),['node-'+str(k) for k in table['k']],rotation=30,fontsize=12)\n",
    "\n",
    "    #plt.xlabel(r'k',fontsize=18)\n",
    "    plt.ylabel(r'$\\rho_{A,\\alpha}$ [mg/L]',fontsize=18)\n",
    "    plt.title(r'Gas Absorption Solution T=%2.1f C'%const.convert_temperature(temp,'K','C'),fontsize=20)\n",
    "    plt.legend(loc='best',fontsize=12)\n",
    "    plt.xticks(fontsize=16)\n",
    "    plt.yticks(fontsize=16)\n",
    "    \n",
    "    plt.grid()\n",
    "    plt.show()\n",
    "    print('')"
   ]
  },
  {
   "cell_type": "code",
   "execution_count": 3,
   "metadata": {},
   "outputs": [],
   "source": [
    "'''Conditions'''\n",
    "\n",
    "# Preliminaries\n",
    "import math\n",
    "import pandas as pd\n",
    "import scipy.constants as const\n",
    "\n",
    "# SI units conversion\n",
    "const.meter  = 1.0\n",
    "const.mol    = 1.0\n",
    "const.ppm    = 1e-6\n",
    "const.second = 1.0\n",
    "const.centimeter   = const.centi*const.meter\n",
    "const.millimeter   = const.milli*const.meter\n",
    "const.mg_per_liter = const.milli*const.gram/const.liter\n",
    "const.gpm          = const.gallon/const.minute\n",
    "const.cfm          = const.foot**3/const.minute\n",
    "const.gmol         = const.gram/const.mol\n",
    "\n",
    "# Parameters\n",
    "temp_C = 25\n",
    "temp   = const.convert_temperature(temp_C,'C','K')\n",
    "\n",
    "pressure = 1 * const.atm\n",
    "\n",
    "f_L = 1500 * const.gpm"
   ]
  },
  {
   "cell_type": "code",
   "execution_count": 4,
   "metadata": {},
   "outputs": [
    {
     "name": "stdout",
     "output_type": "stream",
     "text": [
      "Temperture = 25.0000 [C]  = 77.0000 [F] = 298.1500 [K] \n",
      "Pressure   = 101325.0000 [Pa] = 1.0000 [atm] \n",
      "\n",
      "Flowrate L     = 0.0946 [m^3/s] = 1500.0000 [gpm]\n",
      "Flowrate G min = 1.3282 [m^3/s] = 21053.0297 [gpm] = 2814.3807 [cfm]\n",
      "\n",
      "F_G_min/F_L = 14.0354\n",
      "\n",
      "Partition coef. modified [] = 0.0712\n",
      "\n",
      "Min stripping factor = 0.99994\n"
     ]
    }
   ],
   "source": [
    "'''Air stripping of 1,2-dichloroethane from water'''\n",
    "\n",
    "print('Temperture = %5.4f [C]  = %5.4f [F] = %5.4f [K] '%(temp_C, const.convert_temperature(temp_C,'C','F'),\n",
    "                                                                temp))\n",
    "print('Pressure   = %5.4f [Pa] = %5.4f [atm] '%(pressure, pressure/const.atm))\n",
    "print('')\n",
    "\n",
    "mass_dens_L  = 997.05 * const.kilo * const.gram / const.meter**3 # (assume pure H2O at 25C)\n",
    "\n",
    "molar_mass_air = 28.9647 * const.gmol                # (molar mass of dry air)\n",
    "molar_mass_G   = molar_mass_air\n",
    "\n",
    "partition_coef = 60\n",
    "\n",
    "partition_coef_mod = partition_coef * molar_mass_G * pressure / const.R / temp / mass_dens_L\n",
    "\n",
    "# Top of tower\n",
    "w_A_L_N1   = 85 * const.ppm         # mass fraction\n",
    "rho_A_L_N1 = mass_dens_L * w_A_L_N1 # mass concentration\n",
    "\n",
    "# Bottom of tower\n",
    "w_A_L_1    = 0.005 * const.ppm\n",
    "rho_A_L_1  = mass_dens_L * w_A_L_1 \n",
    "\n",
    "# Bottom of tower\n",
    "rho_A_G_0  = 0.0\n",
    "\n",
    "# Overall mass balance with equilibrium condition at the top end\n",
    "f_G_min = f_L / partition_coef_mod * ( 1 - rho_A_L_1/rho_A_L_N1 )\n",
    "\n",
    "f_G_f_L_ratio_min = f_G_min / f_L\n",
    "\n",
    "# Stripping factor\n",
    "strip_factor_min = f_G_f_L_ratio_min / partition_coef_mod**-1\n",
    "\n",
    "print('Flowrate L     = %5.4f [m^3/s] = %5.4f [gpm]'%(f_L, f_L/const.gpm))\n",
    "print('Flowrate G min = %5.4f [m^3/s] = %5.4f [gpm] = %5.4f [cfm]'%(f_G_min, f_G_min/const.gpm, f_G_min/const.cfm))\n",
    "print('')\n",
    "print('F_G_min/F_L = %5.4f'%(f_G_f_L_ratio_min))\n",
    "print('')\n",
    "print('Partition coef. modified [] = %5.4f'%(partition_coef_mod))\n",
    "\n",
    "print('')\n",
    "print('Min stripping factor = %5.5f'%strip_factor_min)"
   ]
  },
  {
   "cell_type": "code",
   "execution_count": 5,
   "metadata": {},
   "outputs": [
    {
     "name": "stdout",
     "output_type": "stream",
     "text": [
      "Target [A] in exiting gas = 6.038 [mg/L]\n",
      "\n",
      "Molar mass of air        [g/mol] =  28.9647\n",
      "Molar mass of gas (mean) [g/mol] =  29.016939648390302\n",
      "\n",
      "Flowrate G min [scfm] = 2725.2301\n"
     ]
    }
   ],
   "source": [
    "'''Standard cubic feet per minute calculation'''\n",
    "\n",
    "# Overall mass balance\n",
    "rho_A_G_N = ( rho_A_L_N1 - rho_A_L_1 ) / f_G_f_L_ratio_min\n",
    "print('Target [A] in exiting gas = %5.3f [mg/L]'%(rho_A_G_N/const.mg_per_liter))\n",
    "\n",
    "# Averate molar mass of the gas\n",
    "molar_mass_DCA = 98.95 * const.gmol\n",
    "rho_A_G_mean = (0 + rho_A_G_N)/2.0\n",
    "molar_mass_G = molar_mass_air + (1 - molar_mass_air/molar_mass_DCA) * rho_A_G_mean * const.R * temp / pressure\n",
    "print('')\n",
    "print('Molar mass of air        [g/mol] = ', molar_mass_air/const.gmol)\n",
    "print('Molar mass of gas (mean) [g/mol] = ', molar_mass_G/const.gmol)\n",
    "\n",
    "p_std = 1 * const.atm\n",
    "v_std = 1 * const.foot**3\n",
    "t_std = const.convert_temperature(60,'F','K')\n",
    "n_std = p_std * v_std / const.R / t_std\n",
    "\n",
    "mass_dens_G = pressure * molar_mass_G / const.R / temp\n",
    "f_G_min_scfm = f_G_min*const.minute * mass_dens_G / molar_mass_G / n_std\n",
    "print('')\n",
    "print('Flowrate G min [scfm] = %5.4f'%(f_G_min_scfm))"
   ]
  },
  {
   "cell_type": "markdown",
   "metadata": {},
   "source": [
    "Answer 1.1)<a id=\"ap11\"></a>: Flowrate G min [scfm] = 2725.2301  "
   ]
  },
  {
   "cell_type": "code",
   "execution_count": 6,
   "metadata": {},
   "outputs": [
    {
     "name": "stdout",
     "output_type": "stream",
     "text": [
      "Flow rate G = 2.6565 [m^3/s] = 42106.0594 [gpm]\n",
      "F_G/F_L = 28.0707\n",
      "Stripping factor = 1.9999\n",
      "Target [A] in exiting gas = 3.019 [mg/L]\n",
      "\n",
      "Number of equilibrium stages =  14\n",
      "\n",
      "Mass Concentrations [mg/L] at T = 25.00\n",
      "     k  rho_A_L(k)  rho_A_G(k)  rho_A_L(k+1)\n",
      "0    1    4.99E-03    3.55E-04      1.50E-02\n",
      "1    2    1.50E-02    1.07E-03      3.49E-02\n",
      "2    3    3.49E-02    2.49E-03      7.48E-02\n",
      "3    4    7.48E-02    5.33E-03      1.55E-01\n",
      "4    5    1.55E-01    1.10E-02      3.14E-01\n",
      "5    6    3.14E-01    2.24E-02      6.33E-01\n",
      "6    7    6.33E-01    4.51E-02      1.27E+00\n",
      "7    8    1.27E+00    9.05E-02      2.55E+00\n",
      "8    9    2.55E+00    1.81E-01      5.10E+00\n",
      "9   10    5.10E+00    3.63E-01      1.02E+01\n",
      "10  11    1.02E+01    7.27E-01      2.04E+01\n",
      "11  12    2.04E+01    1.45E+00      4.08E+01\n",
      "12  13    4.08E+01    2.91E+00      8.16E+01\n",
      "13  14    8.16E+01    5.81E+00      1.63E+02\n",
      "\n",
      "Concentration of A in exiting gas [mg/L] = 5.815e+00\n",
      "\n",
      "Molar mass of air        [g/mol] =  28.9647\n",
      "Molar mass of gas (mean) [g/mol] =  28.979068450160472\n"
     ]
    }
   ],
   "source": [
    "'''Air stripping of 1,2-dichloroethane from water'''\n",
    "\n",
    "f_G = 2 * f_G_min  # from problem statement\n",
    "\n",
    "f_G_f_L_ratio = f_G / f_L\n",
    "strip_factor = f_G_f_L_ratio / partition_coef_mod**-1\n",
    "\n",
    "print('Flow rate G = %5.4f [m^3/s] = %5.4f [gpm]'%(f_G, f_G/const.gpm))\n",
    "print('F_G/F_L = %5.4f'%(f_G_f_L_ratio))\n",
    "print('Stripping factor = %5.4f'%strip_factor)\n",
    "\n",
    "# Overall mass balance\n",
    "rho_A_G_N = ( rho_A_L_N1 - rho_A_L_1 ) / f_G_f_L_ratio\n",
    "print('Target [A] in exiting gas = %5.3f [mg/L]'%(rho_A_G_N/const.mg_per_liter))\n",
    "\n",
    "# Equilibrium line definition: y = a x\n",
    "eq_func = lambda x: partition_coef_mod * x\n",
    "\n",
    "# Operating line definition: x = a y + b\n",
    "op_slope = strip_factor * partition_coef_mod**-1\n",
    "b = rho_A_L_1  # intercept point\n",
    "op_func = lambda y: op_slope * y + b\n",
    "\n",
    "# Data storage for graphical output\n",
    "xpts = list() # x coord. for solution plotting\n",
    "ypts = list() # y coord. for solution plotting\n",
    "xpts.append( rho_A_L_1 )\n",
    "ypts.append( rho_A_G_0 )\n",
    "\n",
    "# Data storage for a table output\n",
    "table = dict()\n",
    "table['k']            = list()\n",
    "table['rho_A_L(k)']   = list()\n",
    "table['rho_A_G(k)']   = list()\n",
    "table['rho_A_L(k+1)'] = list()\n",
    "\n",
    "# Solve for mass concentrations in the network tower\n",
    "# Start at the bottom and move towards the top\n",
    "\n",
    "rho_A_L_k = rho_A_L_1\n",
    "rho_A_G_k = rho_A_G_0\n",
    "\n",
    "k_node     = 0\n",
    "k_node_max = 50\n",
    "while rho_A_G_k <= rho_A_G_N and k_node <= k_node_max:\n",
    "    \n",
    "    table['rho_A_L(k)'].append(rho_A_L_k/const.mg_per_liter)\n",
    "    \n",
    "    # Compute equilibrium point\n",
    "    rho_A_G_k = eq_func(rho_A_L_k)\n",
    "    \n",
    "    xpts.append( rho_A_L_k/const.mg_per_liter )\n",
    "    ypts.append( rho_A_G_k/const.mg_per_liter )\n",
    "    \n",
    "    table['rho_A_G(k)'].append(rho_A_G_k/const.mg_per_liter)\n",
    "    \n",
    "    # Compute operating line point\n",
    "    rho_A_L_k = op_func(rho_A_G_k) # overwrite k with k+1\n",
    "    \n",
    "    xpts.append(rho_A_L_k/const.mg_per_liter)\n",
    "    ypts.append(rho_A_G_k/const.mg_per_liter)\n",
    "    \n",
    "    table['rho_A_L(k+1)'].append(rho_A_L_k/const.mg_per_liter)\n",
    "    \n",
    "    k_node += 1\n",
    "    \n",
    "    table['k'].append(k_node)\n",
    "\n",
    "n_eq_stages = k_node\n",
    "\n",
    "print('')\n",
    "print('Number of equilibrium stages = ',n_eq_stages)\n",
    "\n",
    "import pandas as pd\n",
    "pd.set_option('display.float_format', '{:.2E}'.format)\n",
    "\n",
    "df = pd.DataFrame(table)\n",
    "print('')\n",
    "print('Mass Concentrations [mg/L] at T = %2.2f'%const.convert_temperature(temp,'K','C'))\n",
    "print(df)\n",
    "\n",
    "print('')\n",
    "print('Concentration of A in exiting gas [mg/L] = %1.3e'%(table['rho_A_G(k)'][-1]))\n",
    "\n",
    "# Sanity check: compute the average molar mass of the gas\n",
    "rho_A_G_mean = df['rho_A_G(k)'].mean() * const.mg_per_liter\n",
    "molar_mass_G = molar_mass_air + (1 - molar_mass_air/molar_mass_DCA) * rho_A_G_mean * const.R * temp / pressure\n",
    "print('')\n",
    "print('Molar mass of air        [g/mol] = ',molar_mass_air/const.gmol)\n",
    "print('Molar mass of gas (mean) [g/mol] = ',molar_mass_G/const.gmol)"
   ]
  },
  {
   "cell_type": "markdown",
   "metadata": {},
   "source": [
    "Answer 1.2)<a id=\"ap12\"></a>: Number of equilibrium stages =  14"
   ]
  },
  {
   "cell_type": "code",
   "execution_count": 8,
   "metadata": {},
   "outputs": [
    {
     "data": {
      "image/png": "[encoded data removed]",
      "text/plain": [
       "<Figure size 1080x432 with 1 Axes>"
      ]
     },
     "metadata": {
      "needs_background": "light"
     },
     "output_type": "display_data"
    },
    {
     "name": "stdout",
     "output_type": "stream",
     "text": [
      "\n"
     ]
    }
   ],
   "source": [
    "'''Plot the Solution Construction Diagram'''\n",
    "\n",
    "plot_diagram(xpts,ypts)"
   ]
  },
  {
   "cell_type": "code",
   "execution_count": 9,
   "metadata": {},
   "outputs": [
    {
     "data": {
      "image/png": "[encoded data removed]",
      "text/plain": [
       "<Figure size 1080x432 with 1 Axes>"
      ]
     },
     "metadata": {
      "needs_background": "light"
     },
     "output_type": "display_data"
    },
    {
     "name": "stdout",
     "output_type": "stream",
     "text": [
      "\n"
     ]
    }
   ],
   "source": [
    "'''Plot the Solute Concentration in the Phases'''\n",
    "\n",
    "plot_solution(table)"
   ]
  },
  {
   "cell_type": "code",
   "execution_count": 10,
   "metadata": {},
   "outputs": [
    {
     "name": "stdout",
     "output_type": "stream",
     "text": [
      "[A] in drinking water = 0.00499 [mg/L] or [ppm] = 4.98525 [ug/L]\n"
     ]
    }
   ],
   "source": [
    "print('[A] in drinking water = %5.5f [mg/L] or [ppm] = %5.5f [ug/L]'%(table['rho_A_L(k)'][0], table['rho_A_L(k)'][0]*1000))"
   ]
  },
  {
   "cell_type": "markdown",
   "metadata": {},
   "source": [
    "Answer 1.3)<a id=\"ap13\"></a>: [A] in drinking water = 0.00499 [mg/L] or [ppm] = 4.98525 [ug/L]"
   ]
  },
  {
   "cell_type": "code",
   "execution_count": 11,
   "metadata": {},
   "outputs": [
    {
     "name": "stdout",
     "output_type": "stream",
     "text": [
      "Partition coef. from Henry\"s cte [] = 0.0589\n",
      "\n",
      "Partition coef. modified []         = 0.0712\n",
      "\n",
      "Error relative to Henry\"s [%] = 21.0474\n"
     ]
    }
   ],
   "source": [
    "a_param   = -4.02e3\n",
    "b_param   =  6.94\n",
    "henry_cte = math.exp(a_param/temp + b_param) * const.atm*const.meter**3/const.mol\n",
    "\n",
    "partition_coef = henry_cte/const.gas_constant/temp\n",
    "print('Partition coef. from Henry\"s cte [] = %5.4f'%(partition_coef))\n",
    "print('')\n",
    "print('Partition coef. modified []         = %5.4f'%(partition_coef_mod))\n",
    "print('')\n",
    "print('Error relative to Henry\"s [%%] = %5.4f'%((partition_coef_mod-partition_coef)/partition_coef*100))"
   ]
  },
  {
   "cell_type": "markdown",
   "metadata": {},
   "source": [
    "Answer 1.4)<a id=\"ap14\"></a>: Partition coef. from Henry\"s cte [] = 0.0589; Partition coef. modified [] = 0.0712; Error relative to Henry\"s [%] = 21.0474 \n",
    "\n",
    "From the [New Jersey site remediation program](https://www.nj.gov/dep/srp/guidance/rs/), data for Henry's coefficient of DCA in water/air were [found](https://www.nj.gov/dep/srp/guidance/rs/chemproperties.pdf)."
   ]
  },
  {
   "cell_type": "markdown",
   "metadata": {},
   "source": [
    "### <span style=\"color:blue\"> Problem 2 (50 pts) </span> <a id=\"p2\"></a>"
   ]
  },
  {
   "cell_type": "markdown",
   "metadata": {},
   "source": [
    "1. <span style=\"color:blue\"> Design a trayed tower for the same flow rates used in Problem 1. </span> [Answer p2.1](#ap21)\n",
    "\n",
    "2. <span style=\"color:blue\"> What is the efficiency of your tower? </span> [Answer p2.2](#ap22)\n",
    "\n",
    "3. <span style=\"color:blue\"> Verify whether the concentrations of the VOCs in the water do meet the current EPA standards; show your source of information.</span> [Answer p2.3](#ap23)\n",
    "4. <span style=\"color:blue\"> Discuss the toxicity of the VOCs according to your sources. </span> [Answer p2.4](#ap24)\n",
    "5. <span style=\"color:blue\"> Would you consume the water from this water treatment you designed? </span> [Answer p2.5](#ap25)"
   ]
  },
  {
   "cell_type": "code",
   "execution_count": 12,
   "metadata": {},
   "outputs": [
    {
     "name": "stdout",
     "output_type": "stream",
     "text": [
      "Liquid molar rate = 18871.2241 [kmol/h]\n",
      "Gas molar rate    = 397.8151 [kmol/h]\n",
      "\n",
      "F_LV = 1.0162 \n"
     ]
    }
   ],
   "source": [
    "'''Air stripping of 1,2-dichloroethane from water'''\n",
    "'''Compute the kinetic energy ratio correlation parameter'''\n",
    "\n",
    "molar_mass_water = molar_mass_L = 18 * const.gmol\n",
    "\n",
    "molar_rate_L = mass_dens_L * f_L / molar_mass_water\n",
    "\n",
    "print( 'Liquid molar rate = %5.4f [kmol/h]'%(molar_rate_L/(const.kilo*const.mol/const.hour)) )\n",
    "\n",
    "# There should be only one f_G (the largest among all solutes)\n",
    "f_G = 2.7 # from other solute calculations (DCA)\n",
    "\n",
    "f_G_f_L_ratio = f_G / f_L\n",
    "strip_factor = f_G_f_L_ratio / partition_coef_mod**-1\n",
    "\n",
    "molar_rate_G = mass_dens_G * f_G / molar_mass_G\n",
    "\n",
    "print( 'Gas molar rate    = %5.4f [kmol/h]'%(molar_rate_G/(const.kilo*const.mol/const.hour)) )\n",
    "\n",
    "F_LV = molar_rate_L / molar_rate_G * molar_mass_water / molar_mass_G * math.sqrt(mass_dens_G/mass_dens_L)\n",
    "print('')\n",
    "print('F_LV = %5.4f '%(F_LV))"
   ]
  },
  {
   "cell_type": "code",
   "execution_count": 13,
   "metadata": {},
   "outputs": [
    {
     "name": "stdout",
     "output_type": "stream",
     "text": [
      "C_F = 0.0457 [m/s] = 0.1500 [ft/s]\n",
      "U_f = 1.5531 [m/s] = 5.0955 [ft/s]\n"
     ]
    }
   ],
   "source": [
    "'''Compute the gas flooding velocity'''\n",
    "\n",
    "tray_spacing = 36*const.inch # design decision\n",
    "\n",
    "C_F = 0.15 * const.foot/const.second # from F_LV = 1.0329, 36\" spacing\n",
    "\n",
    "print( 'C_F = %5.4f [m/s] = %5.4f [ft/s]'%(C_F, C_F/(const.foot/const.second)) )\n",
    "\n",
    "A_d_over_A_T = 0.2 # downcomer area over total cross section area from F_LV >= 1\n",
    "\n",
    "sigma = 75 * const.dyne / const.centimeter # dyn/cm  water + solute; estimated as lower than water\n",
    "F_ST  = (sigma / (20 * const.dyne / const.centimeter) )**0.2\n",
    "\n",
    "F_F  = 0.9 # foaming factor\n",
    "\n",
    "A_h_over_A_a = 0.3 # design decision: perforated area A_h over active area for gas to flow A_a = A - 2 A_d\n",
    "\n",
    "perforation_diameter = 8 * const.millimeter # design decision\n",
    "\n",
    "F_HA = 1 # when A_h_over_A_a >= 0.1\n",
    "\n",
    "C = F_ST * F_F * F_HA * C_F # ft/s\n",
    "\n",
    "U_f = C * math.sqrt( (mass_dens_L-mass_dens_G)/mass_dens_G )\n",
    "\n",
    "print('U_f = %5.4f [m/s] = %5.4f [ft/s]'%(U_f, U_f/(const.foot/const.second)))"
   ]
  },
  {
   "cell_type": "code",
   "execution_count": 14,
   "metadata": {},
   "outputs": [
    {
     "name": "stdout",
     "output_type": "stream",
     "text": [
      "D_T [m] = 1.8597 [m]\n",
      "D_T [m] = 2.9941 [m]\n"
     ]
    }
   ],
   "source": [
    "'''Compute tower diameter'''\n",
    "\n",
    "flood = 0.8 # flooding parameter design decision\n",
    "\n",
    "D_T = math.sqrt( 4/flood * molar_rate_G * molar_mass_G / mass_dens_G / U_f / math.pi / (1 - A_d_over_A_T) )\n",
    "\n",
    "print('D_T [m] = %5.4f [m]'%(D_T))\n",
    "\n",
    "D_T *= 1.61\n",
    "print('D_T [m] = %5.4f [m]'%(D_T))"
   ]
  },
  {
   "cell_type": "code",
   "execution_count": 15,
   "metadata": {},
   "outputs": [
    {
     "name": "stdout",
     "output_type": "stream",
     "text": [
      "u_0 = 2.1304 [m/s] = 6.9895 [ft/s]\n",
      "\n",
      "h_d = 0.0005 [m] = 0.0192 [inch]\n"
     ]
    }
   ],
   "source": [
    "'''Compute the dry pressure drop across tray'''\n",
    "\n",
    "A_T = math.pi * (D_T/2)**2\n",
    "A_d = A_d_over_A_T * A_T\n",
    "A_a = A_T - 2 * A_d\n",
    "A_h = A_a * A_h_over_A_a\n",
    "\n",
    "u_0 = molar_rate_G * molar_mass_G / mass_dens_G / A_h # perforation gas speed\n",
    "\n",
    "print( 'u_0 = %5.4f [m/s] = %5.4f [ft/s]'%(u_0,u_0/(const.foot/const.second)) )\n",
    "\n",
    "c_0 = 0.75  # orifice coefficient  0.65 to 0.85\n",
    "\n",
    "h_d = 0.186 * (u_0/(const.foot/const.second))**2 / c_0**2 * mass_dens_G / mass_dens_L * const.inch\n",
    "print('')\n",
    "print('h_d = %5.4f [m] = %5.4f [inch]'%(h_d, h_d/const.inch))"
   ]
  },
  {
   "cell_type": "code",
   "execution_count": 16,
   "metadata": {},
   "outputs": [
    {
     "name": "stdout",
     "output_type": "stream",
     "text": [
      "u_a = 0.6391 [m/s] = 2.0968 [ft/s]\n",
      "K_s = 0.0221 [m/s] = 0.0724 [ft/s]\n",
      "phi_e = 0.6708\n",
      "q_L = 0.0946 [m/s] = 1500.0000 [gpm]\n",
      "C_l = 0.3620 []\n",
      "\n",
      "h_l = 0.0958 [m] = 3.7720 [inch]\n"
     ]
    }
   ],
   "source": [
    "'''Compute wet pressure drop across tray'''\n",
    "\n",
    "u_a = molar_rate_G * molar_mass_G / mass_dens_G / A_a # superficial velocity of the gas based on active area A_a\n",
    "print('u_a = %5.4f [m/s] = %5.4f [ft/s]'%(u_a,u_a/(const.foot/const.second)))\n",
    "\n",
    "K_s = u_a * math.sqrt(mass_dens_G/(mass_dens_L-mass_dens_G)) # capacity parameter\n",
    "print('K_s = %5.4f [m/s] = %5.4f [ft/s]'%(K_s,K_s/(const.foot/const.second)))\n",
    "\n",
    "phi_e = math.exp(-4.357 * (K_s/(const.foot/const.second))**0.91) # effective relative froth density\n",
    "print('phi_e = %5.4f'%(phi_e))\n",
    "\n",
    "L_w = 0.871 * D_T    # see notebook 05 use 0.871 D_T when A_d/A_T >= 0.2\n",
    "\n",
    "h_w = 2.8 * const.inch # design decision\n",
    "\n",
    "q_L = molar_rate_L * molar_mass_L / mass_dens_L # liquid volumetric flow rate\n",
    "print('q_L = %5.4f [m/s] = %5.4f [gpm]'%(q_L, q_L/(const.gallon/const.minute)))\n",
    "\n",
    "C_l = 0.362 + 0.317 * math.exp(-3.5 * h_w/const.inch)\n",
    "print('C_l = %5.4f []'%(C_l))\n",
    "\n",
    "h_l = phi_e * ( h_w/const.inch + C_l * ( q_L/const.gpm / (L_w/const.inch) / phi_e )**(2/3) ) * const.inch\n",
    "\n",
    "print('')\n",
    "print('h_l = %5.4f [m] = %5.4f [inch]'%(h_l,h_l/const.inch))"
   ]
  },
  {
   "cell_type": "code",
   "execution_count": 17,
   "metadata": {},
   "outputs": [
    {
     "name": "stdout",
     "output_type": "stream",
     "text": [
      "h_sigma = 0.0058 [m] = 0.2265 [inch]\n"
     ]
    }
   ],
   "source": [
    "'''Compute the surface tension pressure drop across tray'''\n",
    "\n",
    "D_B_max = perforation_diameter # maximum bubble diameter\n",
    "h_sigma = 6 * sigma / const.g / mass_dens_L / D_B_max\n",
    "\n",
    "print('h_sigma = %5.4f [m] = %5.4f [inch]'%(h_sigma,h_sigma/const.inch))"
   ]
  },
  {
   "cell_type": "code",
   "execution_count": 18,
   "metadata": {},
   "outputs": [
    {
     "name": "stdout",
     "output_type": "stream",
     "text": [
      "h_T = 0.1020 [m] = 4.0177 [inch]\n",
      "delta_P_T = 997.8054 [Pa] = 0.1447 [psi]\n"
     ]
    }
   ],
   "source": [
    "'''Compute the total pressure drop across tray'''\n",
    "\n",
    "h_T = h_d + h_l + h_sigma\n",
    "\n",
    "print('h_T = %5.4f [m] = %5.4f [inch]'%(h_T,h_T/const.inch))\n",
    "\n",
    "delta_P_T = mass_dens_L * const.g * h_T\n",
    "print('delta_P_T = %5.4f [Pa] = %5.4f [psi]'%(delta_P_T, delta_P_T/const.psi))"
   ]
  },
  {
   "cell_type": "code",
   "execution_count": 19,
   "metadata": {},
   "outputs": [
    {
     "name": "stdout",
     "output_type": "stream",
     "text": [
      "t_G = 0.0736 [s]\n",
      "t_L = 4.2769 [s]\n"
     ]
    }
   ],
   "source": [
    "'''Compute flow residence times'''\n",
    "\n",
    "t_G = (1-phi_e)/phi_e * h_l / u_a\n",
    "print('t_G = %5.4f [s]'%(t_G))\n",
    "\n",
    "t_L = h_l * A_a / q_L\n",
    "print('t_L = %5.4f [s]'%(t_L))"
   ]
  },
  {
   "cell_type": "markdown",
   "metadata": {},
   "source": [
    " From the [New Jersey site remediation program](https://www.nj.gov/dep/srp/guidance/rs/), data for diffusion of DCA in water and air were [found](https://www.nj.gov/dep/srp/guidance/rs/chemproperties.pdf)."
   ]
  },
  {
   "cell_type": "code",
   "execution_count": 20,
   "metadata": {},
   "outputs": [
    {
     "name": "stdout",
     "output_type": "stream",
     "text": [
      "k_G_a = 28.8591 [1/s]\n",
      "k_L_a = 0.2779 [1/s]\n"
     ]
    }
   ],
   "source": [
    "'''Compute mass transfer coefficients'''\n",
    "\n",
    "D_V = 1.04e-1 * (const.centimeter)**2/const.second # 1,2 dichloroethane from literature\n",
    "f = u_a / U_f\n",
    "k_G_a = 1030 * math.sqrt(D_V/(const.centimeter**2/const.second)) * (f - 0.842 * f**2) / math.sqrt(h_l/const.centimeter)\n",
    "\n",
    "print('k_G_a = %5.4f [1/s]'%(k_G_a))\n",
    "\n",
    "D_L = 9.9e-6 * (const.centi*const.meter)**2/const.second # 1,2 dichloroethane from literature\n",
    "F = u_a * math.sqrt(mass_dens_G)\n",
    "k_L_a = 78.8 * math.sqrt(D_L/(const.centimeter**2/const.second)) * (F + 0.425)\n",
    "\n",
    "print('k_L_a = %5.4f [1/s]'%(k_L_a))"
   ]
  },
  {
   "cell_type": "code",
   "execution_count": 21,
   "metadata": {},
   "outputs": [
    {
     "name": "stdout",
     "output_type": "stream",
     "text": [
      "e_G = 0.4709 []\n",
      "e_L = 0.4139 []\n",
      "E_G = 0.8848 []\n"
     ]
    }
   ],
   "source": [
    "'''Compute the mass transfer relaxation factor'''\n",
    "\n",
    "N_G = k_G_a * t_G\n",
    "e_G = 1/N_G\n",
    "print('e_G = %5.4f []'%(e_G))\n",
    "\n",
    "N_L = k_L_a * t_L\n",
    "e_L = 1/strip_factor/N_L\n",
    "print('e_L = %5.4f []'%(e_L))\n",
    "\n",
    "E_G = e_G + e_L\n",
    "\n",
    "print('E_G = %5.4f []'%(E_G))"
   ]
  },
  {
   "cell_type": "code",
   "execution_count": 22,
   "metadata": {},
   "outputs": [
    {
     "name": "stdout",
     "output_type": "stream",
     "text": [
      "Flow rate G = 2.7000 [m^3/s] = 42795.8725 [gpm]\n",
      "F_G/F_L = 28.5306\n",
      "Stripping factor = 2.0326\n",
      "Gas-phase relaxation factor            = 0.885\n",
      "Gas-phase normalized relaxation factor = 0.469\n",
      "Efficiency = 35.73 [%]\n",
      "Number of non-equilibrium stages =  31\n",
      "\n",
      "Mass Concentrations [mg/L] at T = 25.00\n",
      "     k  rho_A_L(k)  rho_A_G(k)  rho_A_L(k+1)\n",
      "0    1       0.005       0.000         0.009\n",
      "1    2       0.009       0.000         0.013\n",
      "2    3       0.013       0.001         0.020\n",
      "3    4       0.020       0.001         0.029\n",
      "4    5       0.029       0.001         0.040\n",
      "5    6       0.040       0.002         0.056\n",
      "6    7       0.056       0.003         0.077\n",
      "7    8       0.077       0.004         0.106\n",
      "8    9       0.106       0.005         0.145\n",
      "9   10       0.145       0.007         0.197\n",
      "10  11       0.197       0.009         0.267\n",
      "11  12       0.267       0.013         0.361\n",
      "12  13       0.361       0.017         0.488\n",
      "13  14       0.488       0.023         0.659\n",
      "14  15       0.659       0.032         0.890\n",
      "15  16       0.890       0.043         1.200\n",
      "16  17       1.200       0.057         1.618\n",
      "17  18       1.618       0.078         2.181\n",
      "18  19       2.181       0.105         2.940\n",
      "19  20       2.940       0.141         3.962\n",
      "20  21       3.962       0.190         5.338\n",
      "21  22       5.338       0.256         7.192\n",
      "22  23       7.192       0.345         9.690\n",
      "23  24       9.690       0.465        13.053\n",
      "24  25      13.053       0.626        17.584\n",
      "25  26      17.584       0.844        23.686\n",
      "26  27      23.686       1.136        31.905\n",
      "27  28      31.905       1.531        42.977\n",
      "28  29      42.977       2.062        57.889\n",
      "29  30      57.889       2.778        77.975\n",
      "30  31      77.975       3.741       105.029\n",
      "\n",
      "# equilibrium stages / efficiency = 39\n"
     ]
    }
   ],
   "source": [
    "'''Air stripping of 1,1-dichloroethane from water'''\n",
    "\n",
    "relax_factor = E_G\n",
    "relax_factor_hat = relax_factor/(relax_factor+1)\n",
    "\n",
    "print('Flow rate G = %5.4f [m^3/s] = %5.4f [gpm]'%(f_G, f_G/const.gpm))\n",
    "print('F_G/F_L = %5.4f'%(f_G_f_L_ratio))\n",
    "print('Stripping factor = %5.4f'%strip_factor)\n",
    "\n",
    "print('Gas-phase relaxation factor            = %2.3f'%relax_factor)\n",
    "print('Gas-phase normalized relaxation factor = %2.3f'%relax_factor_hat)\n",
    "\n",
    "efficiency = 1/(1+strip_factor*relax_factor)\n",
    "print('Efficiency = %2.2f [%%]'%(efficiency*100))\n",
    "\n",
    "partition_coef = partition_coef_mod\n",
    "\n",
    "# Non-equilibrium line: x = a y + b\n",
    "neq_slope = partition_coef**-1 * ( 1 + relax_factor_hat*(strip_factor - 1) )\n",
    "b_neq = rho_A_L_1 * relax_factor_hat # intercept point\n",
    "neq_func = lambda x: neq_slope**-1 * ( x - b_neq )\n",
    "\n",
    "# Data storage for graphical output\n",
    "xpts = list() # x coord. for solution plotting\n",
    "ypts = list() # y coord. for solution plotting\n",
    "xpts.append(rho_A_L_1)\n",
    "ypts.append(rho_A_G_0)\n",
    "\n",
    "# Data storage for a table output\n",
    "table = dict()\n",
    "table['k']            = list()\n",
    "table['rho_A_L(k)']   = list()\n",
    "table['rho_A_G(k)']   = list()\n",
    "table['rho_A_L(k+1)'] = list()\n",
    "\n",
    "# Solve for mass concentrations in the network tower\n",
    "# Start at the bottom and move towards the top\n",
    "\n",
    "rho_A_L_k = rho_A_L_1\n",
    "rho_A_G_k = rho_A_G_0\n",
    "\n",
    "k_node     = 0\n",
    "k_node_max = 50\n",
    "while rho_A_G_k <= rho_A_G_N and k_node <= k_node_max:\n",
    "    \n",
    "    table['rho_A_L(k)'].append(rho_A_L_k/const.mg_per_liter)\n",
    "    \n",
    "    # Compute the non-equilibrium point\n",
    "    rho_A_G_k = neq_func(rho_A_L_k)\n",
    "    \n",
    "    xpts.append(rho_A_L_k/const.mg_per_liter)\n",
    "    ypts.append(rho_A_G_k/const.mg_per_liter)\n",
    "    \n",
    "    table['rho_A_G(k)'].append(rho_A_G_k/const.mg_per_liter)\n",
    "    \n",
    "    # Compute operating line point\n",
    "    rho_A_L_k = op_func(rho_A_G_k) # overwrite k with k+1\n",
    "    \n",
    "    xpts.append(rho_A_L_k/const.mg_per_liter)\n",
    "    ypts.append(rho_A_G_k/const.mg_per_liter)\n",
    "    \n",
    "    table['rho_A_L(k+1)'].append(rho_A_L_k/const.mg_per_liter)\n",
    "    \n",
    "    k_node += 1\n",
    "    \n",
    "    table['k'].append(k_node)\n",
    "\n",
    "n_neq_stages = k_node\n",
    "    \n",
    "print('Number of non-equilibrium stages = ',n_neq_stages)\n",
    "\n",
    "import pandas as pd\n",
    "pd.set_option('display.float_format', '{:.3F}'.format)\n",
    "\n",
    "df = pd.DataFrame(table)\n",
    "print('')\n",
    "print('Mass Concentrations [mg/L] at T = %2.2f'%const.convert_temperature(temp,'K','C'))\n",
    "print(df)\n",
    "\n",
    "print('')\n",
    "print('# equilibrium stages / efficiency = %i'%round(n_eq_stages/efficiency,0))"
   ]
  },
  {
   "cell_type": "code",
   "execution_count": 23,
   "metadata": {},
   "outputs": [
    {
     "data": {
      "image/png": "[encoded data removed]",
      "text/plain": [
       "<Figure size 1080x432 with 1 Axes>"
      ]
     },
     "metadata": {
      "needs_background": "light"
     },
     "output_type": "display_data"
    },
    {
     "name": "stdout",
     "output_type": "stream",
     "text": [
      "\n"
     ]
    }
   ],
   "source": [
    "'''Plot the Solution Construction Diagram'''\n",
    "\n",
    "plot_diagram(xpts,ypts)"
   ]
  },
  {
   "cell_type": "code",
   "execution_count": 24,
   "metadata": {},
   "outputs": [
    {
     "data": {
      "image/png": "[encoded data removed]",
      "text/plain": [
       "<Figure size 1080x432 with 1 Axes>"
      ]
     },
     "metadata": {
      "needs_background": "light"
     },
     "output_type": "display_data"
    },
    {
     "name": "stdout",
     "output_type": "stream",
     "text": [
      "\n"
     ]
    }
   ],
   "source": [
    "'''Plot the Solute Concentration in the Phases'''\n",
    "\n",
    "plot_solution(table)"
   ]
  },
  {
   "cell_type": "code",
   "execution_count": 25,
   "metadata": {},
   "outputs": [
    {
     "name": "stdout",
     "output_type": "stream",
     "text": [
      "# of trays        =    31 []\n",
      "tower height      =  28.3 [m]   =  93.0 [ft]\n",
      "tower diameter    =   3.0 [m]   =   9.8 [ft]\n",
      "tower xsection    =   7.0 [m^2] =  75.8 [ft^2]\n",
      "gas active area   =   4.2 [m^2] =  45.5 [ft^2]\n",
      "downcomer area    =   1.4 [m^2] =  15.2 [ft^2]\n",
      "weir height       =   7.1 [cm]  =   2.8 [in]\n",
      "perforations/tray = 25213.5 []\n",
      "\n",
      "tray pressure drop = 997.8054 [Pa] = 0.1447 [psi]\n",
      "tower delta_P_T    = 30931.9668 [Pa] = 0.3053 [atm]\n",
      "tower avg pressure = 116790.9834 [Pa] = 1.1526 [atm]\n",
      "\n",
      "tower mass transfer efficiency  = 35.7342 [%]\n"
     ]
    }
   ],
   "source": [
    "'''Column Sizing'''\n",
    "\n",
    "print('# of trays        = %5i []'%(n_neq_stages))\n",
    "\n",
    "height = n_neq_stages * tray_spacing\n",
    "print('tower height      = %5.1f [m]   = %5.1f [ft]'%(height, height/const.foot))\n",
    "print('tower diameter    = %5.1f [m]   = %5.1f [ft]'%(D_T, D_T/const.foot))\n",
    "print('tower xsection    = %5.1f [m^2] = %5.1f [ft^2]'%(A_T, A_T/const.foot**2))\n",
    "print('gas active area   = %5.1f [m^2] = %5.1f [ft^2]'%(A_a, A_a/const.foot**2))\n",
    "print('downcomer area    = %5.1f [m^2] = %5.1f [ft^2]'%(A_d, A_d/const.foot**2))\n",
    "print('weir height       = %5.1f [cm]  = %5.1f [in]'%(h_w/const.centimeter, h_w/const.inch))\n",
    "\n",
    "n_hole_tray = A_h_over_A_a * A_a / math.pi / perforation_diameter**2 * 4\n",
    "print('perforations/tray = %5.1f []'%(n_hole_tray))\n",
    "\n",
    "print('')\n",
    "\n",
    "print('tray pressure drop = %5.4f [Pa] = %5.4f [psi]'%(delta_P_T,delta_P_T/const.psi))\n",
    "\n",
    "tower_pressure_drop = n_neq_stages * delta_P_T \n",
    "print('tower delta_P_T    = %5.4f [Pa] = %5.4f [atm]'%(tower_pressure_drop,tower_pressure_drop/const.atm))\n",
    "\n",
    "average_pressure = (tower_pressure_drop + pressure + pressure )/2.0\n",
    "print('tower avg pressure = %5.4f [Pa] = %5.4f [atm]'%(average_pressure,average_pressure/const.atm))\n",
    "\n",
    "print('')\n",
    "print('tower mass transfer efficiency  = %5.4f [%%]'%(efficiency*100))"
   ]
  },
  {
   "cell_type": "markdown",
   "metadata": {},
   "source": [
    "Answer 2.1)<a id=\"ap21\"></a>: Column specs in the above output."
   ]
  },
  {
   "cell_type": "code",
   "execution_count": 26,
   "metadata": {},
   "outputs": [
    {
     "data": {
      "text/plain": [
       "116790.98338388086"
      ]
     },
     "execution_count": 26,
     "metadata": {},
     "output_type": "execute_result"
    }
   ],
   "source": [
    "'''Use this cell to iterate on pressure'''\n",
    "pressure = ( (pressure + tower_pressure_drop) + pressure ) / 2.0\n",
    "pressure"
   ]
  },
  {
   "cell_type": "markdown",
   "metadata": {},
   "source": [
    "Answer 2.2)<a id=\"ap22\"></a>: tower mass transfer efficiency  = 35.7342 [%]"
   ]
  },
  {
   "cell_type": "markdown",
   "metadata": {},
   "source": [
    "Answer 2.3)<a id=\"ap23\"></a>: "
   ]
  },
  {
   "cell_type": "code",
   "execution_count": 27,
   "metadata": {},
   "outputs": [
    {
     "name": "stdout",
     "output_type": "stream",
     "text": [
      "[A] in drinking water = 0.0050 [mg/L] or [ppm] = 4.9852 [ug/L]\n"
     ]
    }
   ],
   "source": [
    "print('[A] in drinking water = %5.4f [mg/L] or [ppm] = %5.4f [ug/L]'%(table['rho_A_L(k)'][0], table['rho_A_L(k)'][0]*1000))"
   ]
  },
  {
   "cell_type": "markdown",
   "metadata": {},
   "source": [
    "[A] in drinking water = 0.0050 [mg/L] or [ppm] = 4.9852 [ug/L]\n",
    "\n",
    "From [EPA National Primary Drinking Water Regulations](https://www.epa.gov/ground-water-and-drinking-water/national-primary-drinking-water-regulations#Organic), the MCL for DCA in drinking water is: $5~\\mu$g/L. Maximum Contaminant Level (MCL) - The highest level of a contaminant that is allowed in drinking water. MCLs are set as close to MCLGs as feasible using the best available treatment technology and taking cost into consideration. MCLs are enforceable standards."
   ]
  },
  {
   "cell_type": "markdown",
   "metadata": {},
   "source": [
    "Answer 2.4)<a id=\"ap24\"></a>: Toxicity of DCA is found in \n",
    "\n",
    " + [Inhalation](https://www.epa.gov/sites/production/files/2016-09/documents/ethylene-dichloride.pdf)\n",
    " \n",
    " + [Drinking](https://www.epa.gov/ground-water-and-drinking-water/national-primary-drinking-water-regulations#Organic)\n",
    "\n",
    "From [EPA Health Effects Notebook for Hazardous Air Pollutants](https://www.epa.gov/haps/health-effects-notebook-hazardous-air-pollutants), [publication](https://www.epa.gov/sites/production/files/2016-09/documents/ethylene-dichloride.pdf):\n",
    "\n",
    " + Cancer Risk:\n",
    "   An increased incidence of colon and rectal cancer in men over 55 years of age exposed to ethylene dichloride in the drinking water has been reported. However, the study population was concomitantly exposed to other chemicals.\n",
    "\n",
    "The potential health effect from long-term exposure (drinking contaminated water) above the MCL is increased risk of cancer."
   ]
  },
  {
   "cell_type": "markdown",
   "metadata": {},
   "source": [
    "Answer 2.5)<a id=\"ap25\"></a>: I would not consume water from this water treatment system as is. Potable water facilities must comply with many other regulations. In my view as a consumer, a single gas stripping process is not enough to qualify as a whole facility. "
   ]
  },
  {
   "cell_type": "markdown",
   "metadata": {},
   "source": [
    "### <span style=\"color:blue\"> Overall result: DCA + TCE + TCA </span> <a id=\"all\"></a>\n",
    "\n",
    "The final tower specification is from the TCE calculations:\n",
    "\n",
    "| Component | value | \n",
    "| --------- | ------- |\n",
    "| # of trays   | 33 | \n",
    "| tower height | 30.2 [m]   =  99.0 [ft]| \n",
    "| tower diameter | 2.4 [m]   =   7.9 [ft] |\n",
    "| tower xsection | 4.5 [m^2] =  48.8 [ft^2] |\n",
    "| downcomer area | 0.9 [m^2] =   9.8 [ft^2] |\n",
    "| weir height | 7.6 [cm]  =   3.0 [in] |\n",
    "| perforations/tray |  14431.2 [] |\n",
    "| tray pressure drop | 1038.4898 [Pa] = 0.1506 [psi] |\n",
    "| tower delta_P_T | 34270.1627 [Pa] = 0.3382 [atm] |\n",
    "| tower avg pressure | 134990.1595 [Pa] = 1.3322 [atm] |\n",
    "\n",
    "therefore, the concentrations of DCA will need to be recalculated."
   ]
  },
  {
   "cell_type": "markdown",
   "metadata": {},
   "source": [
    "## Network Mass Balance Model<a id=\"model\"></a>\n",
    "\n",
    "The network of equations for mass balance in the gas and liquid phases for the A solute are respectively:\n",
    "\n",
    "\\begin{align*}\n",
    "-(\\efacg + 1)\\,x_{A,G}^{(k)}& &+& &\\efacg\\,x_{A,G}^{(k+1)}& &+& &K\\,x_{A,L}^{(k)}& &=& &\\ 0,\\\\\n",
    "(K\\,A)^{-1}\\,x_{A,G}^{(k)}&   &+& &\\efacg\\,x_{A,L}^{(k-1)}& &-& &(\\efacg + A^{-1})\\,x_{A,L}^{(k)}& &=& &\\ 0, \n",
    "\\end{align*}\n",
    "\n",
    "for $k=1,\\ldots,N$. Here values of $x_{A,G}^{(N+1)}$ (molar fraction of A in the gas phase at the bottom of the column) and $x_{A,L}^{(0)}$ (molar fraction of A in the liquid phase at the top of the column) need to be provided as boundary conditions.\n",
    "\n",
    "From the problem data\n",
    "\n",
    "+ $x_{A,G}^{(N+1)} = 0$ (clean incoming gas)\n",
    "+ $x_{A,L}^{(0)} = 85$ ppm (contaminated water inflow)\n",
    "\n",
    "Note that $N$ must be a given value such that the recovery of A is obtained as specified.\n",
    "The above problem is best expressed in matrix block form:\n",
    "\n",
    "\\begin{equation*}\n",
    "\\begin{pmatrix}\n",
    "\\Amtrx_{1,1} & \\Amtrx_{1,2} \\\\\n",
    "\\Amtrx_{2,1} & \\Amtrx_{2,2} \n",
    "\\end{pmatrix} \\, \n",
    "\\begin{pmatrix} \n",
    "\\xvec_\\text{G} \\\\ \\xvec_\\text{L} \\end{pmatrix} = \n",
    "\\begin{pmatrix} \n",
    "\\bvec_\\text{G} \\\\ \\bvec_\\text{L} \\end{pmatrix}\n",
    "\\end{equation*}\n",
    "\n",
    "where\n",
    " \n",
    "\\begin{equation*}\n",
    " \\Amtrx_{1,1} = \n",
    "  \\begin{pmatrix}\n",
    "-(\\efacg+1) & \\efacg      & \\dots  & 0           & 0         \\\\\n",
    "0           & -(\\efacg+1) & \\efacg & 0           & 0         \\\\\n",
    "\\vdots      & \\vdots      & \\ddots & \\ddots      & 0         \\\\\n",
    "0           & 0           & \\dots  & -(\\efacg+1) & \\efacg    \\\\\n",
    "0           & 0           & \\dots  & 0           & -(\\efacg+1)\n",
    "\\end{pmatrix},\n",
    "\\ \\ \\\n",
    " \\Amtrx_{1,2} = \n",
    "  \\begin{pmatrix}\n",
    "K       & 0      & \\dots  & 0      & 0 \\\\\n",
    "0       & K      & \\dots  & 0      & 0 \\\\\n",
    "\\vdots  & \\vdots & \\vdots & \\vdots & 0 \\\\\n",
    "0       & 0      & \\dots  & K      & 0 \\\\\n",
    "0       & 0      & \\dots  & 0      & K\n",
    "\\end{pmatrix}\n",
    "\\end{equation*}\n",
    "\n",
    "\\begin{equation*}\n",
    " \\Amtrx_{2,1} = \n",
    "  \\begin{pmatrix}\n",
    "(K\\,A)^{-1}       & 0      & \\dots  & 0      & 0 \\\\\n",
    "0       & (K\\,A)^{-1}      & \\dots  & 0      & 0 \\\\\n",
    "\\vdots  & \\vdots & \\ddots & \\vdots & 0 \\\\\n",
    "0       & 0      & \\dots  & (K\\,A)^{-1}      & 0 \\\\\n",
    "0       & 0      & \\dots  & 0      & (K\\,A)^{-1}\n",
    "\\end{pmatrix},\n",
    "\\ \\ \\ \n",
    " \\Amtrx_{2,2} = \n",
    "  \\begin{pmatrix}\n",
    "-(\\efacg+A^{-1}) & 0                & \\dots  & 0                & 0            \\\\\n",
    "\\efacg           & -(\\efacg+A^{-1}) & 0      & 0                & 0            \\\\\n",
    "\\vdots           & \\vdots           & \\ddots & \\vdots           & 0            \\\\\n",
    "0                & 0                & \\ddots & -(\\efacg+A^{-1}) & 0            \\\\\n",
    "0                & 0                & \\dots  & \\efacg           & -(\\efacg+A^{-1})\n",
    "\\end{pmatrix}\n",
    "\\end{equation*}\n",
    "\n",
    "Each block can be assembled separately and all blocks then put together to assemble $\\overset{(N\\times N)}{\\Amtrx}$. The solution vector is built from the individual molar concentration in the gas and liquid such as\n",
    "\n",
    "\\begin{equation*}\n",
    " \\xvec = \n",
    "  \\begin{pmatrix}\n",
    "   \\xvec_{G}\\\\\n",
    "   \\xvec_{L}\n",
    " \\end{pmatrix} \n",
    " =\n",
    "  \\begin{pmatrix}\n",
    "  x_{A,G}^{(1)}\\\\\n",
    "  \\vdots\\\\\n",
    "  x_{A,G}^{(N)}\\\\\n",
    "  x_{A,L}^{(1)}\\\\\n",
    "  \\vdots\\\\\n",
    "  x_{A,L}^{(N)}\n",
    "  \\end{pmatrix}.\n",
    "\\end{equation*}\n",
    "\n",
    "The vector on the right side is mostly zero except for the entries involving the boundary conditions\n",
    "\n",
    "\\begin{equation*}\n",
    " \\bvec = \n",
    "  \\begin{pmatrix}\n",
    "  0\\\\\n",
    "  \\vdots\\\\\n",
    "  -\\efacg\\,x_{A,G}^{(N+1)}\\\\\n",
    "  -\\efacg\\,x_{A,L}^{(0)}\\\\\n",
    "  \\vdots\\\\\n",
    "  0\n",
    "  \\end{pmatrix}.\n",
    "\\end{equation*}\n",
    "\n",
    "### Non-Equilibrium\n",
    "When the system is in non-equilibrium, $\\efacg\\ne 0$, $\\Amtrx$ is full rank and only one solution exists for a given non-zero value of $\\efacg$."
   ]
  },
  {
   "cell_type": "code",
   "execution_count": null,
   "metadata": {
    "code_folding": []
   },
   "outputs": [],
   "source": [
    "'''Network Algebraic Equations Matrix of Coefficients'''\n",
    "# NOTE: the numbering of equations is for absorption, hence top-down (opposite of stripping)\n",
    "\n",
    "def get_network_matrix( nstages, partition_coef_x, absorp_factor_x, relax_factor=0.0 ):\n",
    "    import numpy as np\n",
    "\n",
    "    amtrx11 =  np.diag( np.ones(nstages)*(-( relax_factor + 1 )) )\n",
    "    amtrx11 += np.diag( np.ones(nstages-1)*relax_factor, 1 )\n",
    "\n",
    "    amtrx12 = np.diag( np.ones(nstages)*partition_coef_x )\n",
    "\n",
    "    amtrx21 = np.diag( np.ones(nstages)*(partition_coef_x*absorp_factor_x)**-1 )\n",
    "\n",
    "    amtrx22 =  np.diag( np.ones(nstages)*(-( relax_factor + absorp_factor_x**-1 )) )\n",
    "    amtrx22 += np.diag( np.ones(nstages-1)*relax_factor, -1 )\n",
    "\n",
    "    top   = np.concatenate( (amtrx11,amtrx12), axis=1 ) # concatenate sideways\n",
    "    bot   = np.concatenate( (amtrx21,amtrx22), axis=1 ) # concatenate sideways\n",
    "    amtrx = np.concatenate( (top,bot),axis=0 )          # concatenate vertically\n",
    "    \n",
    "    return amtrx"
   ]
  },
  {
   "cell_type": "code",
   "execution_count": null,
   "metadata": {
    "code_folding": []
   },
   "outputs": [],
   "source": [
    "'''RHS Network Algebraic Equations Vector'''\n",
    "\n",
    "def get_rhs_vector( nstages, relax_factor = 0.0, x_A_G_N1=0.0, x_A_L_0=0.0 ):\n",
    "    \n",
    "    import numpy as np\n",
    "    \n",
    "    bvec = np.zeros(2*nstages)\n",
    "    bvec[nstages-1] = -relax_factor * x_A_G_N1 # bottom inflow gas\n",
    "    bvec[nstages]   = -relax_factor * x_A_L_0  # top inflow liquid\n",
    "    \n",
    "    return bvec"
   ]
  },
  {
   "cell_type": "code",
   "execution_count": null,
   "metadata": {},
   "outputs": [],
   "source": [
    "'''Assemble Network Algebraic Equations Matrix of Coefficient'''\n",
    "\n",
    "import numpy as np\n",
    "\n",
    "n_trays = 33\n",
    "\n",
    "partition_coef_x = partition_coef_mod / mass_dens_G * mass_dens_L # mole fraction based partition coef.\n",
    "\n",
    "strip_factor_x  = f_G_f_L_ratio / partition_coef_x**-1\n",
    "absorp_factor_x = 1/strip_factor_x\n",
    "\n",
    "amtrx = get_network_matrix( n_trays, partition_coef_x, absorp_factor_x, relax_factor=relax_factor )\n",
    "    \n",
    "from engy_5140.help import plot_matrix\n",
    "plot_matrix(amtrx, title='Network Matrix')\n",
    "\n",
    "np.set_printoptions(precision=2,threshold=10,edgeitems=6,linewidth=80)\n",
    "print(amtrx)"
   ]
  },
  {
   "cell_type": "code",
   "execution_count": null,
   "metadata": {},
   "outputs": [],
   "source": [
    "'''Inspect rank of matrix'''\n",
    "\n",
    "rank = np.linalg.matrix_rank(amtrx)\n",
    "print('Rank = ', rank)\n",
    "print('Shape of Amtrx = ',amtrx.shape)"
   ]
  },
  {
   "cell_type": "code",
   "execution_count": null,
   "metadata": {},
   "outputs": [],
   "source": [
    "'''Assemble RHS of Network Algebraic Equations Vector'''\n",
    "# NOTE: the numbering of equations is for absorption, hence top-down (opposite of stripping)\n",
    "\n",
    "x_A_G_N1 = 0.0 # clean gas at bottom\n",
    "x_A_L_0  = molar_mass_L/molar_mass_DCA * ( rho_A_L_N1/mass_dens_L ) # incoming liquid at top\n",
    "\n",
    "bvec = get_rhs_vector( n_trays, relax_factor = relax_factor, x_A_G_N1=x_A_G_N1, x_A_L_0=x_A_L_0 )"
   ]
  },
  {
   "cell_type": "code",
   "execution_count": null,
   "metadata": {},
   "outputs": [],
   "source": [
    "'''Solve for mole fractions'''\n",
    "\n",
    "xvec = np.linalg.solve(amtrx,bvec)"
   ]
  },
  {
   "cell_type": "code",
   "execution_count": null,
   "metadata": {},
   "outputs": [],
   "source": [
    "'''Recover the individual mole fractions for each phase'''\n",
    "\n",
    "xvec_A_G = xvec[:n_trays]\n",
    "xvec_A_L = xvec[n_trays:]"
   ]
  },
  {
   "cell_type": "code",
   "execution_count": null,
   "metadata": {},
   "outputs": [],
   "source": [
    "'''Convert from mole fraction to mass concentration'''\n",
    "\n",
    "rho_A_G_vec = ( xvec_A_G * molar_mass_DCA / molar_mass_G ) * mass_dens_G\n",
    "rho_A_L_vec = ( xvec_A_L * molar_mass_DCA / molar_mass_L ) * mass_dens_L"
   ]
  },
  {
   "cell_type": "code",
   "execution_count": null,
   "metadata": {},
   "outputs": [],
   "source": [
    "'''Plot the Solute Concentration in the Phases'''\n",
    "\n",
    "table = dict()\n",
    "table['k']          = list()\n",
    "table['rho_A_L(k)'] = list()\n",
    "table['rho_A_G(k)'] = list()\n",
    "\n",
    "for k in reversed(range(n_trays)): \n",
    "    table['k'].append(n_trays-1-k)\n",
    "    table['rho_A_L(k)'].append(rho_A_L_vec[k]/const.mg_per_liter)\n",
    "    table['rho_A_G(k)'].append(rho_A_G_vec[k]/const.mg_per_liter)\n",
    "    \n",
    "plot_solution(table)"
   ]
  },
  {
   "cell_type": "code",
   "execution_count": null,
   "metadata": {},
   "outputs": [],
   "source": [
    "print('[A] in drinking water = %5.4f [ug/L]'%(table['rho_A_L(k)'][0]*1000))"
   ]
  },
  {
   "cell_type": "code",
   "execution_count": null,
   "metadata": {},
   "outputs": [],
   "source": [
    "rho_A_G_vec/const.mg_per_liter"
   ]
  },
  {
   "cell_type": "code",
   "execution_count": null,
   "metadata": {},
   "outputs": [],
   "source": []
  }
 ],
 "metadata": {
  "kernelspec": {
   "display_name": "Python 3",
   "language": "python",
   "name": "python3"
  },
  "language_info": {
   "codemirror_mode": {
    "name": "ipython",
    "version": 3
   },
   "file_extension": ".py",
   "mimetype": "text/x-python",
   "name": "python",
   "nbconvert_exporter": "python",
   "pygments_lexer": "ipython3",
   "version": "3.7.1"
  },
  "latex_envs": {
   "LaTeX_envs_menu_present": true,
   "autoclose": false,
   "autocomplete": true,
   "bibliofile": "biblio.bib",
   "cite_by": "apalike",
   "current_citInitial": 1,
   "eqLabelWithNumbers": true,
   "eqNumInitial": 1,
   "hotkeys": {
    "equation": "Ctrl-E",
    "itemize": "Ctrl-I"
   },
   "labels_anchors": false,
   "latex_user_defs": false,
   "report_style_numbering": false,
   "user_envs_cfg": false
  }
 },
 "nbformat": 4,
 "nbformat_minor": 2
}
