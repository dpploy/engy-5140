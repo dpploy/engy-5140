{
 "cells": [
  {
   "cell_type": "markdown",
   "metadata": {},
   "source": [
    "Engy-5140: Chemical and Nuclear Waste Processing Fall 2019 UMass Lowell; Prof. V. F. de Almeida **31Oct2019**\n",
    "\n",
    "# 04. Gas Absorption Example\n",
    "\n",
    "$\n",
    "\\newcommand{\\efacg}{\\mathcal{E}_\\text{G}}\n",
    "\\newcommand{\\Amtrx}{\\boldsymbol{\\mathsf{A}}}\n",
    "\\newcommand{\\xvec}{\\boldsymbol{\\mathsf{x}}}\n",
    "\\newcommand{\\bvec}{\\boldsymbol{\\mathsf{b}}}\n",
    "$"
   ]
  },
  {
   "cell_type": "markdown",
   "metadata": {},
   "source": [
    "---\n",
    "\n",
    "## Table of Contents\n",
    "* [Objectives](#objectives)\n",
    "* [Background](#background)\n",
    "* [Problem Statement](#problemstatement)\n",
    "* [Network Mass Balance Model](#model)\n",
    "* [Input Data](#inputdata)\n",
    "* [Equilibrium Gas Absorption](#equgasabsorp)\n",
    "  + [Analysis of Recovered EtOH; violation of global mass conservation](#eqrecover)\n",
    "  + [Solution Error](#eqerror)\n",
    "  + [Correct Solution Concentrations](#correcteqsol)\n",
    "* [Non-equilibrium Gas Absorption](#neqgasabsorp)\n",
    "  + [Analysis of Recovered EtOH; violation of global mass conservation](#neqrecover)\n",
    "  + [Correct Solution Concentrations](#correctneqsol)\n",
    "* [Another Non-Equilibrium Gas Absorption](#noneq2)\n",
    "---"
   ]
  },
  {
   "cell_type": "markdown",
   "metadata": {},
   "source": [
    "## Objectives<a id=\"objectives\"></a>\n",
    "\n",
    "+ Demonstrate the sizing calculations of an absorber column using a non-equilibrium network theory."
   ]
  },
  {
   "cell_type": "markdown",
   "metadata": {},
   "source": [
    "## Background<a id=\"background\"></a>\n",
    "\n",
    "+ **Part 1**:\n",
    "In-class course notes OneNote [Engy-5140-gas-absorption](https://studentuml-my.sharepoint.com/:o:/g/personal/valmor_dealmeida_uml_edu/EqcWsUxiWF5HpZtAui06pSgBIPMNorxebuwNt7Lsr-DMdQ?e=NSm120).\n",
    "\n",
    "+ **Part 2**:\n",
    "In-class course notes OneNote [Engy-5140-noneq-absorption](https://studentuml-my.sharepoint.com/:o:/g/personal/valmor_dealmeida_uml_edu/EgwN25gp8ytGpdRItJdVRf4B7s_LLH76ODb7f6lSscvMCg?e=LqhrPg)."
   ]
  },
  {
   "cell_type": "markdown",
   "metadata": {},
   "source": [
    "## Problem Statement<a id=\"problemstatement\"></a>\n",
    "\n",
    "Given a gas stream mixture of EtOH and CO2, 180 kmol/h, with 98% CO2 and 2% EtOH at 30$^\\circ$C and 1.1 bar, size a countercurrent gas scrubber using a trayed column when clean water enters the top of the tower so that 97% of EtOH is recovered. Determine the number of trays N and the column height."
   ]
  },
  {
   "cell_type": "markdown",
   "metadata": {},
   "source": [
    "## Network Mass Balance Model<a id=\"model\"></a>\n",
    "\n",
    "The network of equations for mass balance in the gas and liquid phases for the EtOH solute is respectively:\n",
    "\n",
    "\\begin{align*}\n",
    "-(\\efacg + 1)\\,x_{A,G}^{(k)}& &+& &\\efacg\\,x_{A,G}^{(k+1)}&  &+& &K\\,x_{A,L}^{(k)}& &=&   & 0&\\\\\n",
    "\\efacg\\,x_{A,L}^{(k-1)}& &-& &(\\efacg + A^{-1})\\,x_{A,L}^{(k)}& &+& &(K\\,A)^{-1}\\,x_{A,G}^{(k)}& &=&  & 0& \n",
    "\\end{align*}\n",
    "\n",
    "for $k=1,\\ldots,N$. Here values of $x_{A,G}^{(N+1)}$ (molar fraction of A in the gas phase at the bottom of the column) and $x_{A,L}^{(0)}$ (molar fraction of A in the liquid phase at the top of the column) need to be provided as boundary conditions.\n",
    "\n",
    "From the problem data\n",
    "\n",
    "+ $x_{A,G}^{(N+1)} = 2\\%$ (incoming gas)\n",
    "+ $x_{A,L}^{(0)} = 0$ (clean water)\n",
    "\n",
    "The above problem is best expressed in matrix block form:\n",
    "\n",
    "\\begin{equation*}\n",
    "\\begin{pmatrix}\n",
    "\\Amtrx_{1,1} & \\Amtrx_{1,2} \\\\\n",
    "\\Amtrx_{2,1} & \\Amtrx_{2,2} \n",
    "\\end{pmatrix} \\, \n",
    "\\begin{pmatrix} \n",
    "\\xvec_\\text{G} \\\\ \\xvec_\\text{L} \\end{pmatrix} = \n",
    "\\begin{pmatrix} \n",
    "\\bvec_\\text{G} \\\\ \\bvec_\\text{L} \\end{pmatrix}\n",
    "\\end{equation*}\n",
    "\n",
    "where\n",
    " \n",
    "\\begin{equation*}\n",
    " \\Amtrx_{1,1} = \n",
    "  \\begin{pmatrix}\n",
    "-(\\efacg+1) & \\efacg      & \\dots  & 0           & 0         \\\\\n",
    "0           & -(\\efacg+1) & \\efacg & 0           & 0         \\\\\n",
    "\\vdots      & \\vdots      & \\ddots & \\ddots      & 0         \\\\\n",
    "0           & 0           & \\dots  & -(\\efacg+1) & \\efacg    \\\\\n",
    "0           & 0           & \\dots  & 0           & -(\\efacg+1)\n",
    "\\end{pmatrix},\n",
    "\\ \\ \\\n",
    " \\Amtrx_{1,2} = \n",
    "  \\begin{pmatrix}\n",
    "K       & 0      & \\dots  & 0      & 0 \\\\\n",
    "0       & K      & \\dots  & 0      & 0 \\\\\n",
    "\\vdots  & \\vdots & \\vdots & \\vdots & 0 \\\\\n",
    "0       & 0      & \\dots  & K      & 0 \\\\\n",
    "0       & 0      & \\dots  & 0      & K\n",
    "\\end{pmatrix}\n",
    "\\end{equation*}\n",
    "\n",
    "\\begin{equation*}\n",
    " \\Amtrx_{2,1} = \n",
    "  \\begin{pmatrix}\n",
    "(K\\,A)^{-1}       & 0      & \\dots  & 0      & 0 \\\\\n",
    "0       & (K\\,A)^{-1}      & \\dots  & 0      & 0 \\\\\n",
    "\\vdots  & \\vdots & \\ddots & \\vdots & 0 \\\\\n",
    "0       & 0      & \\dots  & (K\\,A)^{-1}      & 0 \\\\\n",
    "0       & 0      & \\dots  & 0      & (K\\,A)^{-1}\n",
    "\\end{pmatrix},\n",
    "\\ \\ \\ \n",
    " \\Amtrx_{2,2} = \n",
    "  \\begin{pmatrix}\n",
    "-(\\efacg+A^{-1}) & 0                & \\dots  & 0                & 0            \\\\\n",
    "\\efacg           & -(\\efacg+A^{-1}) & 0      & 0                & 0            \\\\\n",
    "\\vdots           & \\vdots           & \\ddots & \\vdots           & 0            \\\\\n",
    "0                & 0                & \\ddots & -(\\efacg+A^{-1}) & 0            \\\\\n",
    "0                & 0                & \\dots  & \\efacg           & -(\\efacg+A^{-1})\n",
    "\\end{pmatrix}\n",
    "\\end{equation*}\n",
    "\n",
    "Each block can be assembled separately and all blocks then put together to assemble $\\Amtrx$. The solution vector is built from the individual molar concentration in the gas and liquid such as\n",
    "\n",
    "\\begin{equation*}\n",
    " \\xvec = \n",
    "  \\begin{pmatrix}\n",
    "   \\xvec_{G}\\\\\n",
    "   \\xvec_{L}\n",
    " \\end{pmatrix} \n",
    " =\n",
    "  \\begin{pmatrix}\n",
    "  x_{A,G}^{(1)}\\\\\n",
    "  \\vdots\\\\\n",
    "  x_{A,G}^{(N)}\\\\\n",
    "  x_{A,L}^{(1)}\\\\\n",
    "  \\vdots\\\\\n",
    "  x_{A,L}^{(N)}\n",
    "  \\end{pmatrix}.\n",
    "\\end{equation*}\n",
    "\n",
    "The vector on the right side is mostly zero except for the entries involving the boundary conditions\n",
    "\n",
    "\\begin{equation*}\n",
    " \\bvec = \n",
    "  \\begin{pmatrix}\n",
    "  0\\\\\n",
    "  \\vdots\\\\\n",
    "  -\\efacg\\,x_{A,G}^{(N+1)}\\\\\n",
    "  -\\efacg\\,x_{A,L}^{(0)}\\\\\n",
    "  \\vdots\\\\\n",
    "  0\n",
    "  \\end{pmatrix}.\n",
    "\\end{equation*}"
   ]
  },
  {
   "cell_type": "code",
   "execution_count": null,
   "metadata": {
    "code_folding": [
     2
    ]
   },
   "outputs": [],
   "source": [
    "'''Network Algebraic Equations Matrix of Coefficients'''\n",
    "\n",
    "def get_network_matrix( nstages, partition_coef, absorp_factor, relax_factor=0.0 ):\n",
    "    import numpy as np\n",
    "\n",
    "    amtrx11 =  np.diag( np.ones(nstages)*(-( relax_factor + 1 )) )\n",
    "    amtrx11 += np.diag( np.ones(nstages-1)*relax_factor, 1 )\n",
    "\n",
    "    amtrx12 = np.diag( np.ones(nstages)*partition_coef )\n",
    "\n",
    "    amtrx21 = np.diag( np.ones(nstages)*(partition_coef*absorp_factor)**-1 )\n",
    "\n",
    "    amtrx22 =  np.diag( np.ones(nstages)*(-( relax_factor + absorp_factor**-1 )) )\n",
    "    amtrx22 += np.diag( np.ones(nstages-1)*relax_factor, -1 )\n",
    "\n",
    "    top   = np.concatenate( (amtrx11,amtrx12), axis=1 ) # concatenate sideways\n",
    "    bot   = np.concatenate( (amtrx21,amtrx22), axis=1 ) # concatenate sideways\n",
    "    amtrx = np.concatenate( (top,bot),axis=0 )          # concatenate vertically\n",
    "    \n",
    "    return amtrx"
   ]
  },
  {
   "cell_type": "code",
   "execution_count": null,
   "metadata": {
    "code_folding": [
     2
    ]
   },
   "outputs": [],
   "source": [
    "'''RHS Network Algebraic Equations Vector'''\n",
    "\n",
    "def get_rhs_vector(nstages, relax_factor = 0.0, x_A_G_N1=0.0, x_A_L_0=0.0):\n",
    "    \n",
    "    import numpy as np\n",
    "    \n",
    "    bvec = np.zeros(2*nstages)\n",
    "    bvec[nstages-1] = -relax_factor * x_A_G_N1 # bottom inflow gas\n",
    "    bvec[nstages]   = -relax_factor * x_A_L_0  # top inflow liquid\n",
    "    \n",
    "    return bvec"
   ]
  },
  {
   "cell_type": "markdown",
   "metadata": {},
   "source": [
    "## Input Data<a id=\"inputdata\"></a>\n",
    "\n",
    "|Name  | Parameter  | Value | Unit |\n",
    "|------|------------|-------|------|\n",
    "| gas molar rate                      | $f_\\text{G}$      | 180 | kmol/h | \n",
    "| pressure gas inlet                  | $P$               | 1.1 | bar |\n",
    "| molar fraction of EtOH incoming gas | $x_{A,G}^{(N+1)}$ | 2% | - |\n",
    "| molar fraction of EtOH incoming liquid | $x_{A,L}^{(0)}$ | 0 | - |\n",
    "| EtOH vapor pressure | $p^*_\\text{EtOH} $ | 10.5 | kPa |"
   ]
  },
  {
   "cell_type": "code",
   "execution_count": null,
   "metadata": {},
   "outputs": [],
   "source": [
    "'''Parameters'''\n",
    "\n",
    "import scipy.constants as const\n",
    "\n",
    "# SI units conversion\n",
    "const.mol           = 1.0\n",
    "const.kmol_per_hour = const.kilo*const.mol/const.hour\n",
    "const.pascal        = 1.0\n",
    "\n",
    "temp_c = 30\n",
    "temp = const.convert_temperature(temp_c,'C','K')\n",
    "\n",
    "pressure_gas_inlet = 1.1 * const.bar\n",
    "\n",
    "f_G = 180 * const.kmol_per_hour\n",
    "f_G_bot = f_G\n",
    "\n",
    "etoh_removal_percent = 97\n",
    "\n",
    "x_A_G_N1 = 2./100. # A in gas inlet bottom of tower\n",
    "x_A_L_0  = 0.0     # A in liquid inlet top of tower\n",
    "\n",
    "f_etoh_removed = f_G * x_A_G_N1 * etoh_removal_percent/100\n",
    "f_G_top = f_G - f_etoh_removed\n",
    "\n",
    "vapor_press_etoh = 10.5 * const.kilo*const.pascal\n",
    "activity_coef_etoh = 6 # infinite dilution in water"
   ]
  },
  {
   "cell_type": "markdown",
   "metadata": {},
   "source": [
    "## Equilibrium Gas Absorption<a id=\"equgasabsorp\"></a>\n",
    "\n",
    "An equilibrium calculation is necessary to obtain average molar mass values for the gas and liquid phases in hydraulics calculations."
   ]
  },
  {
   "cell_type": "code",
   "execution_count": null,
   "metadata": {},
   "outputs": [],
   "source": [
    "'''Water absorption of EtOH from CO2'''\n",
    "\n",
    "f_L = 150 * const.kmol_per_hour # 1.5 the mininum liquid flowrate (need offline calculation)\n",
    "\n",
    "f_L_bot = f_L\n",
    "f_L_top = f_L_bot - f_etoh_removed\n",
    "\n",
    "f_L_f_G_ratio = f_L/f_G\n",
    "\n",
    "partition_coef = activity_coef_etoh * vapor_press_etoh / pressure_gas_inlet # modified Raoult's law\n",
    "\n",
    "# Absorption factor\n",
    "absorp_factor = f_L_f_G_ratio / partition_coef\n",
    "\n",
    "print('Absorption factor = %5.3f'%absorp_factor)\n",
    "print('Partition coef.   = %5.3f'%partition_coef)"
   ]
  },
  {
   "cell_type": "code",
   "execution_count": null,
   "metadata": {
    "code_folding": []
   },
   "outputs": [],
   "source": [
    "'''Gas absorption of EtOH from CO2 into water'''\n",
    "\n",
    "print('Flow rate G = %5.4f [mol/s] = %5.4f [kmol/h]'%(f_G, f_G/const.kmol_per_hour))\n",
    "print('F_L/F_G = %5.4f'%(f_L_f_G_ratio))\n",
    "print('Absorption factor = %5.4f'%absorp_factor)\n",
    "\n",
    "# Top of tower; gas outflow\n",
    "# Overall mass balance:\n",
    "x_A_G_1 = (f_G * x_A_G_N1 - f_etoh_removed ) / f_G_top\n",
    "\n",
    "x_A_L_N = f_etoh_removed/f_L_bot\n",
    "print('Target [A] in exiting liquid = %5.3E []'%x_A_L_N)\n",
    "\n",
    "# Equilibrium line definition: x = a y\n",
    "eq_func = lambda y: partition_coef**-1 * y\n",
    "\n",
    "# Operating line definition: y = a x + b\n",
    "op_slope = absorp_factor * partition_coef\n",
    "b = x_A_G_1 * f_G_top/f_G # intercept point\n",
    "op_func = lambda x: op_slope * x + b\n",
    "\n",
    "# Data storage for graphical output\n",
    "xpts = list() # x coord. for solution plotting\n",
    "ypts = list() # y coord. for solution plotting\n",
    "xpts.append( x_A_L_0 )\n",
    "ypts.append( x_A_G_1 )\n",
    "\n",
    "# Data storage for a table output\n",
    "table = dict()\n",
    "table['k']          = list()\n",
    "table['x_A_G(k)']   = list()\n",
    "table['x_A_L(k)']   = list()\n",
    "table['x_A_G(k+1)'] = list()\n",
    "\n",
    "# Solve for molar fraction in the network tower\n",
    "# Start at the top and move towards the bottom\n",
    "\n",
    "x_A_L_k = x_A_L_0\n",
    "x_A_G_k = x_A_G_1\n",
    "\n",
    "k_node = 0\n",
    "while x_A_L_k <= x_A_L_N:\n",
    "    \n",
    "    table['x_A_G(k)'].append(x_A_G_k)\n",
    "    \n",
    "    # Compute equilibrium point\n",
    "    x_A_L_k = eq_func(x_A_G_k)\n",
    "    \n",
    "    xpts.append( x_A_L_k )\n",
    "    ypts.append( x_A_G_k )\n",
    "    \n",
    "    table['x_A_L(k)'].append(x_A_L_k)\n",
    "    \n",
    "    # Compute operating line point\n",
    "    x_A_G_k = op_func(x_A_L_k) # overwrite k with k+1\n",
    "    \n",
    "    xpts.append(x_A_L_k)\n",
    "    ypts.append(x_A_G_k)\n",
    "    \n",
    "    table['x_A_G(k+1)'].append(x_A_G_k)\n",
    "    \n",
    "    k_node += 1\n",
    "    \n",
    "    table['k'].append(k_node)\n",
    "\n",
    "n_eq_stages = k_node\n",
    "\n",
    "print('Number of equilibrium stages = ',n_eq_stages)\n",
    "\n",
    "import pandas as pd\n",
    "pd.set_option('display.float_format', '{:.3E}'.format)\n",
    "\n",
    "df = pd.DataFrame(table)\n",
    "print('')\n",
    "print('Molar Fractions [] at T = %2.2f'%const.convert_temperature(temp,'K','C'))\n",
    "print(df)"
   ]
  },
  {
   "cell_type": "code",
   "execution_count": null,
   "metadata": {
    "code_folding": [
     2
    ]
   },
   "outputs": [],
   "source": [
    "'''Plot Diagram Function'''\n",
    "\n",
    "def plot_diagram(xpts,ypts):\n",
    "    \n",
    "    import matplotlib.pyplot as plt\n",
    "    import numpy as np\n",
    "\n",
    "    plt.figure(1, figsize=(15, 6))\n",
    "\n",
    "    xpts = np.array(xpts)\n",
    "    ypts = np.array(ypts)\n",
    "\n",
    "    # plot equilibrium line\n",
    "    plt.plot( (0,eq_func(ypts.max())), (0,ypts.max()),'ro-',label='Equilibrium Line')\n",
    "    \n",
    "    # plot operating line\n",
    "    plt.plot( xpts, op_func(xpts),'b-',label='Operating Line' )\n",
    "\n",
    "    # plot all step off diagram nodes\n",
    "    plt.plot( xpts, ypts, 'ko-',label='Stepping off' )\n",
    "\n",
    "    plt.xlabel(r'$x_{A,L}$ [ ]',fontsize=18)\n",
    "    plt.ylabel(r'$x_{A,G}$ [ ]',fontsize=18)\n",
    "    plt.title(r'Gas Absorption Diagram T=%2.1f C'%const.convert_temperature(temp,'K','C'),fontsize=20)\n",
    "    plt.legend(loc='best',fontsize=12)\n",
    "    plt.xticks(fontsize=16)\n",
    "    plt.yticks(fontsize=16)\n",
    "    \n",
    "    plt.grid()\n",
    "    plt.show()\n",
    "    print('')"
   ]
  },
  {
   "cell_type": "code",
   "execution_count": null,
   "metadata": {},
   "outputs": [],
   "source": [
    "'''Plot the Solution Construction Diagram'''\n",
    "\n",
    "plot_diagram(xpts,ypts)"
   ]
  },
  {
   "cell_type": "code",
   "execution_count": null,
   "metadata": {
    "code_folding": [
     2
    ]
   },
   "outputs": [],
   "source": [
    "'''Plot Solution Function'''\n",
    "\n",
    "def plot_solution(table):\n",
    "    \n",
    "    import matplotlib.pyplot as plt\n",
    "    import numpy as np\n",
    "\n",
    "    (fig, ax) = plt.subplots(figsize=(15,6))\n",
    "\n",
    "    # liquid solute concentration\n",
    "    ax.plot( range(len(table['k'])), table['x_A_L(k)'], 'bo-',label=r'$x_{A,L}$' )\n",
    "    ax.plot( range(len(table['k'])), table['x_A_G(k)'], 'o-',color='orange',label=r'$x_{A,G}$' )\n",
    "    \n",
    "    plt.xticks(range(len(table['k'])),['node-'+str(k) for k in table['k']],rotation=30,fontsize=12)\n",
    "\n",
    "    #plt.xlabel(r'k',fontsize=18)\n",
    "    plt.ylabel(r'$x_{A,\\alpha}$ [ ]',fontsize=18)\n",
    "    plt.title(r'Gas Absorption Diagram T=%2.1f C'%const.convert_temperature(temp,'K','C'),fontsize=20)\n",
    "    plt.legend(loc='best',fontsize=12)\n",
    "    plt.xticks(fontsize=16)\n",
    "    plt.yticks(fontsize=16)\n",
    "    \n",
    "    plt.grid()\n",
    "    plt.show()\n",
    "    print('')"
   ]
  },
  {
   "cell_type": "code",
   "execution_count": null,
   "metadata": {},
   "outputs": [],
   "source": [
    "'''Plot the Solute Concentration in the Phases'''\n",
    "\n",
    "plot_solution(table)"
   ]
  },
  {
   "cell_type": "markdown",
   "metadata": {},
   "source": [
    "### Analysis of Recovered EtOH - violation of global mass conservation<a id=\"eqrecover\"></a>\n",
    "\n",
    "Since N is an integer, there is almost always a violation of mass conservation.\n",
    "\n",
    "How can this be rectified?"
   ]
  },
  {
   "cell_type": "code",
   "execution_count": null,
   "metadata": {},
   "outputs": [],
   "source": [
    "'''Removed from the Gas Phase'''\n",
    "\n",
    "etoh_G_inflow  = f_G_bot * x_A_G_N1\n",
    "etoh_G_outflow = f_G_top * table['x_A_G(k)'][0]\n",
    "removed_etoh_gas = etoh_G_inflow - etoh_G_outflow\n",
    "print('Removed EtOH [%%] (gas phase) = %1.3f'%(removed_etoh_gas/etoh_G_inflow*100))\n",
    "print('Removed EtOH [kmol/h] (gas phase) = %1.3f'%((etoh_G_inflow - etoh_G_outflow)/const.kmol_per_hour))\n",
    "print('Incoming EtOH [kmol/h] (gas phase) = %1.3f'%(etoh_G_inflow/const.kmol_per_hour))"
   ]
  },
  {
   "cell_type": "code",
   "execution_count": null,
   "metadata": {},
   "outputs": [],
   "source": [
    "'''Recovery in the Liquid Phase'''\n",
    "\n",
    "etoh_L_outflow = f_L_bot * table['x_A_L(k)'][-1]\n",
    "recovery_etoh_liquid = etoh_L_outflow\n",
    "#etoh_L_outflow = f_L_bot * x_A_L_N # target\n",
    "print('Recovered EtOH [kmol/h] (liquid phase) = %1.3f'%(recovery_etoh_liquid/const.kmol_per_hour))"
   ]
  },
  {
   "cell_type": "code",
   "execution_count": null,
   "metadata": {},
   "outputs": [],
   "source": [
    "'''Global Mass Conservation Error'''\n",
    "\n",
    "error = (recovery_etoh_liquid-removed_etoh_gas) / removed_etoh_gas*100\n",
    "print('Global mass conservation error [%%] = %1.3f'%(error))"
   ]
  },
  {
   "cell_type": "markdown",
   "metadata": {},
   "source": [
    "### Equilibrium Solution Residual<a id=\"eqerror\"></a>\n",
    "\n",
    "The verification of the equilibrium solution is made by inserting the solution into the governing equations of the network as a whole and computing the residual."
   ]
  },
  {
   "cell_type": "code",
   "execution_count": null,
   "metadata": {},
   "outputs": [],
   "source": [
    "'''Assemble Network Algebraic Equations Matrix of Coefficient'''\n",
    "\n",
    "import numpy as np\n",
    "amtrx = get_network_matrix( n_eq_stages, partition_coef, absorp_factor )\n",
    "    \n",
    "from engy_5140.help import plot_matrix\n",
    "plot_matrix(amtrx, title='Network Matrix')\n",
    "\n",
    "np.set_printoptions(precision=2,threshold=10,edgeitems=6,linewidth=80)\n",
    "print(amtrx)"
   ]
  },
  {
   "cell_type": "code",
   "execution_count": null,
   "metadata": {},
   "outputs": [],
   "source": [
    "'''Inspect rank of matrix'''\n",
    "\n",
    "rank = np.linalg.matrix_rank(amtrx)\n",
    "print('Rank = ', rank)\n",
    "print('Shape of Amtrx = ',amtrx.shape)"
   ]
  },
  {
   "cell_type": "code",
   "execution_count": null,
   "metadata": {},
   "outputs": [],
   "source": [
    "'''Assemble RHS of Network Algebraic Equations Vector'''\n",
    "\n",
    "bvec = get_rhs_vector( n_eq_stages, x_A_G_N1=x_A_G_N1, x_A_L_0=x_A_L_0 )"
   ]
  },
  {
   "cell_type": "code",
   "execution_count": null,
   "metadata": {},
   "outputs": [],
   "source": [
    "'''Check the equilibrium solution obtained'''\n",
    "\n",
    "import numpy as np\n",
    "\n",
    "xvec = np.concatenate( (np.array(table['x_A_G(k)']) , np.array(table['x_A_L(k)'])) )\n",
    "\n",
    "print('Residual max. error = %1.2e'%np.max(np.abs(amtrx @ xvec - bvec)))"
   ]
  },
  {
   "cell_type": "markdown",
   "metadata": {},
   "source": [
    "### Correct Equilibrium Solution Concentrations<a id=\"correcteqsol\"></a>\n",
    "\n"
   ]
  },
  {
   "cell_type": "markdown",
   "metadata": {},
   "source": [
    "## Non-Equilibrium Gas Absorption<a id=\"neqgasabsorp\"></a>\n",
    "\n",
    "Repeat the [equilibrium problem above](#equgasabsorp) for a non-equilibrium situation where the efficiency is 44.4%."
   ]
  },
  {
   "cell_type": "code",
   "execution_count": null,
   "metadata": {
    "code_folding": []
   },
   "outputs": [],
   "source": [
    "'''Air stripping of 1,1-dichloroethane from water'''\n",
    "\n",
    "efficiency = 44.4/100 # offline calculation\n",
    "\n",
    "relax_factor = (1/efficiency - 1)/absorp_factor\n",
    "relax_factor_hat = relax_factor/(relax_factor+1)\n",
    "\n",
    "print('Gas-phase relaxation factor            = %2.3f'%relax_factor)\n",
    "print('Gas-phase normalized relaxation factor = %2.3f'%relax_factor_hat)\n",
    "\n",
    "print('Target [A] in exiting liquid = %5.3E []'%x_A_L_N)\n",
    "\n",
    "# Non-equilibrium line: x = a y + b\n",
    "neq_slope = partition_coef * ( 1 + relax_factor_hat*(absorp_factor - 1) )\n",
    "b_neq = x_A_G_1 * f_G_top/f_G  * relax_factor_hat # intercept point\n",
    "neq_func = lambda x: neq_slope**-1 * ( x - b_neq )\n",
    "\n",
    "# Data storage for graphical output\n",
    "xpts = list() # x coord. for solution plotting\n",
    "ypts = list() # y coord. for solution plotting\n",
    "xpts.append(x_A_L_0)\n",
    "ypts.append(x_A_G_1)\n",
    "\n",
    "# Data storage for a table output\n",
    "table = dict()\n",
    "table['k']          = list()\n",
    "table['x_A_G(k)']   = list()\n",
    "table['x_A_L(k)']   = list()\n",
    "table['x_A_G(k+1)'] = list()\n",
    "\n",
    "# Solve for mass concentrations in the network tower\n",
    "# Start at the bottom and move towards the top\n",
    "\n",
    "x_A_L_k = x_A_L_0\n",
    "x_A_G_k = x_A_G_1\n",
    "\n",
    "k_node = 0\n",
    "while x_A_L_k <= x_A_L_N:\n",
    "    \n",
    "    table['x_A_G(k)'].append(x_A_G_k)\n",
    "    \n",
    "    # Compute the non-equilibrium point\n",
    "    x_A_L_k = neq_func(x_A_G_k)\n",
    "    \n",
    "    xpts.append(x_A_L_k)\n",
    "    ypts.append(x_A_G_k)\n",
    "    \n",
    "    table['x_A_L(k)'].append(x_A_L_k)\n",
    "    \n",
    "    # Compute operating line point\n",
    "    x_A_G_k = op_func(x_A_L_k) # overwrite k with k+1\n",
    "    \n",
    "    xpts.append(x_A_L_k)\n",
    "    ypts.append(x_A_G_k)\n",
    "    \n",
    "    table['x_A_G(k+1)'].append(x_A_G_k)\n",
    "    \n",
    "    k_node += 1\n",
    "    \n",
    "    table['k'].append(k_node)\n",
    "\n",
    "n_neq_stages = k_node\n",
    "    \n",
    "print('Number of non-equilibrium stages = ',n_neq_stages)\n",
    "\n",
    "import pandas as pd\n",
    "pd.set_option('display.float_format', '{:.3E}'.format)\n",
    "\n",
    "df = pd.DataFrame(table)\n",
    "print('')\n",
    "print('Molar Fractions [ ] at T = %2.2f'%const.convert_temperature(temp,'K','C'))\n",
    "print(df)\n",
    "\n",
    "print('')\n",
    "print('# equilibrium stages / efficiency = %i'%round(n_eq_stages/efficiency,0))"
   ]
  },
  {
   "cell_type": "code",
   "execution_count": null,
   "metadata": {},
   "outputs": [],
   "source": [
    "plot_diagram(xpts,ypts)"
   ]
  },
  {
   "cell_type": "code",
   "execution_count": null,
   "metadata": {},
   "outputs": [],
   "source": [
    "'''Plot the Solute Concentration in the Phases'''\n",
    "\n",
    "plot_solution(table)"
   ]
  },
  {
   "cell_type": "markdown",
   "metadata": {},
   "source": [
    "### Analysis of Recovered EtOH - violation of global mass conservation<a id=\"neqrecover\"></a>\n",
    "\n",
    "Since N is an integer, there is almost always a violation of mass conservation.\n",
    "\n",
    "How can this be rectified?"
   ]
  },
  {
   "cell_type": "code",
   "execution_count": null,
   "metadata": {},
   "outputs": [],
   "source": [
    "'''Removed from the Gas Phase'''\n",
    "\n",
    "etoh_G_inflow  = f_G_bot * x_A_G_N1\n",
    "etoh_G_outflow = f_G_top * table['x_A_G(k)'][0]\n",
    "removed_etoh_gas = etoh_G_inflow - etoh_G_outflow\n",
    "print('Removed EtOH [%%] (gas phase) = %1.3f'%(removed_etoh_gas/etoh_G_inflow*100))\n",
    "print('Removed EtOH [kmol/h] (gas phase) = %1.3f'%((etoh_G_inflow - etoh_G_outflow)/const.kmol_per_hour))\n",
    "print('Incoming EtOH [kmol/h] (gas phase) = %1.3f'%(etoh_G_inflow/const.kmol_per_hour))"
   ]
  },
  {
   "cell_type": "code",
   "execution_count": null,
   "metadata": {},
   "outputs": [],
   "source": [
    "'''Recovery in the Liquid Phase'''\n",
    "\n",
    "etoh_L_outflow = f_L_bot * table['x_A_L(k)'][-1]\n",
    "recovery_etoh_liquid = etoh_L_outflow\n",
    "#etoh_L_outflow = f_L_bot * x_A_L_N # target\n",
    "print('Recovered EtOH [kmol/h] (liquid phase) = %1.3f'%(recovery_etoh_liquid/const.kmol_per_hour))"
   ]
  },
  {
   "cell_type": "code",
   "execution_count": null,
   "metadata": {},
   "outputs": [],
   "source": [
    "'''Global Mass Conservation Error'''\n",
    "\n",
    "error = (recovery_etoh_liquid-removed_etoh_gas) / removed_etoh_gas*100\n",
    "print('Global mass conservation error [%%] = %1.3f'%(error))"
   ]
  },
  {
   "cell_type": "markdown",
   "metadata": {},
   "source": [
    "### Correct Non-Equilibrium Solution Concentrations<a id=\"correctneqsol\"></a>\n",
    "\n",
    "As before, the verification of the non-equilibrium solution is made by inserting the solution into the governing equations of the network as a whole and computing the residual. Note that the governing equations require a given $N$ and therefore there is no direct information of removal of EtOH. This information is indirectly embedded into the previously computed $N$."
   ]
  },
  {
   "cell_type": "markdown",
   "metadata": {},
   "source": [
    "## Another Non-Equilibrium Solution<a id=\"noneq2\"></a>\n",
    "\n",
    "Given the foregoing, solve a similar problem using the network equations directly and take $N\\ge 12$ to verify the variation of removed EtOH with number of trays."
   ]
  },
  {
   "cell_type": "code",
   "execution_count": null,
   "metadata": {},
   "outputs": [],
   "source": []
  }
 ],
 "metadata": {
  "kernelspec": {
   "display_name": "Python 3",
   "language": "python",
   "name": "python3"
  },
  "language_info": {
   "codemirror_mode": {
    "name": "ipython",
    "version": 3
   },
   "file_extension": ".py",
   "mimetype": "text/x-python",
   "name": "python",
   "nbconvert_exporter": "python",
   "pygments_lexer": "ipython3",
   "version": "3.7.1"
  },
  "latex_envs": {
   "LaTeX_envs_menu_present": true,
   "autoclose": false,
   "autocomplete": true,
   "bibliofile": "biblio.bib",
   "cite_by": "apalike",
   "current_citInitial": 1,
   "eqLabelWithNumbers": true,
   "eqNumInitial": 1,
   "hotkeys": {
    "equation": "Ctrl-E",
    "itemize": "Ctrl-I"
   },
   "labels_anchors": false,
   "latex_user_defs": false,
   "report_style_numbering": false,
   "user_envs_cfg": false
  }
 },
 "nbformat": 4,
 "nbformat_minor": 2
}
