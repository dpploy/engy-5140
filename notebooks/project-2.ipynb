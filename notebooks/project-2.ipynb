{
 "cells": [
  {
   "cell_type": "markdown",
   "metadata": {},
   "source": [
    "Engy-5140: Chemical and Nuclear Waste Processing Fall 2019 UMass Lowell; Prof. V. F. de Almeida **06Dec2019**\n",
    "\n",
    "# Final Project 02 18Dec2019"
   ]
  },
  {
   "cell_type": "markdown",
   "metadata": {},
   "source": [
    "### Name: `your name`"
   ]
  },
  {
   "cell_type": "markdown",
   "metadata": {},
   "source": [
    "### <span style=\"color:red\">Guidance:</span>\n",
    " +  <span style=\"color:red\"> \n",
    "    Work within your team only. Be clear and complete in your answers.\n",
    "    </span>\n",
    " +  <span style=\"color:red\"> \n",
    "    Save your work frequently to a file locally to your computer.\n",
    "    </span>\n",
    " +  <span style=\"color:red\">\n",
    "    During your work and before submitting the final version do: `Kernel` -> `Restart & Run All`, to verify your notebook runs correctly.\n",
    "    </span>\n",
    " +  <span style=\"color:red\">\n",
    "    Save your file again.\n",
    "    </span>"
   ]
  },
  {
   "cell_type": "markdown",
   "metadata": {},
   "source": [
    "---\n",
    "### Table of Contents\n",
    "* [Problem Statement](#statement)\n",
    "* [Problem 1 (100 pts)](#p1)\n",
    "---"
   ]
  },
  {
   "cell_type": "markdown",
   "metadata": {},
   "source": [
    "### <span style=\"color:blue\"> Problem Statement </span> <a id=\"statement\"></a>\n",
    "\n",
    "#### <span style=\"color:blue\"> Wastewater (L) containing VOCs enters the top of a stripper at 500 gpm, where 99.95+ wt% of the VOCs at 70 $^\\circ$F are to be removed with air entering the bottom at 70 $^\\circ$F, and 15 psia. Assuming ideal gas behavior and Raoult's law, $K_i = \\frac{P^*_i}{P\\,x^*_{i,L}}$, where $P^*_i$ is the vapor pressure of the $i$th component, $P$ is the total pressure, and $x^*_{i,L}$ is the saturation mole fraction in the liquid phase, and using the network modeling approach covered in this course, provide answers to the questions below.  </span>\n",
    "\n",
    "#### <span style=\"color:blue\"> Additional data provided: </span>\n",
    "\n",
    "| VOC | $\\rho_{i,L}$ [mg/L] in the wastewater | $x^*_{i,L}$ @ 70$^\\circ$F | $P^*_i$ [psia] @ 70$^\\circ$F |\n",
    "|:-----:| :-----------------------: | ------------------------- |-----------------------------|\n",
    "| Toluene | 50                  | 0.00012                   |     0.449                   |\n",
    "| Ethylbenzene | 20             | 0.000035                  |    0.149                    |\n",
    "| Benzene | 150             | 0.0004                  |    1.53                    |\n",
    "\n",
    "#### <span style=\"color:blue\"> (based on Seader, Henly, and Roper textbook Separation Process Principles Chap. 6, 2016)  </span>"
   ]
  },
  {
   "cell_type": "markdown",
   "metadata": {},
   "source": [
    "### <span style=\"color:blue\"> Problem 1 (100 pts) </span> <a id=\"p1\"></a>"
   ]
  },
  {
   "cell_type": "markdown",
   "metadata": {},
   "source": [
    "1. <span style=\"color:blue\"> Design a trayed column and provide construction/operation parameters. </span>\n",
    "2. <span style=\"color:blue\"> What are the efficiencies of your stripper? </span>\n",
    "1. <span style=\"color:blue\"> Compare the partition coefficient given in the problem statement to another source of data and calculate the effect on efficiency. </span>\n",
    "3. <span style=\"color:blue\"> If the air is vented to the environment what is the mass of each VOC per day released?</span>\n",
    "4. <span style=\"color:blue\"> What is the mass of each VOC in the released water per day?</span>\n",
    "5. <span style=\"color:blue\"> Describe the hazards to humans if the water is consumed.</span>"
   ]
  },
  {
   "cell_type": "markdown",
   "metadata": {},
   "source": [
    "Answers:"
   ]
  }
 ],
 "metadata": {
  "kernelspec": {
   "display_name": "Python 3",
   "language": "python",
   "name": "python3"
  },
  "language_info": {
   "codemirror_mode": {
    "name": "ipython",
    "version": 3
   },
   "file_extension": ".py",
   "mimetype": "text/x-python",
   "name": "python",
   "nbconvert_exporter": "python",
   "pygments_lexer": "ipython3",
   "version": "3.7.1"
  },
  "latex_envs": {
   "LaTeX_envs_menu_present": true,
   "autoclose": false,
   "autocomplete": true,
   "bibliofile": "biblio.bib",
   "cite_by": "apalike",
   "current_citInitial": 1,
   "eqLabelWithNumbers": true,
   "eqNumInitial": 1,
   "hotkeys": {
    "equation": "Ctrl-E",
    "itemize": "Ctrl-I"
   },
   "labels_anchors": false,
   "latex_user_defs": false,
   "report_style_numbering": false,
   "user_envs_cfg": false
  }
 },
 "nbformat": 4,
 "nbformat_minor": 2
}
