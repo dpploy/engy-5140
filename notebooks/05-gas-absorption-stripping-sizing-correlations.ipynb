{
 "cells": [
  {
   "cell_type": "markdown",
   "metadata": {},
   "source": [
    "Engy-5140: Chemical and Nuclear Waste Processing Fall 2019 UMass Lowell; Prof. V. F. de Almeida **16Nov2019**\n",
    "\n",
    "# 05. Gas Absorption/Stripping Sizing Correlations\n",
    "\n",
    "$\n",
    "\\newcommand{\\efacg}{\\mathcal{E}_\\text{G}}\n",
    "\\newcommand{\\Amtrx}{\\boldsymbol{\\mathsf{A}}}\n",
    "\\newcommand{\\xvec}{\\boldsymbol{\\mathsf{x}}}\n",
    "\\newcommand{\\bvec}{\\boldsymbol{\\mathsf{b}}}\n",
    "\\newcommand{\\zerovec}{\\boldsymbol{\\mathsf{0}}}\n",
    "$"
   ]
  },
  {
   "cell_type": "markdown",
   "metadata": {},
   "source": [
    "---\n",
    "\n",
    "## Table of Contents\n",
    "* [Objectives](#objectives)\n",
    "* [Background](#background)\n",
    "* [Downcomer Weir Length](#weirlength)\n",
    "---"
   ]
  },
  {
   "cell_type": "markdown",
   "metadata": {},
   "source": [
    "## Objectives<a id=\"objectives\"></a>\n",
    "\n",
    "+ Elaborate on empirical correlations useful for non-equilibrium theory."
   ]
  },
  {
   "cell_type": "markdown",
   "metadata": {},
   "source": [
    "## Background<a id=\"background\"></a>\n",
    "\n",
    "+ **Part 1**:\n",
    "In-class course notes OneNote [Engy-5140-gas-absorption](https://studentuml-my.sharepoint.com/:o:/g/personal/valmor_dealmeida_uml_edu/EqcWsUxiWF5HpZtAui06pSgBIPMNorxebuwNt7Lsr-DMdQ?e=NSm120).\n",
    "\n",
    "+ **Part 2**:\n",
    "In-class course notes OneNote [Engy-5140-noneq-absorption](https://studentuml-my.sharepoint.com/:o:/g/personal/valmor_dealmeida_uml_edu/EgwN25gp8ytGpdRItJdVRf4B7s_LLH76ODb7f6lSscvMCg?e=LqhrPg)."
   ]
  },
  {
   "cell_type": "code",
   "execution_count": 1,
   "metadata": {},
   "outputs": [],
   "source": [
    "import scipy.constants as const\n",
    "\n",
    "const.meter = 1.0"
   ]
  },
  {
   "cell_type": "markdown",
   "metadata": {},
   "source": [
    "## Downcomer Weir Length<a id=\"weirlength\"></a>\n",
    "\n",
    "Computing the downcomer weir length parameter. Note that $L_w = D_T\\,\\sin(\\alpha/2)$ and the angle $\\alpha$ is computed from solving \n",
    "\n",
    "\\begin{equation*}\n",
    "A_d = \\frac{1}{2}\\,R^2\\,\\bigl(\\alpha - \\sin \\alpha \\bigr)\n",
    "\\end{equation*}\n",
    "\n",
    "or solving for the $\\alpha$ root \n",
    "\n",
    "\\begin{equation*}\n",
    "\\alpha - \\sin \\alpha - 2\\pi\\,\\frac{A_d}{A_T} = 0\n",
    "\\end{equation*}\n",
    "\n",
    "so that $  0< \\alpha < \\pi$. Since in practice $0.1 <= \\frac{A_d}{A_T} <= 0.2$, a table of values of $L_w/D_T$ versus $A_d/A_T$ is the desired result computed below."
   ]
  },
  {
   "cell_type": "code",
   "execution_count": 2,
   "metadata": {
    "code_folding": []
   },
   "outputs": [],
   "source": [
    "'''Function at an array of values'''\n",
    "\n",
    "import math\n",
    "import numpy as np\n",
    "\n",
    "func       = lambda alpha,param: alpha - np.sin(alpha) - param  # alpha must be np.ndarray\n",
    "func_prime = lambda alpha,param: 1.0 - np.cos(alpha)            # alpha must be np.ndarray"
   ]
  },
  {
   "cell_type": "code",
   "execution_count": 3,
   "metadata": {
    "code_folding": [
     2
    ]
   },
   "outputs": [],
   "source": [
    "'''Function: plot function'''\n",
    "\n",
    "def plot_function( alpha_vec, param_vec,\n",
    "                   alpha_root=None  ):\n",
    "    \n",
    "    '''\n",
    "    Plot function func(alpha).\n",
    "\n",
    "    Parameters\n",
    "    ----------\n",
    "    alpha_vec: numpy.ndarray, required\n",
    "        Vector of alpha values.\n",
    "    param_vec: numpy.ndarray, required\n",
    "        Vector of parameter values.\n",
    "    \n",
    "    Returns\n",
    "    -------\n",
    "    None\n",
    "\n",
    "    Examples\n",
    "    --------\n",
    "    '''\n",
    "    \n",
    "    import matplotlib.pyplot as plt\n",
    "    plt.figure(1, figsize=(6, 6))\n",
    "    \n",
    "    for p in param_vec:\n",
    "        Ad_over_A = p/2/math.pi\n",
    "        plt.plot(alpha_vec/2/math.pi*360, func(alpha_vec, p),'b-',label='$Ad/A=$%1.2f'%Ad_over_A)\n",
    "        \n",
    "    plt.xlabel(r'$\\alpha$',fontsize=18)\n",
    "    plt.ylabel(r'$f(\\alpha)$',fontsize=18)\n",
    "    plt.title(r'Computing the Roots of $f(\\alpha)$',fontsize=20)\n",
    "    plt.legend(loc='best',fontsize=12)\n",
    "    plt.xticks(fontsize=16)\n",
    "    plt.yticks(fontsize=16)\n",
    "      \n",
    "    if alpha_root is not None:\n",
    "        \n",
    "        plt.plot(alpha_root/2/math.pi*360, 0.0,'r*',label='root',markersize=14)\n",
    "               \n",
    "        (x_min,x_max) = plt.xlim()\n",
    "        dx = abs(x_max-x_min)\n",
    "        x_text = alpha_root/2/math.pi*360 + dx*0.03\n",
    "    \n",
    "        (y_min,y_max) = plt.ylim()\n",
    "        dy = abs(y_max-y_min)\n",
    "        y_text = 0.0 + dy*0.01\n",
    "    \n",
    "        plt.text(x_text, y_text, r'$x=$%1.2f'%(alpha_root/2/math.pi*360),fontsize=16)\n",
    "    \n",
    "    \n",
    "    plt.grid(True)\n",
    "    plt.show()\n",
    "    print('')\n",
    "    \n",
    "    return"
   ]
  },
  {
   "cell_type": "code",
   "execution_count": 4,
   "metadata": {},
   "outputs": [
    {
     "data": {
      "text/plain": [
       "<Figure size 600x600 with 1 Axes>"
      ]
     },
     "metadata": {},
     "output_type": "display_data"
    },
    {
     "name": "stdout",
     "output_type": "stream",
     "text": [
      "\n"
     ]
    }
   ],
   "source": [
    "'''Typical function values in graphical form'''\n",
    "\n",
    "Ad_over_A = 0.1\n",
    "\n",
    "param = 2*math.pi * Ad_over_A\n",
    "\n",
    "alpha_min = 30  / 360 * 2*math.pi\n",
    "alpha_max = 150 / 360 * 2*math.pi\n",
    "n_pts = 100\n",
    "alpha_vec = np.linspace(alpha_min, alpha_max, n_pts)\n",
    "\n",
    "plot_function( alpha_vec, np.array([param]) )"
   ]
  },
  {
   "cell_type": "code",
   "execution_count": 5,
   "metadata": {},
   "outputs": [
    {
     "data": {
      "image/png": "[encoded data removed]",
      "text/plain": [
       "<Figure size 432x432 with 1 Axes>"
      ]
     },
     "metadata": {
      "needs_background": "light"
     },
     "output_type": "display_data"
    },
    {
     "name": "stdout",
     "output_type": "stream",
     "text": [
      "\n"
     ]
    }
   ],
   "source": [
    "'''Function values for various parameters A_d/A_T'''\n",
    "\n",
    "param_vec = 2*math.pi * np.linspace(0.1, 0.2, 5)\n",
    "\n",
    "plot_function( alpha_vec, param_vec )"
   ]
  },
  {
   "cell_type": "code",
   "execution_count": 6,
   "metadata": {
    "code_folding": [
     2
    ]
   },
   "outputs": [],
   "source": [
    "'''Newton's method for finding root value'''\n",
    "\n",
    "def newton_solve( alpha_guess=0.0, param=0.0, k_max=30, tolerance=1.0e-10, verbose=True ):\n",
    "\n",
    "    # Other initialization\n",
    "    delta_k = 1e+10\n",
    "    f_k     = 1e+10\n",
    "    alpha = np.array([alpha_guess])\n",
    "\n",
    "    if verbose is True:\n",
    "        print('\\n')\n",
    "        print('******************************************************')\n",
    "        print(\"          Newton's Method Iterations                  \")\n",
    "        print('******************************************************')\n",
    "        print(\"k |  f(a_k)  |  f'(a_k) | |del a_k| |    a_k   |convg|\")\n",
    "        print('------------------------------------------------------')\n",
    "\n",
    "    import math\n",
    "    k = 0\n",
    "    \n",
    "    while (abs(delta_k) > tolerance or abs(f_k) > tolerance) and k <= k_max:\n",
    "        \n",
    "        f_k       = func( alpha, param )\n",
    "        f_prime_k = func_prime( alpha, param )\n",
    "        \n",
    "        delta_k_old = delta_k\n",
    "        \n",
    "        delta_k     = -f_k / f_prime_k\n",
    "        \n",
    "        alpha += delta_k\n",
    "        \n",
    "        if k > 0:\n",
    "            if delta_k != 0.0 and delta_k_old != 0.0:\n",
    "                convergence_factor = math.log(abs(delta_k),10) / math.log(abs(delta_k_old),10)\n",
    "            else:\n",
    "                convergence_factor = 0.0  \n",
    "        else:\n",
    "            convergence_factor = 0.0\n",
    "            \n",
    "        k = k + 1\n",
    "        \n",
    "        if verbose is True:\n",
    "            print('%2i %+5.3e %+5.3e %+5.3e  %+5.3e %5.2f'%\\\n",
    "                  (k,f_k,f_prime_k,abs(delta_k),alpha,convergence_factor))\n",
    "\n",
    "    if verbose is True:\n",
    "        print('******************************************************') \n",
    "        print('Root = %8.5e'%alpha)\n",
    "    \n",
    "    return alpha[0]"
   ]
  },
  {
   "cell_type": "code",
   "execution_count": 7,
   "metadata": {},
   "outputs": [
    {
     "name": "stdout",
     "output_type": "stream",
     "text": [
      "\n",
      "\n",
      "******************************************************\n",
      "          Newton's Method Iterations                  \n",
      "******************************************************\n",
      "k |  f(a_k)  |  f'(a_k) | |del a_k| |    a_k   |convg|\n",
      "------------------------------------------------------\n",
      " 1 -5.730e-01 +2.340e-01 +2.449e+00  +3.147e+00  0.00\n",
      " 2 +2.524e+00 +2.000e+00 +1.262e+00  +1.885e+00  0.26\n",
      " 3 +3.056e-01 +1.309e+00 +2.334e-01  +1.652e+00 -6.25\n",
      " 4 +2.645e-02 +1.081e+00 +2.447e-02  +1.627e+00  2.55\n",
      " 5 +2.987e-04 +1.056e+00 +2.828e-04  +1.627e+00  2.20\n",
      " 6 +3.993e-08 +1.056e+00 +3.782e-08  +1.627e+00  2.09\n",
      " 7 +7.772e-16 +1.056e+00 +7.360e-16  +1.627e+00  2.04\n",
      "******************************************************\n",
      "Root = 1.62675e+00\n",
      "Alpha [deg] = 93.206\n"
     ]
    }
   ],
   "source": [
    "'''Find one root: example'''\n",
    "\n",
    "alpha = 40/360 * 2*math.pi\n",
    "param = 2*math.pi * Ad_over_A\n",
    "\n",
    "k_max     = 20\n",
    "tolerance = 1.0e-8\n",
    "\n",
    "alpha = newton_solve( alpha, param, k_max, tolerance)\n",
    "\n",
    "print('Alpha [deg] = %1.3f'%(alpha/2/math.pi*360))"
   ]
  },
  {
   "cell_type": "code",
   "execution_count": 8,
   "metadata": {},
   "outputs": [
    {
     "data": {
      "image/png": "[encoded data removed]",
      "text/plain": [
       "<Figure size 432x432 with 1 Axes>"
      ]
     },
     "metadata": {
      "needs_background": "light"
     },
     "output_type": "display_data"
    },
    {
     "name": "stdout",
     "output_type": "stream",
     "text": [
      "\n"
     ]
    }
   ],
   "source": [
    "plot_function( alpha_vec, np.array([param]), alpha )"
   ]
  },
  {
   "cell_type": "code",
   "execution_count": 9,
   "metadata": {},
   "outputs": [
    {
     "name": "stdout",
     "output_type": "stream",
     "text": [
      "Weir length [m] = 0.589\n"
     ]
    }
   ],
   "source": [
    "'''Compute Lw'''\n",
    "\n",
    "radius = 0.81/2.0*const.meter\n",
    "\n",
    "L_w = 2 * radius * math.sin(alpha/2)\n",
    "\n",
    "print('Weir length [m] = %1.3f'%(L_w))"
   ]
  },
  {
   "cell_type": "code",
   "execution_count": 10,
   "metadata": {},
   "outputs": [
    {
     "name": "stdout",
     "output_type": "stream",
     "text": [
      "Alpha [deg] = 93.206  Ad/A = 0.100  L_w/D = 0.727\n",
      "Alpha [deg] = 96.883  Ad/A = 0.111  L_w/D = 0.748\n",
      "Alpha [deg] = 100.361  Ad/A = 0.122  L_w/D = 0.768\n",
      "Alpha [deg] = 103.672  Ad/A = 0.133  L_w/D = 0.786\n",
      "Alpha [deg] = 106.839  Ad/A = 0.144  L_w/D = 0.803\n",
      "Alpha [deg] = 109.881  Ad/A = 0.156  L_w/D = 0.819\n",
      "Alpha [deg] = 112.814  Ad/A = 0.167  L_w/D = 0.833\n",
      "Alpha [deg] = 115.650  Ad/A = 0.178  L_w/D = 0.846\n",
      "Alpha [deg] = 118.400  Ad/A = 0.189  L_w/D = 0.859\n",
      "Alpha [deg] = 121.074  Ad/A = 0.200  L_w/D = 0.871\n"
     ]
    }
   ],
   "source": [
    "'''Build table of values for weir length Lw as a function of Ad/A'''\n",
    "\n",
    "alpha = 40/360 * 2*math.pi\n",
    "\n",
    "Ad_over_A_min = 0.1\n",
    "Ad_over_A_max = 0.2\n",
    "\n",
    "param_vec     = 2*math.pi * np.linspace(Ad_over_A_min, Ad_over_A_max, 10)\n",
    "\n",
    "for p in param_vec:\n",
    "    \n",
    "    alpha = newton_solve( alpha, p, k_max=20, tolerance=1e-8, verbose=False)\n",
    "    \n",
    "    print('Alpha [deg] = %1.3f  Ad/A = %1.3f  L_w/D = %1.3f'%(alpha/2/math.pi*360, p/2/math.pi,math.sin(alpha/2)))"
   ]
  },
  {
   "cell_type": "code",
   "execution_count": null,
   "metadata": {},
   "outputs": [],
   "source": []
  }
 ],
 "metadata": {
  "kernelspec": {
   "display_name": "Python 3",
   "language": "python",
   "name": "python3"
  },
  "language_info": {
   "codemirror_mode": {
    "name": "ipython",
    "version": 3
   },
   "file_extension": ".py",
   "mimetype": "text/x-python",
   "name": "python",
   "nbconvert_exporter": "python",
   "pygments_lexer": "ipython3",
   "version": "3.7.1"
  },
  "latex_envs": {
   "LaTeX_envs_menu_present": true,
   "autoclose": false,
   "autocomplete": true,
   "bibliofile": "biblio.bib",
   "cite_by": "apalike",
   "current_citInitial": 1,
   "eqLabelWithNumbers": true,
   "eqNumInitial": 1,
   "hotkeys": {
    "equation": "Ctrl-E",
    "itemize": "Ctrl-I"
   },
   "labels_anchors": false,
   "latex_user_defs": false,
   "report_style_numbering": false,
   "user_envs_cfg": false
  }
 },
 "nbformat": 4,
 "nbformat_minor": 2
}
