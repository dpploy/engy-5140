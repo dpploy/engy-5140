{
 "cells": [
  {
   "cell_type": "markdown",
   "metadata": {},
   "source": [
    "Engy-5140: Chemical and Nuclear Waste Processing Fall 2019 UMass Lowell; Prof. V. F. de Almeida **08Oct2019**\n",
    "\n",
    "# 03. Gas Absorption/Stripping"
   ]
  },
  {
   "cell_type": "markdown",
   "metadata": {},
   "source": [
    "---\n",
    "\n",
    "## Table of Contents\n",
    "* [Gas Absorption Theory](#gasabsorption)\n",
    "* [Equilibrium Gas Stripping Example](#equgasstripproblem)\n",
    "* [Non-equilibrium Gas Stripping Example](#nequgasstripproblem)\n",
    "---"
   ]
  },
  {
   "cell_type": "markdown",
   "metadata": {},
   "source": [
    "## Gas Absorption<a id=\"gasabsorption\"></a>\n",
    "\n",
    "In-class course notes OneNote [Engy-5140-gas-absorption](https://studentuml-my.sharepoint.com/:o:/g/personal/valmor_dealmeida_uml_edu/EqcWsUxiWF5HpZtAui06pSgBIPMNorxebuwNt7Lsr-DMdQ?e=NSm120).\n",
    "\n",
    "In-class course notes OneNote [Engy-5140-noneq-absorption](https://studentuml-my.sharepoint.com/:o:/g/personal/valmor_dealmeida_uml_edu/EgwN25gp8ytGpdRItJdVRf4B7s_LLH76ODb7f6lSscvMCg?e=LqhrPg)."
   ]
  },
  {
   "cell_type": "markdown",
   "metadata": {},
   "source": [
    "## Equilibrium Gas Stripping Problem<a id=\"equgasstripproblem\"></a>\n",
    "\n",
    "Equilibrium gas stripping example [Engy-5140-gas-stripping-example](https://studentuml-my.sharepoint.com/:o:/g/personal/valmor_dealmeida_uml_edu/El-5RzsgMN1Hokhp17YslvkB_SMF7DWPXcqODivLNxdKFw?e=DHShm4).\n",
    "\n",
    "Groundwater supply is contaminated with 1,1-dichloroethane at 900$\\mu$g/L; this must be reduced to 22$\\mu$g/L by an air stripping column. \n",
    "\n",
    "Data provided:\n",
    "\n",
    "- $T = 20$ C\n",
    "- $f_\\text{L} = 6.2$ L/s\n",
    "- $\\frac{f_\\text{G}}{f_\\text{L}} = 17$  \n",
    "- Henry's constant: $H = \\exp(A - \\frac{B}{T})$\n",
    "  + $A = 8.64$\n",
    "  + $B = 4.13\\ 10^{3}$ K\n",
    "  + $T$ [=] K\n",
    "  + $H$ [=] atm m$^3$ / mol\n",
    "\n",
    "Clearly address the following:\n",
    " 1. Compute the stripping factor.\n",
    " 1. Compute accurately (in tabular form) the number of equilibrium contact stages needed in countercurrent flow (air flowing upward and  liquid flowing downward).\n",
    " 1. Show your calculation graphically.\n",
    " 1. Comment on the toxicity of 1,1-dichloroethane in relation to your computed concentration values and cite your source of toxicity information."
   ]
  },
  {
   "cell_type": "markdown",
   "metadata": {},
   "source": [
    "Answer to 1:"
   ]
  },
  {
   "cell_type": "code",
   "execution_count": 1,
   "metadata": {},
   "outputs": [
    {
     "name": "stdout",
     "output_type": "stream",
     "text": [
      "Stripping factor = 3.041\n"
     ]
    }
   ],
   "source": [
    "'''Air stripping of 1,1-dichloroethane from water'''\n",
    "\n",
    "# Preliminaries\n",
    "import math\n",
    "import pandas as pd\n",
    "import scipy.constants as const\n",
    "\n",
    "# SI units conversion\n",
    "second     = 1.0\n",
    "meter      = 1.0\n",
    "mol        = 1.0\n",
    "liter      = const.liter\n",
    "micro_gram = const.micro * const.gram\n",
    "atm        = const.atm\n",
    "ug_per_liter = micro_gram/liter\n",
    "\n",
    "# Parameters\n",
    "temp_c = 20\n",
    "temp = const.convert_temperature(temp_c,'C','K')\n",
    "\n",
    "f_l           = 6.3 * liter/second\n",
    "f_g_f_l_ratio = 17\n",
    "f_g           = f_l * f_g_f_l_ratio\n",
    "\n",
    "a_param = 8.64\n",
    "b_param = 4.13e3\n",
    "henry_cte = math.exp(a_param - b_param/temp) * atm*meter**3/mol\n",
    "\n",
    "partition_coef = henry_cte/const.gas_constant/temp\n",
    "\n",
    "# Stripping factor\n",
    "strip_factor = f_g_f_l_ratio / partition_coef**-1\n",
    "\n",
    "print('Stripping factor = %5.3f'%strip_factor)"
   ]
  },
  {
   "cell_type": "markdown",
   "metadata": {},
   "source": [
    "Answer to 2:"
   ]
  },
  {
   "cell_type": "code",
   "execution_count": 2,
   "metadata": {
    "code_folding": []
   },
   "outputs": [
    {
     "name": "stdout",
     "output_type": "stream",
     "text": [
      "Number of equilibrium stages =  3\n",
      "\n",
      "Mass Concentrations [ug/L] at T = 20.00\n",
      "   k  rho_A_L(k)  rho_A_G(k)  rho_A_L(k+1)\n",
      "0  1       22.00        3.94         88.91\n",
      "1  2       88.91       15.91        292.39\n",
      "2  3      292.39       52.31        911.24\n"
     ]
    }
   ],
   "source": [
    "'''Air stripping of 1,1-dichloroethane from water'''\n",
    "\n",
    "# Top of tower\n",
    "rho_A_L_N1 = 900 * ug_per_liter\n",
    "\n",
    "# Bottom of tower\n",
    "rho_A_G_0 = 0.0\n",
    "rho_A_L_1 = 22 * ug_per_liter\n",
    "\n",
    "# Overall mass balance\n",
    "rho_A_G_N1 = ( rho_A_L_N1 - rho_A_L_1 ) / f_g_f_l_ratio\n",
    "\n",
    "# Equilibrium line definition: y = a x\n",
    "eq_func = lambda x: partition_coef * x\n",
    "\n",
    "# Operating line definition: x = a y + b\n",
    "op_slope = strip_factor * partition_coef**-1\n",
    "b = rho_A_L_1  # intercept point\n",
    "op_func = lambda y: op_slope * y + b\n",
    "\n",
    "# Data storage for graphical output\n",
    "xpts = list() # x coord. for solution plotting\n",
    "ypts = list() # y coord. for solution plotting\n",
    "xpts.append(rho_A_L_1)\n",
    "ypts.append(rho_A_G_0)\n",
    "\n",
    "# Data storage for a table output\n",
    "data = dict()\n",
    "data['k']            = list()\n",
    "data['rho_A_L(k)']   = list()\n",
    "data['rho_A_G(k)']   = list()\n",
    "data['rho_A_L(k+1)'] = list()\n",
    "\n",
    "# Solve for mass concentrations in the network tower\n",
    "# Start at the bottom and move towards the top\n",
    "\n",
    "rho_A_L_k = rho_A_L_1\n",
    "rho_A_G_k = rho_A_G_0\n",
    "\n",
    "k_node = 0\n",
    "while rho_A_G_k <= rho_A_G_N1:\n",
    "    \n",
    "    data['rho_A_L(k)'].append(rho_A_L_k/ug_per_liter)\n",
    "    \n",
    "    # Compute equilibrium point\n",
    "    rho_A_G_k = eq_func(rho_A_L_k)\n",
    "    \n",
    "    xpts.append(rho_A_L_k/ug_per_liter)\n",
    "    ypts.append(rho_A_G_k/ug_per_liter)\n",
    "    \n",
    "    data['rho_A_G(k)'].append(rho_A_G_k/ug_per_liter)\n",
    "    \n",
    "    # Compute operating line point\n",
    "    rho_A_L_k = op_func(rho_A_G_k) # overwrite k with k+1\n",
    "    \n",
    "    xpts.append(rho_A_L_k/ug_per_liter)\n",
    "    ypts.append(rho_A_G_k/ug_per_liter)\n",
    "    \n",
    "    data['rho_A_L(k+1)'].append(rho_A_L_k/ug_per_liter)\n",
    "    \n",
    "    k_node += 1\n",
    "    \n",
    "    data['k'].append(k_node)\n",
    "\n",
    "n_eq_stages = k_node\n",
    "\n",
    "print('Number of equilibrium stages = ',n_eq_stages)\n",
    "\n",
    "import pandas as pd\n",
    "pd.set_option('display.float_format', '{:.2F}'.format)\n",
    "\n",
    "df = pd.DataFrame(data)\n",
    "print('')\n",
    "print('Mass Concentrations [ug/L] at T = %2.2f'%const.convert_temperature(temp,'K','C'))\n",
    "print(df)"
   ]
  },
  {
   "cell_type": "markdown",
   "metadata": {},
   "source": [
    "A quote on computing:\n",
    "\n",
    "    \"If we can't express what we know in the form of numbers, we really don't know much about it\"\n",
    "\n",
    "Lord Kelvin"
   ]
  },
  {
   "cell_type": "markdown",
   "metadata": {},
   "source": [
    "Answer to 3:"
   ]
  },
  {
   "cell_type": "code",
   "execution_count": 4,
   "metadata": {},
   "outputs": [
    {
     "data": {
      "image/png": "[encoded data removed]",
      "text/plain": [
       "<Figure size 1080x432 with 1 Axes>"
      ]
     },
     "metadata": {
      "needs_background": "light"
     },
     "output_type": "display_data"
    },
    {
     "name": "stdout",
     "output_type": "stream",
     "text": [
      "\n"
     ]
    }
   ],
   "source": [
    "def plot_diagram(xpts,ypts):\n",
    "    import matplotlib.pyplot as plt\n",
    "    import numpy as np\n",
    "\n",
    "    plt.figure(1, figsize=(15, 6))\n",
    "\n",
    "    xpts = np.array(xpts)\n",
    "    ypts = np.array(ypts)\n",
    "\n",
    "    # plot equilibrium line\n",
    "    plt.plot( (0,xpts.max()), (0,eq_func(xpts.max())),'ro-',label='Equilibrium Line')\n",
    "    \n",
    "    # plot operating line\n",
    "    plt.plot(op_func(ypts), ypts,'b',label='Operating Line')\n",
    "\n",
    "    # plot network nodes\n",
    "    plt.plot(xpts, ypts, 'ko-',label='Stepping off')\n",
    "\n",
    "    plt.xlabel(r'$\\rho_{A,L}$ [$\\mu$g/L]',fontsize=18)\n",
    "    plt.ylabel(r'$\\rho_{A,G}$ [$\\mu$g/L]',fontsize=18)\n",
    "    plt.title(r'Gas Stripping Diagram T=%2.1f C'%const.convert_temperature(temp,'K','C'),fontsize=20)\n",
    "    plt.legend(loc='best',fontsize=12)\n",
    "    plt.xticks(fontsize=16)\n",
    "    plt.yticks(fontsize=16)\n",
    "    \n",
    "    plt.grid()\n",
    "    plt.show()\n",
    "    print('')\n",
    "    \n",
    "plot_diagram(xpts,ypts)"
   ]
  },
  {
   "cell_type": "markdown",
   "metadata": {},
   "source": [
    "Answer to 4:\n",
    "\n",
    "Health hazard from 1,1-dichloroethane can be found in the EPA website:\n",
    "[2000 EPA Health Effects Notebook for Hazardous Air Pollutants for Ethylidene Dichloride (1,1-Dichloroethane)](https://www.epa.gov/sites/production/files/2016-09/documents/ethylidene-dichloride.pdf)\n",
    "\n",
    "|**Information** |**Dose**|\n",
    "|:----------------------|:-------:|\n",
    "| Volatile organic compound  | -  |\n",
    "| Acute inhalation exposure to high levels in humans results in central nervous system depression and cardio arrythmias| 105 mg/L |\n",
    "| EPA classification as Group C, possible human carcinogen | - |\n",
    "| EPA provisional reference concentration| 0.5 $\\mu$g/L |\n",
    "| Lethal conc. in 50% of population (mice)   | 70 mg/L |\n",
    "| Lethal conc. in 50% of population (rats)   | 65 mg/L |\n",
    "| National institute of occupational safety and health (NIOSH) **immediately dangerous** to life or health limit| 12 mg/L |\n",
    "| NIOSH recommend exposure 8-10 h | 400 $\\mu$g/L |"
   ]
  },
  {
   "cell_type": "markdown",
   "metadata": {},
   "source": [
    "## Non-Equilibrium Gas Stripping Example<a id=\"nequgasstripproblem\"></a>\n",
    "\n",
    "Repeat the [equilibrium problem above](#equgasstripproblem) for a non-equilibrium situation where the efficiency is 75.3%.\n",
    "\n",
    "Clearly address the following:\n",
    " 1. Compute the stripping factor.\n",
    " 1. Compute accurately (in tabular form) the number of equilibrium contact stages needed in countercurrent flow (air flowing upward and  liquid flowing downward).\n",
    " 1. Show your calculation graphically.\n",
    " 1. Compare your number of stages to the number of stages obtained from the equilibrium calculation divided by the efficiency."
   ]
  },
  {
   "cell_type": "code",
   "execution_count": 9,
   "metadata": {
    "code_folding": []
   },
   "outputs": [
    {
     "name": "stdout",
     "output_type": "stream",
     "text": [
      "Gas-phase relaxation factor            = 0.108\n",
      "Gas-phase normalized relaxation factor = 0.097\n",
      "Number of non-equilibrium stages =  4\n",
      "\n",
      "Mass Concentrations [ug/L] at T = 20.00\n",
      "   k  rho_A_L(k)  rho_A_G(k)  rho_A_L(k+1)\n",
      "0  1       22.00        2.96         72.38\n",
      "1  2       72.38       10.48        200.20\n",
      "2  3      200.20       29.56        524.49\n",
      "3  4      524.49       77.96       1347.24\n",
      "\n",
      "# equilibrium stages / efficiency = 4\n"
     ]
    },
    {
     "data": {
      "text/html": [
       "<div>\n",
       "<style scoped>\n",
       "    .dataframe tbody tr th:only-of-type {\n",
       "        vertical-align: middle;\n",
       "    }\n",
       "\n",
       "    .dataframe tbody tr th {\n",
       "        vertical-align: top;\n",
       "    }\n",
       "\n",
       "    .dataframe thead th {\n",
       "        text-align: right;\n",
       "    }\n",
       "</style>\n",
       "<table border=\"1\" class=\"dataframe\">\n",
       "  <thead>\n",
       "    <tr style=\"text-align: right;\">\n",
       "      <th></th>\n",
       "      <th>k</th>\n",
       "      <th>rho_A_L(k)</th>\n",
       "      <th>rho_A_G(k)</th>\n",
       "      <th>rho_A_L(k+1)</th>\n",
       "    </tr>\n",
       "  </thead>\n",
       "  <tbody>\n",
       "    <tr>\n",
       "      <th>0</th>\n",
       "      <td>1</td>\n",
       "      <td>22.00</td>\n",
       "      <td>2.96</td>\n",
       "      <td>72.38</td>\n",
       "    </tr>\n",
       "    <tr>\n",
       "      <th>1</th>\n",
       "      <td>2</td>\n",
       "      <td>72.38</td>\n",
       "      <td>10.48</td>\n",
       "      <td>200.20</td>\n",
       "    </tr>\n",
       "    <tr>\n",
       "      <th>2</th>\n",
       "      <td>3</td>\n",
       "      <td>200.20</td>\n",
       "      <td>29.56</td>\n",
       "      <td>524.49</td>\n",
       "    </tr>\n",
       "    <tr>\n",
       "      <th>3</th>\n",
       "      <td>4</td>\n",
       "      <td>524.49</td>\n",
       "      <td>77.96</td>\n",
       "      <td>1347.24</td>\n",
       "    </tr>\n",
       "  </tbody>\n",
       "</table>\n",
       "</div>"
      ],
      "text/plain": [
       "   k  rho_A_L(k)  rho_A_G(k)  rho_A_L(k+1)\n",
       "0  1       22.00        2.96         72.38\n",
       "1  2       72.38       10.48        200.20\n",
       "2  3      200.20       29.56        524.49\n",
       "3  4      524.49       77.96       1347.24"
      ]
     },
     "execution_count": 9,
     "metadata": {},
     "output_type": "execute_result"
    }
   ],
   "source": [
    "'''Air stripping of 1,1-dichloroethane from water'''\n",
    "\n",
    "efficiency = 75.3/100\n",
    "\n",
    "relax_factor = (1/efficiency - 1)/strip_factor\n",
    "relax_factor_hat = relax_factor/(relax_factor+1)\n",
    "\n",
    "print('Gas-phase relaxation factor            = %2.3f'%relax_factor)\n",
    "print('Gas-phase normalized relaxation factor = %2.3f'%relax_factor_hat)\n",
    "\n",
    "# Non-equilibrium line: x = a y + b\n",
    "neq_slope = partition_coef**-1 * ( 1 + relax_factor_hat*(strip_factor - 1) )\n",
    "b_neq = rho_A_L_1 * relax_factor_hat # intercept point\n",
    "neq_func = lambda x: neq_slope**-1 * ( x - b_neq )\n",
    "\n",
    "# Data storage for graphical output\n",
    "xpts = list() # x coord. for solution plotting\n",
    "ypts = list() # y coord. for solution plotting\n",
    "xpts.append(rho_A_L_1)\n",
    "ypts.append(rho_A_G_0)\n",
    "\n",
    "# Data storage for a table output\n",
    "data = dict()\n",
    "data['k']            = list()\n",
    "data['rho_A_L(k)']   = list()\n",
    "data['rho_A_G(k)']   = list()\n",
    "data['rho_A_L(k+1)'] = list()\n",
    "\n",
    "# Solve for mass concentrations in the network tower\n",
    "# Start at the bottom and move towards the top\n",
    "\n",
    "rho_A_L_k = rho_A_L_1\n",
    "rho_A_G_k = rho_A_G_0\n",
    "\n",
    "k_node = 0\n",
    "while rho_A_G_k <= rho_A_G_N1:\n",
    "    \n",
    "    data['rho_A_L(k)'].append(rho_A_L_k/ug_per_liter)\n",
    "    \n",
    "    # Compute the non-equilibrium point\n",
    "    rho_A_G_k = neq_func(rho_A_L_k)\n",
    "    \n",
    "    xpts.append(rho_A_L_k/ug_per_liter)\n",
    "    ypts.append(rho_A_G_k/ug_per_liter)\n",
    "    \n",
    "    data['rho_A_G(k)'].append(rho_A_G_k/ug_per_liter)\n",
    "    \n",
    "    rho_A_L_k = op_func(rho_A_G_k) # overwrite k with k+1\n",
    "    \n",
    "    xpts.append(rho_A_L_k/ug_per_liter)\n",
    "    ypts.append(rho_A_G_k/ug_per_liter)\n",
    "    \n",
    "    data['rho_A_L(k+1)'].append(rho_A_L_k/ug_per_liter)\n",
    "    \n",
    "    k_node += 1\n",
    "    \n",
    "    data['k'].append(k_node)\n",
    "\n",
    "n_neq_stages = k_node\n",
    "    \n",
    "print('Number of non-equilibrium stages = ',n_neq_stages)\n",
    "\n",
    "import pandas as pd\n",
    "pd.set_option('display.float_format', '{:.2F}'.format)\n",
    "\n",
    "df = pd.DataFrame(data)\n",
    "print('')\n",
    "print('Mass Concentrations [ug/L] at T = %2.2f'%const.convert_temperature(temp,'K','C'))\n",
    "print(df)\n",
    "\n",
    "print('')\n",
    "print('# equilibrium stages / efficiency = %i'%round(n_eq_stages/efficiency,0))"
   ]
  },
  {
   "cell_type": "code",
   "execution_count": 6,
   "metadata": {},
   "outputs": [
    {
     "data": {
      "image/png": "[encoded data removed]",
      "text/plain": [
       "<Figure size 1080x432 with 1 Axes>"
      ]
     },
     "metadata": {
      "needs_background": "light"
     },
     "output_type": "display_data"
    },
    {
     "name": "stdout",
     "output_type": "stream",
     "text": [
      "\n"
     ]
    }
   ],
   "source": [
    "plot_diagram(xpts,ypts)"
   ]
  },
  {
   "cell_type": "code",
   "execution_count": null,
   "metadata": {},
   "outputs": [],
   "source": []
  }
 ],
 "metadata": {
  "kernelspec": {
   "display_name": "Python 3",
   "language": "python",
   "name": "python3"
  },
  "language_info": {
   "codemirror_mode": {
    "name": "ipython",
    "version": 3
   },
   "file_extension": ".py",
   "mimetype": "text/x-python",
   "name": "python",
   "nbconvert_exporter": "python",
   "pygments_lexer": "ipython3",
   "version": "3.7.1"
  },
  "latex_envs": {
   "LaTeX_envs_menu_present": true,
   "autoclose": false,
   "autocomplete": true,
   "bibliofile": "biblio.bib",
   "cite_by": "apalike",
   "current_citInitial": 1,
   "eqLabelWithNumbers": true,
   "eqNumInitial": 1,
   "hotkeys": {
    "equation": "Ctrl-E",
    "itemize": "Ctrl-I"
   },
   "labels_anchors": false,
   "latex_user_defs": false,
   "report_style_numbering": false,
   "user_envs_cfg": false
  }
 },
 "nbformat": 4,
 "nbformat_minor": 2
}
