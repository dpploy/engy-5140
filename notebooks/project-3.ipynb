{
 "cells": [
  {
   "cell_type": "markdown",
   "metadata": {},
   "source": [
    "Engy-5140: Chemical and Nuclear Waste Processing Fall 2019 UMass Lowell; Prof. V. F. de Almeida **06Dec2019**\n",
    "\n",
    "# Final Project 03 18Dec2019"
   ]
  },
  {
   "cell_type": "markdown",
   "metadata": {},
   "source": [
    "### Name: `your name`"
   ]
  },
  {
   "cell_type": "markdown",
   "metadata": {},
   "source": [
    "### <span style=\"color:red\">Guidance:</span>\n",
    " +  <span style=\"color:red\"> \n",
    "    Work within your team only. Be clear and complete in your answers.\n",
    "    </span>\n",
    " +  <span style=\"color:red\"> \n",
    "    Save your work frequently to a file locally to your computer.\n",
    "    </span>\n",
    " +  <span style=\"color:red\">\n",
    "    During your work and before submitting the final version do: `Kernel` -> `Restart & Run All`, to verify your notebook runs correctly.\n",
    "    </span>\n",
    " +  <span style=\"color:red\">\n",
    "    Save your file again.\n",
    "    </span>"
   ]
  },
  {
   "cell_type": "markdown",
   "metadata": {},
   "source": [
    "---\n",
    "### Table of Contents\n",
    "* [Problem Statement](#statement)\n",
    "* [Problem 1 (100 pts)](#p1)\n",
    "---"
   ]
  },
  {
   "cell_type": "markdown",
   "metadata": {},
   "source": [
    "### <span style=\"color:blue\"> Problem Statement </span> <a id=\"statement\"></a>\n",
    "\n",
    "#### <span style=\"color:blue\"> A refinery gas stream of 800,000 scfm (32 $^\\circ$F, 1 atm) containing 72.5% H$_2$, 25% CH$_4$, and 2.5% C$_2$H$_6$ is to be used as a source of H$_2$. An absorber column is to be used to deliver a gas stream with 95% H$_2$ at no less than 375 psia. The absorber operates at 400 psia and 100 $^\\circ$F using n-octane as an absorbant. If at least 80% of the H$_2$ fed to the absorber is to leave in the exit gas, address the items below using the network modeling approach covered in this course, and thermodynamic and transport properties you found in the open literature. </span> \n",
    "    \n",
    "#### <span style=\"color:blue\"> (based on Seader, Henly, and Roper textbook Separation Process Principles Chap. 6, 2016). </span>"
   ]
  },
  {
   "cell_type": "markdown",
   "metadata": {},
   "source": [
    "### <span style=\"color:blue\"> Problem 1 (100 pts) </span> <a id=\"p1\"></a>"
   ]
  },
  {
   "cell_type": "markdown",
   "metadata": {},
   "source": [
    "1. <span style=\"color:blue\"> Design a trayed column and provide construction/operation parameters. </span>\n",
    "2. <span style=\"color:blue\"> What are the efficiencies of your absorber? </span>\n",
    "2. <span style=\"color:blue\"> Using the O'Connell efficiency correlation (p. 49, Engy-5140-noneq-absorption), compare the results obtained to the previous item. </span>\n",
    "3. <span style=\"color:blue\"> What is the mass of H$_2$ in the exiting gas stream produced per day?</span>\n",
    "4. <span style=\"color:blue\"> What is the mass of each absorbed species in the exiting n-octane phase per day?</span>\n",
    "5. <span style=\"color:blue\"> Describe the hazards in this operation.</span>"
   ]
  },
  {
   "cell_type": "markdown",
   "metadata": {},
   "source": [
    "Answers:"
   ]
  }
 ],
 "metadata": {
  "kernelspec": {
   "display_name": "Python 3",
   "language": "python",
   "name": "python3"
  },
  "language_info": {
   "codemirror_mode": {
    "name": "ipython",
    "version": 3
   },
   "file_extension": ".py",
   "mimetype": "text/x-python",
   "name": "python",
   "nbconvert_exporter": "python",
   "pygments_lexer": "ipython3",
   "version": "3.7.1"
  },
  "latex_envs": {
   "LaTeX_envs_menu_present": true,
   "autoclose": false,
   "autocomplete": true,
   "bibliofile": "biblio.bib",
   "cite_by": "apalike",
   "current_citInitial": 1,
   "eqLabelWithNumbers": true,
   "eqNumInitial": 1,
   "hotkeys": {
    "equation": "Ctrl-E",
    "itemize": "Ctrl-I"
   },
   "labels_anchors": false,
   "latex_user_defs": false,
   "report_style_numbering": false,
   "user_envs_cfg": false
  }
 },
 "nbformat": 4,
 "nbformat_minor": 2
}
