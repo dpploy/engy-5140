{
 "cells": [
  {
   "cell_type": "markdown",
   "metadata": {},
   "source": [
    "Engy-5140: Chemical and Nuclear Waste Processing Fall 2019 UMass Lowell; Prof. V. F. de Almeida **03Oct2019**\n",
    "\n",
    "# Homework 02 03Oct2019"
   ]
  },
  {
   "cell_type": "markdown",
   "metadata": {},
   "source": [
    "### Name: `your name`"
   ]
  },
  {
   "cell_type": "markdown",
   "metadata": {},
   "source": [
    "### <span style=\"color:red\">Guidance:</span>\n",
    " +  <span style=\"color:red\"> \n",
    "    Individual work. Attempt to answer all questions below.\n",
    "    </span>\n",
    " +  <span style=\"color:red\"> \n",
    "    Save your work frequently to a file locally to your computer.\n",
    "    </span>\n",
    " +  <span style=\"color:red\">\n",
    "    During your work and before submitting the final version do: `Kernel` -> `Restart & Run All`, to verify your notebook runs correctly.\n",
    "    </span>\n",
    " +  <span style=\"color:red\">\n",
    "    Save your file again.\n",
    "    </span>"
   ]
  },
  {
   "cell_type": "markdown",
   "metadata": {},
   "source": [
    "### Problem 1 (50 pts)<a id=\"p1\"></a>"
   ]
  },
  {
   "cell_type": "markdown",
   "metadata": {},
   "source": [
    "#### <span style=\"color:blue\">An aerated waste tank with raffinate from a chemical operation contains 100 L of aqueous solution as follows:</span>\n",
    "\n",
    "1. <span style=\"color:blue\"> 15 g/L of $^{133}\\!$Cs </span>\n",
    "1. <span style=\"color:blue\"> 20 g/L of $^{88}\\!$Sr </span>\n",
    "1. <span style=\"color:blue\"> 12 g/L of $^{140}\\!$Ce </span>\n",
    "1. <span style=\"color:blue\"> 6 M HNO$_3$ </span>\n",
    "\n",
    "<span style=\"color:blue\">Classify this waste as best as you can using resources covered in the course and make recommendations for disposal.</span>"
   ]
  },
  {
   "cell_type": "markdown",
   "metadata": {},
   "source": [
    "Answer:"
   ]
  },
  {
   "cell_type": "markdown",
   "metadata": {},
   "source": [
    "### Problem 2 (50 pts)<a id=\"p1\"></a>"
   ]
  },
  {
   "cell_type": "markdown",
   "metadata": {},
   "source": [
    "#### <span style=\"color:blue\"> The evaporation problem covered in class is shown below with the condition of *equal pressure and temperature*. </span>\n",
    "\n",
    "1. <span style=\"color:blue\"> Develop a network-based set of governing equations to model the evolution of the mass concentration of the species involved. Explain your assumptions. </span>\n",
    "\n",
    "2. <span style=\"color:blue\"> How many parameters does your problem have? </span>\n",
    "\n",
    "3. <span style=\"color:blue\"> What physical condition must be used to help choose values for the parameters? Apply the condition to your model and comment on the results.</span>"
   ]
  },
  {
   "cell_type": "markdown",
   "metadata": {},
   "source": [
    "![](images/evaporation-problem.png)"
   ]
  },
  {
   "cell_type": "markdown",
   "metadata": {},
   "source": [
    "Answer:"
   ]
  }
 ],
 "metadata": {
  "kernelspec": {
   "display_name": "Python 3",
   "language": "python",
   "name": "python3"
  },
  "language_info": {
   "codemirror_mode": {
    "name": "ipython",
    "version": 3
   },
   "file_extension": ".py",
   "mimetype": "text/x-python",
   "name": "python",
   "nbconvert_exporter": "python",
   "pygments_lexer": "ipython3",
   "version": "3.7.1"
  },
  "latex_envs": {
   "LaTeX_envs_menu_present": true,
   "autoclose": false,
   "autocomplete": true,
   "bibliofile": "biblio.bib",
   "cite_by": "apalike",
   "current_citInitial": 1,
   "eqLabelWithNumbers": true,
   "eqNumInitial": 1,
   "hotkeys": {
    "equation": "Ctrl-E",
    "itemize": "Ctrl-I"
   },
   "labels_anchors": false,
   "latex_user_defs": false,
   "report_style_numbering": false,
   "user_envs_cfg": false
  }
 },
 "nbformat": 4,
 "nbformat_minor": 2
}
