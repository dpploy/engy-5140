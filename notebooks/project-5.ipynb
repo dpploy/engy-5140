{
 "cells": [
  {
   "cell_type": "markdown",
   "metadata": {},
   "source": [
    "Engy-5140: Chemical and Nuclear Waste Processing Fall 2019 UMass Lowell; Prof. V. F. de Almeida **06Dec2019**\n",
    "\n",
    "# Final Project 05 18Dec2019"
   ]
  },
  {
   "cell_type": "markdown",
   "metadata": {},
   "source": [
    "### Name: `your name`"
   ]
  },
  {
   "cell_type": "markdown",
   "metadata": {},
   "source": [
    "### <span style=\"color:red\">Guidance:</span>\n",
    " +  <span style=\"color:red\"> \n",
    "    Work within your team only. Be clear and complete in your answers.\n",
    "    </span>\n",
    " +  <span style=\"color:red\"> \n",
    "    Save your work frequently to a file locally to your computer.\n",
    "    </span>\n",
    " +  <span style=\"color:red\">\n",
    "    During your work and before submitting the final version do: `Kernel` -> `Restart & Run All`, to verify your notebook runs correctly.\n",
    "    </span>\n",
    " +  <span style=\"color:red\">\n",
    "    Save your file again.\n",
    "    </span>"
   ]
  },
  {
   "cell_type": "markdown",
   "metadata": {},
   "source": [
    "---\n",
    "### Table of Contents\n",
    "* [Problem Statement](#statement)\n",
    "* [Problem 1 (100 pts)](#p1)\n",
    "---"
   ]
  },
  {
   "cell_type": "markdown",
   "metadata": {},
   "source": [
    "### <span style=\"color:blue\"> Problem Statement </span> <a id=\"statement\"></a>\n",
    "\n",
    "#### <span style=\"color:blue\"> A mixture of 3 mol% CO$_2$ and 2 mol% of NH$_3$ is contacted with a slightly caustic water solution (assume the caustic solution has the properties of pure water) in an absorber. A 97% absorption of CO$_2$ is needed. The air-flow rate is 5,000 ft$^3$/minute at 60$^\\circ$F and 1 atm. It may be assumed that the equilibrium curve for CO$_2$ is $X_{\\text{CO}_2,\\text{G}}^*=1.75 X_{\\text{CO}_2,\\text{L}}$ where $X$ is the mole ratio of CO$_2$ to CO$_2$-free carrier. The NH$_3$ solubility follows Henry's law, $P_{\\text{NH}_3,\\text{G}} = H x_{\\text{NH}_3,\\text{L}}$, where the partial pressure of ammonia in the gas is proportional to the molar fraction in the liquid phase, and $H=2.7$ atm/mole fraction. A 90% absorption of ammonia is needed. Using the network modeling approach covered in this course, address the items to follow (based on Seader, Henly, and Roper textbook Separation Process Principles Chap. 6, 2016). </span>"
   ]
  },
  {
   "cell_type": "markdown",
   "metadata": {},
   "source": [
    "### <span style=\"color:blue\"> Problem 1 (100 pts) </span> <a id=\"p1\"></a>"
   ]
  },
  {
   "cell_type": "markdown",
   "metadata": {},
   "source": [
    "1. <span style=\"color:blue\"> Design a trayed column and provide construction/operation parameters. </span>\n",
    "2. <span style=\"color:blue\"> What are the efficiencies of your absorber? </span>\n",
    "4. <span style=\"color:blue\"> What are the masses of CO$_2$ and NH$_3$ per day leaving the tower in the gas phase?</span>\n",
    "5. <span style=\"color:blue\"> Describe the hazards to humans if the exiting air is inhaled.</span>"
   ]
  },
  {
   "cell_type": "markdown",
   "metadata": {},
   "source": [
    "Answers:"
   ]
  }
 ],
 "metadata": {
  "kernelspec": {
   "display_name": "Python 3",
   "language": "python",
   "name": "python3"
  },
  "language_info": {
   "codemirror_mode": {
    "name": "ipython",
    "version": 3
   },
   "file_extension": ".py",
   "mimetype": "text/x-python",
   "name": "python",
   "nbconvert_exporter": "python",
   "pygments_lexer": "ipython3",
   "version": "3.7.1"
  },
  "latex_envs": {
   "LaTeX_envs_menu_present": true,
   "autoclose": false,
   "autocomplete": true,
   "bibliofile": "biblio.bib",
   "cite_by": "apalike",
   "current_citInitial": 1,
   "eqLabelWithNumbers": true,
   "eqNumInitial": 1,
   "hotkeys": {
    "equation": "Ctrl-E",
    "itemize": "Ctrl-I"
   },
   "labels_anchors": false,
   "latex_user_defs": false,
   "report_style_numbering": false,
   "user_envs_cfg": false
  }
 },
 "nbformat": 4,
 "nbformat_minor": 2
}
