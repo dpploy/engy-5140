{
 "cells": [
  {
   "cell_type": "markdown",
   "metadata": {},
   "source": [
    "Engy-5140: Chemical and Nuclear Waste Processing Fall 2019 UMass Lowell; Prof. V. F. de Almeida **14Nov2019**\n",
    "\n",
    "# Homework 04 14Nov2019"
   ]
  },
  {
   "cell_type": "markdown",
   "metadata": {},
   "source": [
    "### Name: `your name`"
   ]
  },
  {
   "cell_type": "markdown",
   "metadata": {},
   "source": [
    "### <span style=\"color:red\">Guidance:</span>\n",
    " +  <span style=\"color:red\"> \n",
    "    Individual work. Be clear and complete in your answers.\n",
    "    </span>\n",
    " +  <span style=\"color:red\"> \n",
    "    Save your work frequently to a file locally to your computer.\n",
    "    </span>\n",
    " +  <span style=\"color:red\">\n",
    "    During your work and before submitting the final version do: `Kernel` -> `Restart & Run All`, to verify your notebook runs correctly.\n",
    "    </span>\n",
    " +  <span style=\"color:red\">\n",
    "    Save your file again.\n",
    "    </span>"
   ]
  },
  {
   "cell_type": "markdown",
   "metadata": {},
   "source": [
    "---\n",
    "### Table of Contents\n",
    "* [Problem Statement](#statement)\n",
    "* [Problem 1 (100 pts)](#p1)\n",
    "---"
   ]
  },
  {
   "cell_type": "markdown",
   "metadata": {},
   "source": [
    "### <span style=\"color:blue\"> Problem Statement </span> <a id=\"statement\"></a>\n",
    "\n",
    "#### <span style=\"color:blue\"> Ground water at volumetric flow rate of 1,500 gpm, containing three volatile organic compounds (VOCs), is to be treated by countercurrent air stripping in a trayed column to produce drinking water that meets EPA standards (see data below). </span>\n",
    "\n",
    "\n",
    "| Component | K-value | Groundwater (ppm) | EPA drinking water tolerance (ppm) | ($\\mu$g/L) |\n",
    "| --------- | ------- | ----------- | ---------------------------- |----|\n",
    "| 1,2-Dichloroethane (DCA) | 60 | 85 | 0.005 | 5 |\n",
    "| Trichloroethylene (TCE) | 650 | 120 | 0.005 |  5 |\n",
    "| 1,1,1-Trichloroethane (TCA) | 275 | 145 | 0.200 | 200 |\n",
    "\n",
    "ppm is parts per million by mass (assume 1 ppm in water = 1 mg/L).\n",
    "\n",
    "#### <span style=\"color:blue\"> Using the network modeling approach covered in this course, provide answers to the problems below (based on Seader, Henly, and Roper textbook Separation Process Principles Chap. 6, 2016) . </span>"
   ]
  },
  {
   "cell_type": "markdown",
   "metadata": {},
   "source": [
    "### <span style=\"color:blue\"> Problem 1 (100 pts) </span> <a id=\"p1\"></a>"
   ]
  },
  {
   "cell_type": "markdown",
   "metadata": {},
   "source": [
    "1. <span style=\"color:blue\"> Design a column to be no taller than 10 m. </span>\n",
    "2. <span style=\"color:blue\"> What is the efficiency of your stripper. </span>\n",
    "3. <span style=\"color:blue\"> Show all steps on your calculation and provide a final summary of all the elements needed to construct the column.</span>"
   ]
  },
  {
   "cell_type": "markdown",
   "metadata": {},
   "source": [
    "Answers:"
   ]
  },
  {
   "cell_type": "code",
   "execution_count": null,
   "metadata": {},
   "outputs": [],
   "source": []
  }
 ],
 "metadata": {
  "kernelspec": {
   "display_name": "Python 3",
   "language": "python",
   "name": "python3"
  },
  "language_info": {
   "codemirror_mode": {
    "name": "ipython",
    "version": 3
   },
   "file_extension": ".py",
   "mimetype": "text/x-python",
   "name": "python",
   "nbconvert_exporter": "python",
   "pygments_lexer": "ipython3",
   "version": "3.7.1"
  },
  "latex_envs": {
   "LaTeX_envs_menu_present": true,
   "autoclose": false,
   "autocomplete": true,
   "bibliofile": "biblio.bib",
   "cite_by": "apalike",
   "current_citInitial": 1,
   "eqLabelWithNumbers": true,
   "eqNumInitial": 1,
   "hotkeys": {
    "equation": "Ctrl-E",
    "itemize": "Ctrl-I"
   },
   "labels_anchors": false,
   "latex_user_defs": false,
   "report_style_numbering": false,
   "user_envs_cfg": false
  }
 },
 "nbformat": 4,
 "nbformat_minor": 2
}
