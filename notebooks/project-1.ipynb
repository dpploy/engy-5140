{
 "cells": [
  {
   "cell_type": "markdown",
   "metadata": {},
   "source": [
    "Engy-5140: Chemical and Nuclear Waste Processing Fall 2019 UMass Lowell; Prof. V. F. de Almeida **06Dec2019**\n",
    "\n",
    "# Final Project 01 18Dec2019"
   ]
  },
  {
   "cell_type": "markdown",
   "metadata": {},
   "source": [
    "### Name: `your name`"
   ]
  },
  {
   "cell_type": "markdown",
   "metadata": {},
   "source": [
    "### <span style=\"color:red\">Guidance:</span>\n",
    " +  <span style=\"color:red\"> \n",
    "    Work within your team only. Be clear and complete in your answers.\n",
    "    </span>\n",
    " +  <span style=\"color:red\"> \n",
    "    Save your work frequently to a file locally to your computer.\n",
    "    </span>\n",
    " +  <span style=\"color:red\">\n",
    "    During your work and before submitting the final version do: `Kernel` -> `Restart & Run All`, to verify your notebook runs correctly.\n",
    "    </span>\n",
    " +  <span style=\"color:red\">\n",
    "    Save your file again.\n",
    "    </span>"
   ]
  },
  {
   "cell_type": "markdown",
   "metadata": {},
   "source": [
    "---\n",
    "### Table of Contents\n",
    "* [Problem Statement](#statement)\n",
    "* [Problem 1 (100 pts)](#p1)\n",
    "---"
   ]
  },
  {
   "cell_type": "markdown",
   "metadata": {},
   "source": [
    "### <span style=\"color:blue\"> Problem Statement </span> <a id=\"statement\"></a>\n",
    "\n",
    "#### <span style=\"color:blue\"> A solvent-cleanup plant consists of an absorber column followed by a stripper column. 90% of benzene (B) in the inlet air stream (A) which contains 0.06 mol B/mol B-free gas, is to be removed from the air in the absorber. The silicon oil, polydimethylsiloxane (PDMS), entering the top of the tower contains 0.01 mol B/mol of pure PDMS. The operating temperature is 25 C and pressure 1 bar, and the molar flow rate of the air is 45 kmol/h.</span>\n",
    "\n",
    "#### <span style=\"color:blue\"> Superheated steam (S) is used in the stripper to remove benzene from the benzene-rich PDMS at 110 C. Concentration of benzene in the oil is 0.01, in mole ratio, at the outlet of the oil. The PDMS (pure)-to-steam (benzene-free) flow rate ratio = 2.0. The benzene equilibrium data are provided in the following table:</span>\n",
    "\n",
    "\n",
    "| $X_{B,P}$ (in Oil) | $X_{B,A}$ (in Air), 25 C | $X_{B,S}$ (in Steam), 110 C |\n",
    "| ---------| -------------- | ----------------- |\n",
    "| 0        | 0              | 0                 |   \n",
    "| 0.04     | 0.011          | 0.10              | \n",
    "| 0.08     | 0.0215         | 0.21              | \n",
    "| 0.12     | 0.032          | 0.33              | \n",
    "| 0.16     | 0.042          | 0.47              | \n",
    "| 0.20     | 0.0515         | 0.62              | \n",
    "| 0.24     | 0.060          | 0.795             | \n",
    "| 0.28     | 0.068          | 1.05              |\n",
    "\n",
    "#### <span style=\"color:blue\"> Using the network modeling approach covered in this course, provide answers to the questions below (based on Seader, Henly, and Roper textbook Separation Process Principles Chap. 6, 2016) . </span>"
   ]
  },
  {
   "cell_type": "markdown",
   "metadata": {},
   "source": [
    "### <span style=\"color:blue\"> Problem 1 (100 pts) </span> <a id=\"p1\"></a>"
   ]
  },
  {
   "cell_type": "markdown",
   "metadata": {},
   "source": [
    "1. <span style=\"color:blue\"> Design both columns and provide construction/operation parameters. </span>\n",
    "2. <span style=\"color:blue\"> What is the efficiency of your stripper and absorber? </span>\n",
    "3. <span style=\"color:blue\"> If the air is vented to the environment what is the mass of benzene per day released?</span>\n",
    "4. <span style=\"color:blue\"> What is the mass of benzene stored per day?</span>\n",
    "5. <span style=\"color:blue\"> Describe the hazards to humans if exposed to the air released.</span>"
   ]
  },
  {
   "cell_type": "markdown",
   "metadata": {},
   "source": [
    "Answers:"
   ]
  }
 ],
 "metadata": {
  "kernelspec": {
   "display_name": "Python 3",
   "language": "python",
   "name": "python3"
  },
  "language_info": {
   "codemirror_mode": {
    "name": "ipython",
    "version": 3
   },
   "file_extension": ".py",
   "mimetype": "text/x-python",
   "name": "python",
   "nbconvert_exporter": "python",
   "pygments_lexer": "ipython3",
   "version": "3.7.1"
  },
  "latex_envs": {
   "LaTeX_envs_menu_present": true,
   "autoclose": false,
   "autocomplete": true,
   "bibliofile": "biblio.bib",
   "cite_by": "apalike",
   "current_citInitial": 1,
   "eqLabelWithNumbers": true,
   "eqNumInitial": 1,
   "hotkeys": {
    "equation": "Ctrl-E",
    "itemize": "Ctrl-I"
   },
   "labels_anchors": false,
   "latex_user_defs": false,
   "report_style_numbering": false,
   "user_envs_cfg": false
  }
 },
 "nbformat": 4,
 "nbformat_minor": 2
}
